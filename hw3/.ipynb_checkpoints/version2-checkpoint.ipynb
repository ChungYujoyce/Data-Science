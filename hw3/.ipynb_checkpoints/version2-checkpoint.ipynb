{
 "cells": [
  {
   "cell_type": "code",
   "execution_count": 1,
   "metadata": {},
   "outputs": [],
   "source": [
    "import pandas as pd\n",
    "import numpy as np\n",
    "import matplotlib.pyplot as plt"
   ]
  },
  {
   "cell_type": "code",
   "execution_count": 2,
   "metadata": {},
   "outputs": [],
   "source": [
    "df = pd.read_csv('processedDataNorm.csv')\n",
    "dff = pd.read_csv('train.csv')\n",
    "train_end_idx = len(dff) \n",
    "df_test = pd.read_csv('test.csv')\n",
    "df_test['RainToday'] = np.zeros((len(df_test),))"
   ]
  },
  {
   "cell_type": "code",
   "execution_count": 3,
   "metadata": {},
   "outputs": [
    {
     "name": "stdout",
     "output_type": "stream",
     "text": [
      "No rain 94.74 % of the dataset\n",
      "rain 5.26 % of the dataset\n"
     ]
    }
   ],
   "source": [
    "from sklearn.model_selection import train_test_split, StratifiedShuffleSplit\n",
    "from sklearn.decomposition import PCA, FastICA\n",
    "from sklearn import preprocessing\n",
    "\n",
    "#pca = PCA(n_components=17, random_state=420) # (24609, 17)\n",
    "print('No rain', round(df['RainToday'].value_counts()[0]/len(df) * 100,2), '% of the dataset')\n",
    "print('rain', round(df['RainToday'].value_counts()[1]/len(df) * 100,2), '% of the dataset')\n",
    "\n",
    "X_train, X_test, y_train, y_test = train_test_split(\n",
    "    df.drop(columns = ['RainToday']).values[:train_end_idx, :],\n",
    "    df['RainToday'].values[:train_end_idx], test_size=0.3)\n",
    "X_ans = df.drop(columns = ['RainToday']).values[train_end_idx:, :]"
   ]
  },
  {
   "cell_type": "code",
   "execution_count": 8,
   "metadata": {},
   "outputs": [
    {
     "name": "stdout",
     "output_type": "stream",
     "text": [
      "Accuracy: 0.897032\n",
      "f1-score: 0.000000\n"
     ]
    }
   ],
   "source": [
    "from sklearn.tree import DecisionTreeClassifier\n",
    "from sklearn.metrics import accuracy_score, f1_score\n",
    "from sklearn.ensemble import RandomForestClassifier, BaggingClassifier, AdaBoostClassifier\n",
    "from sklearn.linear_model import SGDClassifier, LogisticRegression, SGDRegressor\n",
    "from sklearn.naive_bayes import GaussianNB\n",
    "from sklearn.ensemble import VotingClassifier\n",
    "from sklearn.neighbors import KNeighborsClassifier\n",
    "\n",
    "#final_dt = DecisionTreeClassifier()                   \n",
    "#final_bc = BaggingClassifier(base_estimator=final_dt, n_estimators=10, random_state=0, oob_score=True) \n",
    "\n",
    "#final_bc.fit(X_train, y_train)\n",
    "#y_pred_decision = final_bc.predict(X_test) # 0.244\n",
    "model1 = DecisionTreeClassifier(random_state=101, criterion=\"entropy\", min_samples_leaf=4, min_samples_split=9) # 0.279\n",
    "model3 = RandomForestClassifier(n_estimators= 17, random_state=101) #0.236\n",
    "model4 = SGDClassifier(loss='modified_huber', shuffle=True, random_state=101)#, alpha=0.00011) #0.019\n",
    "model6 = GaussianNB() # 0.31\n",
    "model7 = AdaBoostClassifier(n_estimators=80, learning_rate= 1.4, random_state=101) # 0.27\n",
    "#model.fit(X_train, y_train)\n",
    "model = LogisticRegression(solver=\"lbfgs\")\n",
    "#model = VotingClassifier(estimators=[('d6', model6), ('d3', model7)], voting='soft')\n",
    "model.fit(X_train, y_train) #  0.409821\n",
    "#model = GaussianNB()\n",
    "#model1.fit(X_train,y_train)\n",
    "\n",
    "y_pred_decision = model.predict(X_test)\n",
    "print('Accuracy: %f' % accuracy_score(y_test, y_pred_decision))\n",
    "print('f1-score: %f' % f1_score(y_test, y_pred_decision))"
   ]
  },
  {
   "cell_type": "code",
   "execution_count": 7,
   "metadata": {},
   "outputs": [],
   "source": [
    "ans_pred = model.predict(X_ans)\n",
    "df_sap = pd.DataFrame(ans_pred.astype(int), columns = ['RainToday'])\n",
    "df_sap.to_csv('myAns.csv',  index_label = 'Id')"
   ]
  },
  {
   "cell_type": "code",
   "execution_count": null,
   "metadata": {},
   "outputs": [],
   "source": []
  }
 ],
 "metadata": {
  "kernelspec": {
   "display_name": "Python 3",
   "language": "python",
   "name": "python3"
  },
  "language_info": {
   "codemirror_mode": {
    "name": "ipython",
    "version": 3
   },
   "file_extension": ".py",
   "mimetype": "text/x-python",
   "name": "python",
   "nbconvert_exporter": "python",
   "pygments_lexer": "ipython3",
   "version": "3.7.3"
  }
 },
 "nbformat": 4,
 "nbformat_minor": 2
}

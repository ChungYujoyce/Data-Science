{
 "cells": [
  {
   "cell_type": "code",
   "execution_count": 3,
   "metadata": {},
   "outputs": [
    {
     "name": "stderr",
     "output_type": "stream",
     "text": [
      "[nltk_data] Downloading package punkt to\n",
      "[nltk_data]     C:\\Users\\USER\\AppData\\Roaming\\nltk_data...\n",
      "[nltk_data]   Package punkt is already up-to-date!\n"
     ]
    },
    {
     "data": {
      "text/plain": [
       "True"
      ]
     },
     "execution_count": 3,
     "metadata": {},
     "output_type": "execute_result"
    }
   ],
   "source": [
    "import nltk,os\n",
    "import requests\n",
    "import re\n",
    "import pandas as pd\n",
    "nltk.download('punkt')"
   ]
  },
  {
   "cell_type": "code",
   "execution_count": 47,
   "metadata": {},
   "outputs": [
    {
     "name": "stdout",
     "output_type": "stream",
     "text": [
      "s\n"
     ]
    }
   ],
   "source": [
    "import pandas as pd\n",
    "import pickle\n",
    "from sklearn.feature_extraction.text import TfidfVectorizer\n",
    "from sklearn.metrics.pairwise import linear_kernel\n",
    "\n",
    "path_df = \"Pickles/News_dataset.pickle\"\n",
    "\n",
    "with open(path_df, 'rb') as data:\n",
    "    ds = pickle.load(data)\n",
    "\n",
    "if type(14) == int:\n",
    "    print(\"s\")"
   ]
  },
  {
   "cell_type": "code",
   "execution_count": null,
   "metadata": {},
   "outputs": [],
   "source": [
    "import pandas as pd\n",
    "from sklearn.feature_extraction.text import TfidfVectorizer\n",
    "from sklearn.metrics.pairwise import linear_kernel\n",
    "\n",
    "path_df = \"Pickles/News_dataset.pickle\"\n",
    "\n",
    "with open(path_df, 'rb') as data:\n",
    "    ds = pickle.load(data)\n",
    "\n",
    "ids  = [i for i in range(len(ds))]\n",
    "idf = pd.DataFrame(ids)\n",
    "ds = pd.concat([ds, ids],axis=1, ignore_index=True)\n",
    "tf = TfidfVectorizer(analyzer='word', ngram_range=(1, 3), min_df=0, stop_words='english')\n",
    "tfidf_matrix = tf.fit_transform(ds['Content'])\n",
    "\n",
    "cosine_similarities = linear_kernel(tfidf_matrix, tfidf_matrix)\n",
    "\n",
    "results = {}\n",
    "\n",
    "for idx, row in ds.iterrows():\n",
    "    similar_indices = cosine_similarities[idx].argsort()[:-100:-1]\n",
    "    similar_items = [(cosine_similarities[idx][i], ds['id'][i]) for i in similar_indices]\n",
    "\n",
    "    results[row['id']] = similar_items[1:]\n",
    "    \n",
    "print('done!')\n",
    "\n",
    "def item(id):\n",
    "    return ds.loc[ds['id'] == id]['Title'].tolist()[0]\n",
    "\n",
    "# Just reads the results out of the dictionary.\n",
    "def recommend(item_id, num):\n",
    "    print(\"Recommending \" + str(num) + \" products similar to \" + item(item_id) + \"...\")\n",
    "    print(\"-------\")\n",
    "    recs = results[item_id][:num]\n",
    "    for rec in recs:\n",
    "        print(\"Recommended: \" + item(rec[1]) + \" (score:\" + str(rec[0]) + \")\")\n",
    "\n",
    "recommend(item_id=11, num=10)"
   ]
  },
  {
   "cell_type": "code",
   "execution_count": null,
   "metadata": {},
   "outputs": [],
   "source": [
    "import pickle, time, os\n",
    "from datetime import datetime\n",
    "\n",
    "path_df = \"Pickles/News_dataset.pickle\"\n",
    "\n",
    "with open(path_df, 'rb') as data:\n",
    "    df = pickle.load(data)\n",
    "\n",
    "doc_all = {}\n",
    "\n",
    "for i in range(len(df)):\n",
    "    doc_all[df.loc[i]['Title']] = df.loc[i]['Content'].split()\n",
    "    \n",
    "print(len(doc_all))"
   ]
  },
  {
   "cell_type": "code",
   "execution_count": null,
   "metadata": {
    "scrolled": true
   },
   "outputs": [],
   "source": [
    "now = datetime.now()\n",
    "current_time = now.strftime(\"%H:%M:%S\")\n",
    "start = time.time()\n",
    "#create bag words\n",
    "bag_words =[] # declare bag_words is a list\n",
    "for doc in doc_all.keys():\n",
    "    bag_words += doc_all[doc]\n",
    "bag_words=set(bag_words)\n",
    "#calculate idf for every word in bag_words\n",
    "bag_words_idf={}  \n",
    "bag_words_len = len(bag_words)\n",
    "bag_word_10 = round(bag_words_len/10,0)\n",
    "print(\"the number of term in bag_word\", bag_words_len)"
   ]
  },
  {
   "cell_type": "code",
   "execution_count": null,
   "metadata": {},
   "outputs": [],
   "source": [
    "import nltk,os\n",
    "import requests\n",
    "import re, pickle\n",
    "import pandas as pd\n",
    "nltk.download('punkt')\n",
    "import numpy as np\n",
    "\n",
    "path_df = \"./Pickles/tfidf_for_recommend.pickle\"\n",
    "\n",
    "with open(path_df, 'rb') as data:\n",
    "    tfidf = pickle.load(data)\n",
    "\n",
    "path_df = \"./Pickles/bag_words_idf.pickle\"\n",
    "\n",
    "with open(path_df, 'rb') as data:\n",
    "    bag_words_idf = pickle.load(data)"
   ]
  },
  {
   "cell_type": "code",
   "execution_count": null,
   "metadata": {},
   "outputs": [],
   "source": [
    "query=\"bad trump\"\n",
    "query_token_raw= nltk.word_tokenize(query)\n",
    "query_token = [term for term in query_token_raw if term in bag_words]\n",
    "\n",
    "tfidf_query =compute_tfidf_query(query_token,bag_words_idf) #calculate tfidf for query text\n",
    "print(tfidf_query)"
   ]
  },
  {
   "cell_type": "code",
   "execution_count": null,
   "metadata": {},
   "outputs": [],
   "source": [
    "# add tfidf of query text to tfidf of all doc and convert to dataframe\n",
    "tfidf[\"query\"] = tfidf_query\n",
    "\n",
    "tfidf_df = pd.DataFrame(tfidf).transpose()\n",
    "tfidf_df= tfidf_df.fillna(0) # replace all NaN by zero\n",
    "\n",
    "from scipy.spatial.distance import cosine\n",
    "cosine_sim ={}\n",
    "for row in tfidf_df.index:\n",
    "    if row != \"query\":\n",
    "        cosine_sim[row]= 1-cosine(tfidf_df.loc[row],tfidf_df.loc[\"query\"])\n",
    "\n",
    "# the top 10 relevant document\n",
    "cosine_sim_top10 = dict(sorted(cosine_sim.items(), key=lambda item: item[1],reverse=True)[:10])\n",
    "print(cosine_sim_top10)\n",
    "\n",
    "current_time = now.strftime(\"%H:%M:%S\")\n",
    "print(\"Finish tfidf processing at\", current_time)\n",
    "spent = time.time() - start\n",
    "print(\"\\nTotal spent time: \"+str(spent) +\"sec\\n\")"
   ]
  },
  {
   "cell_type": "code",
   "execution_count": null,
   "metadata": {},
   "outputs": [],
   "source": [
    "#plot barchart\n",
    "import matplotlib.pyplot as plt\n",
    "data = cosine_sim_top10\n",
    "plt.barh(range(len(data)), list(data.values()), align='center', alpha=0.8)\n",
    "plt.yticks(range(len(data)), list(data.keys())) # label for y axis\n",
    "plt.xlabel('Smimilarity score')\n",
    "plt.ylabel('news')\n",
    "\n",
    "# save graph\n",
    "\n",
    "plt.savefig(\"./recommand_barchart.png\", bbox_inches='tight', dpi=600)\n",
    "plt.show()"
   ]
  },
  {
   "cell_type": "code",
   "execution_count": null,
   "metadata": {},
   "outputs": [],
   "source": []
  },
  {
   "cell_type": "code",
   "execution_count": null,
   "metadata": {},
   "outputs": [],
   "source": []
  }
 ],
 "metadata": {
  "kernelspec": {
   "display_name": "Python 3",
   "language": "python",
   "name": "python3"
  },
  "language_info": {
   "codemirror_mode": {
    "name": "ipython",
    "version": 3
   },
   "file_extension": ".py",
   "mimetype": "text/x-python",
   "name": "python",
   "nbconvert_exporter": "python",
   "pygments_lexer": "ipython3",
   "version": "3.7.3"
  }
 },
 "nbformat": 4,
 "nbformat_minor": 2
}

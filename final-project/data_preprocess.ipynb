{
 "cells": [
  {
   "cell_type": "code",
   "execution_count": 1,
   "metadata": {},
   "outputs": [],
   "source": [
    "import warnings\n",
    "warnings.filterwarnings(\"ignore\")\n",
    "import pandas as pd\n",
    "import matplotlib.pyplot as plt\n",
    "import pickle\n",
    "import seaborn as sns\n",
    "import os, sys\n",
    "import requests"
   ]
  },
  {
   "cell_type": "code",
   "execution_count": 2,
   "metadata": {},
   "outputs": [
    {
     "data": {
      "text/plain": [
       "2367"
      ]
     },
     "execution_count": 2,
     "metadata": {},
     "output_type": "execute_result"
    }
   ],
   "source": [
    "pickle1 = \"./Pickles/china_center.pickle\"\n",
    "pickle2 = \"./Pickles/coro_center.pickle\"\n",
    "pickle3 = \"./Pickles/ele_center.pickle\"\n",
    "\n",
    "with open(pickle1, 'rb') as data:\n",
    "    dff1 = pickle.load(data)\n",
    "\n",
    "with open(pickle2, 'rb') as data:\n",
    "    dff2 = pickle.load(data)\n",
    "    \n",
    "with open(pickle3, 'rb') as data:\n",
    "    dff3 = pickle.load(data)\n",
    "    \n",
    "dff1 = pd.DataFrame(dff1)\n",
    "dff2 = pd.DataFrame(dff2)\n",
    "dff3 = pd.DataFrame(dff3)\n",
    "len(dff1+dff2+dff3)"
   ]
  },
  {
   "cell_type": "code",
   "execution_count": 3,
   "metadata": {},
   "outputs": [],
   "source": [
    "path = \"./dataset/central/txt_file/\" # central data\n",
    "names = []\n",
    "    \n",
    "for i in range(322):\n",
    "    names.append(\"china_\"+str(i)+\".txt\")\n",
    "    \n",
    "for i in range(828):\n",
    "    names.append(\"corona_\"+str(i)+\".txt\")\n",
    "    \n",
    "for i in range(2367):\n",
    "    names.append(\"elec_\"+str(i)+\".txt\")"
   ]
  },
  {
   "cell_type": "code",
   "execution_count": 4,
   "metadata": {},
   "outputs": [
    {
     "name": "stdout",
     "output_type": "stream",
     "text": [
      "Why China scares politicians of all stripes\n"
     ]
    }
   ],
   "source": [
    "print(dff1.loc[158]['title'])"
   ]
  },
  {
   "cell_type": "code",
   "execution_count": 5,
   "metadata": {},
   "outputs": [],
   "source": [
    "news = []\n",
    "titles = []\n",
    "links = []\n",
    "df = pd.DataFrame()\n",
    "count1 = 0\n",
    "count2 = 0 \n",
    "count3 = 0 \n",
    "for filename in names:\n",
    "    #title = filename.split('.')[0]\n",
    "    tmp = filename[:3]\n",
    "    filename = path + filename\n",
    "    tmp_count = len(news)\n",
    "    with open(filename, \"r\" , encoding='utf-8') as file:\n",
    "        text = file.read()\n",
    "        news.append(text) \n",
    "        #if tmp_count < len(news):\n",
    "        if tmp == \"chi\":\n",
    "            #if type(dff1.loc[count1]['title']) == float:\n",
    "             #   dff1.loc[count1]['title'] = \"tmp\"\n",
    "              #  print(\"tmp\")\n",
    "            titles.append(dff1.loc[count1]['title']+\"_\"+ dff1.loc[count1]['link'][10:22])\n",
    "            links.append(dff1.loc[count1]['link'])\n",
    "            count1 += 1\n",
    "        elif tmp == \"cor\":\n",
    "            titles.append(dff2.loc[count2]['title']+\"_\"+ dff2.loc[count2]['link'][10:22])\n",
    "            links.append(dff2.loc[count2]['link'])\n",
    "            count2 += 1\n",
    "        else:\n",
    "            titles.append(dff3.loc[count3]['title']+\"_\"+ dff3.loc[count3]['link'][10:22])   \n",
    "            links.append(dff3.loc[count3]['link'])\n",
    "            count3 += 1\n",
    "            \n",
    "            \n",
    "lables = [\"central\" for i in range(len(news))]\n",
    "df['Content'] = list(news)\n",
    "df['Category'] = lables\n",
    "df['Title'] = titles\n",
    "df['Link'] = links"
   ]
  },
  {
   "cell_type": "markdown",
   "metadata": {},
   "source": [
    "### Central data info"
   ]
  },
  {
   "cell_type": "code",
   "execution_count": 6,
   "metadata": {},
   "outputs": [],
   "source": [
    "df['News_length'] = df['Content'].str.len()"
   ]
  },
  {
   "cell_type": "code",
   "execution_count": 7,
   "metadata": {
    "scrolled": true
   },
   "outputs": [
    {
     "data": {
      "image/png": "[encoded data removed]",
      "text/plain": [
       "<Figure size 921.6x432 with 1 Axes>"
      ]
     },
     "metadata": {
      "needs_background": "light"
     },
     "output_type": "display_data"
    }
   ],
   "source": [
    "plt.figure(figsize=(12.8,6))\n",
    "sns.distplot(df['News_length']).set_title('Central News length distribution');"
   ]
  },
  {
   "cell_type": "code",
   "execution_count": 8,
   "metadata": {
    "scrolled": false
   },
   "outputs": [
    {
     "data": {
      "text/plain": [
       "count      3517.000000\n",
       "mean       5383.443844\n",
       "std        5963.509134\n",
       "min           0.000000\n",
       "25%        1953.000000\n",
       "50%        4740.000000\n",
       "75%        7298.000000\n",
       "max      107893.000000\n",
       "Name: News_length, dtype: float64"
      ]
     },
     "execution_count": 8,
     "metadata": {},
     "output_type": "execute_result"
    }
   ],
   "source": [
    "df['News_length'].describe()"
   ]
  },
  {
   "cell_type": "code",
   "execution_count": 9,
   "metadata": {},
   "outputs": [
    {
     "data": {
      "text/plain": [
       "552"
      ]
     },
     "execution_count": 9,
     "metadata": {},
     "output_type": "execute_result"
    }
   ],
   "source": [
    "df_more10k = df[df['News_length'] < 50]\n",
    "len(df_more10k)"
   ]
  },
  {
   "cell_type": "markdown",
   "metadata": {},
   "source": [
    "Remove from the 95% percentile onwards to better appreciate the histogram:"
   ]
  },
  {
   "cell_type": "code",
   "execution_count": 10,
   "metadata": {},
   "outputs": [],
   "source": [
    "quantile_95 = df['News_length'].quantile(0.95)\n",
    "df_95 = df[df['News_length'] > 200]\n"
   ]
  },
  {
   "cell_type": "code",
   "execution_count": 11,
   "metadata": {
    "scrolled": true
   },
   "outputs": [
    {
     "data": {
      "image/png": "[encoded data removed]",
      "text/plain": [
       "<Figure size 921.6x432 with 1 Axes>"
      ]
     },
     "metadata": {
      "needs_background": "light"
     },
     "output_type": "display_data"
    }
   ],
   "source": [
    "plt.figure(figsize=(12.8,6))\n",
    "sns.distplot(df_95['News_length']).set_title('Central News length distribution');"
   ]
  },
  {
   "cell_type": "code",
   "execution_count": 12,
   "metadata": {},
   "outputs": [
    {
     "data": {
      "text/plain": [
       "count      2961.000000\n",
       "mean       6394.090848\n",
       "std        5981.675360\n",
       "min         221.000000\n",
       "25%        3522.000000\n",
       "50%        5445.000000\n",
       "75%        7900.000000\n",
       "max      107893.000000\n",
       "Name: News_length, dtype: float64"
      ]
     },
     "execution_count": 12,
     "metadata": {},
     "output_type": "execute_result"
    }
   ],
   "source": [
    "df_95['News_length'].describe()"
   ]
  },
  {
   "cell_type": "code",
   "execution_count": 13,
   "metadata": {},
   "outputs": [
    {
     "data": {
      "text/plain": [
       "385"
      ]
     },
     "execution_count": 13,
     "metadata": {},
     "output_type": "execute_result"
    }
   ],
   "source": [
    "df_more10k = df[df['News_length'] > 10000]\n",
    "len(df_more10k)"
   ]
  },
  {
   "cell_type": "code",
   "execution_count": 14,
   "metadata": {},
   "outputs": [
    {
     "data": {
      "text/plain": [
       "3177"
      ]
     },
     "execution_count": 14,
     "metadata": {},
     "output_type": "execute_result"
    }
   ],
   "source": [
    "pickle1 = \"./Pickles/china_left.pickle\"\n",
    "pickle2 = \"./Pickles/coro_left.pickle\"\n",
    "pickle3 = \"./Pickles/ele_left.pickle\"\n",
    "\n",
    "with open(pickle1, 'rb') as data:\n",
    "    dff1 = pickle.load(data)\n",
    "\n",
    "with open(pickle2, 'rb') as data:\n",
    "    dff2 = pickle.load(data)\n",
    "    \n",
    "with open(pickle3, 'rb') as data:\n",
    "    dff3 = pickle.load(data)\n",
    "    \n",
    "dff1 = pd.DataFrame(dff1)\n",
    "dff2 = pd.DataFrame(dff2)\n",
    "dff3 = pd.DataFrame(dff3)\n",
    "len(dff1+dff2+dff3)"
   ]
  },
  {
   "cell_type": "code",
   "execution_count": 15,
   "metadata": {},
   "outputs": [],
   "source": [
    "path = \"./dataset/free_left/txt_file/\" # leftt wing data\n",
    "names = []\n",
    "    \n",
    "for i in range(182):\n",
    "    names.append(\"china_\"+str(i)+\".txt\")\n",
    "    \n",
    "for i in range(634):\n",
    "    names.append(\"corona_\"+str(i)+\".txt\")\n",
    "    \n",
    "for i in range(3177):\n",
    "    names.append(\"elec_\"+str(i)+\".txt\")"
   ]
  },
  {
   "cell_type": "code",
   "execution_count": 16,
   "metadata": {},
   "outputs": [],
   "source": [
    "news = []\n",
    "titles = []\n",
    "links = []\n",
    "df2 = pd.DataFrame()\n",
    "count1 = 0\n",
    "count2 = 0 \n",
    "count3 = 0 \n",
    "for filename in names:\n",
    "    #title = filename.split('.')[0]\n",
    "    tmp = filename[:3]\n",
    "    filename = path + filename\n",
    "    tmp_count = len(news)\n",
    "    with open(filename, \"r\" , encoding='utf-8') as file:\n",
    "        text = file.read()\n",
    "        news.append(text) \n",
    "        #if tmp_count < len(news):\n",
    "        if tmp == \"chi\":\n",
    "            titles.append(dff1.loc[count1]['title']+\"_\"+ dff1.loc[count1]['link'][10:22])\n",
    "            links.append(dff1.loc[count1]['link'])\n",
    "            count1 += 1\n",
    "        elif tmp == \"cor\":\n",
    "            titles.append(dff2.loc[count2]['title']+\"_\"+ dff2.loc[count2]['link'][10:22])\n",
    "            links.append(dff2.loc[count2]['link'])\n",
    "            count2 += 1\n",
    "        else:\n",
    "            titles.append(dff3.loc[count3]['title']+\"_\"+ dff3.loc[count3]['link'][10:22])   \n",
    "            links.append(dff3.loc[count3]['link'])\n",
    "            count3 += 1\n",
    "            \n",
    "            \n",
    "lables = [\"left\" for i in range(len(news))]\n",
    "df2['Content'] = news\n",
    "df2['Category'] = lables\n",
    "df2['Title'] = titles\n",
    "df2['Link'] = links"
   ]
  },
  {
   "cell_type": "markdown",
   "metadata": {},
   "source": [
    "### Left data info"
   ]
  },
  {
   "cell_type": "code",
   "execution_count": 17,
   "metadata": {},
   "outputs": [],
   "source": [
    "df2['News_length'] = df2['Content'].str.len()"
   ]
  },
  {
   "cell_type": "code",
   "execution_count": 18,
   "metadata": {},
   "outputs": [
    {
     "data": {
      "image/png": "[encoded data removed]",
      "text/plain": [
       "<Figure size 921.6x432 with 1 Axes>"
      ]
     },
     "metadata": {
      "needs_background": "light"
     },
     "output_type": "display_data"
    }
   ],
   "source": [
    "plt.figure(figsize=(12.8,6))\n",
    "sns.distplot(df2['News_length']).set_title('Left News length distribution');"
   ]
  },
  {
   "cell_type": "code",
   "execution_count": 19,
   "metadata": {},
   "outputs": [
    {
     "data": {
      "text/plain": [
       "count      3993.000000\n",
       "mean       6966.324067\n",
       "std        9340.448405\n",
       "min           0.000000\n",
       "25%        2084.000000\n",
       "50%        5883.000000\n",
       "75%        8837.000000\n",
       "max      156053.000000\n",
       "Name: News_length, dtype: float64"
      ]
     },
     "execution_count": 19,
     "metadata": {},
     "output_type": "execute_result"
    }
   ],
   "source": [
    "df2['News_length'].describe()"
   ]
  },
  {
   "cell_type": "code",
   "execution_count": 20,
   "metadata": {},
   "outputs": [
    {
     "data": {
      "text/plain": [
       "717"
      ]
     },
     "execution_count": 20,
     "metadata": {},
     "output_type": "execute_result"
    }
   ],
   "source": [
    "df_more10k = df2[df2['News_length'] > 10000]\n",
    "len(df_more10k)"
   ]
  },
  {
   "cell_type": "code",
   "execution_count": 21,
   "metadata": {},
   "outputs": [],
   "source": [
    "quantile_95_2 = df2['News_length'].quantile(0.95)\n",
    "df_95_2 = df2[df2['News_length'] > 300]"
   ]
  },
  {
   "cell_type": "code",
   "execution_count": 22,
   "metadata": {},
   "outputs": [
    {
     "data": {
      "text/plain": [
       "count      3521.000000\n",
       "mean       7894.646123\n",
       "std        9573.343823\n",
       "min         301.000000\n",
       "25%        3853.000000\n",
       "50%        6535.000000\n",
       "75%        9256.000000\n",
       "max      156053.000000\n",
       "Name: News_length, dtype: float64"
      ]
     },
     "execution_count": 22,
     "metadata": {},
     "output_type": "execute_result"
    }
   ],
   "source": [
    "df_95_2['News_length'].describe()"
   ]
  },
  {
   "cell_type": "code",
   "execution_count": 23,
   "metadata": {
    "scrolled": true
   },
   "outputs": [
    {
     "data": {
      "image/png": "[encoded data removed]",
      "text/plain": [
       "<Figure size 921.6x432 with 1 Axes>"
      ]
     },
     "metadata": {
      "needs_background": "light"
     },
     "output_type": "display_data"
    }
   ],
   "source": [
    "plt.figure(figsize=(12.8,6))\n",
    "sns.distplot(df_95_2['News_length']).set_title('Left News length distribution');"
   ]
  },
  {
   "cell_type": "code",
   "execution_count": 24,
   "metadata": {},
   "outputs": [
    {
     "data": {
      "text/plain": [
       "2935"
      ]
     },
     "execution_count": 24,
     "metadata": {},
     "output_type": "execute_result"
    }
   ],
   "source": [
    "pickle1 = \"./Pickles/china_right.pickle\"\n",
    "pickle2 = \"./Pickles/coro_right.pickle\"\n",
    "pickle3 = \"./Pickles/ele_right.pickle\"\n",
    "\n",
    "with open(pickle1, 'rb') as data:\n",
    "    dff1 = pickle.load(data)\n",
    "\n",
    "with open(pickle2, 'rb') as data:\n",
    "    dff2 = pickle.load(data)\n",
    "    \n",
    "with open(pickle3, 'rb') as data:\n",
    "    dff3 = pickle.load(data)\n",
    "    \n",
    "dff1 = pd.DataFrame(dff1)\n",
    "dff2 = pd.DataFrame(dff2)\n",
    "dff3 = pd.DataFrame(dff3)\n",
    "len(dff1+dff2+dff3)"
   ]
  },
  {
   "cell_type": "code",
   "execution_count": 25,
   "metadata": {},
   "outputs": [],
   "source": [
    "path = \"./dataset/conserve_right/txt_file/\" # leftt wing data\n",
    "\n",
    "names = []\n",
    "    \n",
    "for i in range(158):\n",
    "    names.append(\"china_\"+str(i)+\".txt\")\n",
    "    \n",
    "for i in range(581):\n",
    "    names.append(\"corona_\"+str(i)+\".txt\")\n",
    "    \n",
    "for i in range(2735):\n",
    "    names.append(\"elec_\"+str(i)+\".txt\")"
   ]
  },
  {
   "cell_type": "code",
   "execution_count": 26,
   "metadata": {},
   "outputs": [],
   "source": [
    "news = []\n",
    "titles = []\n",
    "links = []\n",
    "df3 = pd.DataFrame()\n",
    "count1 = 0\n",
    "count2 = 0 \n",
    "count3 = 0 \n",
    "for filename in names:\n",
    "    #title = filename.split('.')[0]\n",
    "    tmp = filename[:3]\n",
    "    filename = path + filename\n",
    "    tmp_count = len(news)\n",
    "    with open(filename, \"r\" , encoding='utf-8') as file:\n",
    "        text = file.read()\n",
    "        news.append(text) \n",
    "        #if tmp_count < len(news):\n",
    "        if tmp == \"chi\":\n",
    "            titles.append(dff1.loc[count1]['title']+\"_\"+ dff1.loc[count1]['link'][10:22])\n",
    "            links.append(dff1.loc[count1]['link'])\n",
    "            count1 += 1\n",
    "        elif tmp == \"cor\":\n",
    "            titles.append(dff2.loc[count2]['title']+\"_\"+ dff2.loc[count2]['link'][10:22])\n",
    "            links.append(dff2.loc[count2]['link'])\n",
    "            count2 += 1\n",
    "        else:\n",
    "            titles.append(dff3.loc[count3]['title']+\"_\"+ dff3.loc[count3]['link'][10:22])   \n",
    "            links.append(dff3.loc[count3]['link'])\n",
    "            count3 += 1\n",
    "            \n",
    "            \n",
    "lables = [\"right\" for i in range(len(news))]\n",
    "df3['Content'] = list(news)\n",
    "df3['Category'] = lables\n",
    "df3['Title'] = titles\n",
    "df3['Link'] = links"
   ]
  },
  {
   "cell_type": "markdown",
   "metadata": {},
   "source": [
    "### Right data info"
   ]
  },
  {
   "cell_type": "code",
   "execution_count": 27,
   "metadata": {},
   "outputs": [],
   "source": [
    "df3['News_length'] = df3['Content'].str.len()"
   ]
  },
  {
   "cell_type": "code",
   "execution_count": 28,
   "metadata": {},
   "outputs": [
    {
     "data": {
      "text/plain": [
       "234"
      ]
     },
     "execution_count": 28,
     "metadata": {},
     "output_type": "execute_result"
    }
   ],
   "source": [
    "df_more10k = df3[df3['News_length'] > 10000]\n",
    "len(df_more10k)"
   ]
  },
  {
   "cell_type": "code",
   "execution_count": 29,
   "metadata": {},
   "outputs": [
    {
     "data": {
      "image/png": "[encoded data removed]",
      "text/plain": [
       "<Figure size 921.6x432 with 1 Axes>"
      ]
     },
     "metadata": {
      "needs_background": "light"
     },
     "output_type": "display_data"
    }
   ],
   "source": [
    "plt.figure(figsize=(12.8,6))\n",
    "sns.distplot(df3['News_length']).set_title('Right News length distribution');"
   ]
  },
  {
   "cell_type": "code",
   "execution_count": 30,
   "metadata": {},
   "outputs": [
    {
     "data": {
      "text/plain": [
       "count      3474.000000\n",
       "mean       5386.262522\n",
       "std       11476.087421\n",
       "min           0.000000\n",
       "25%        1952.500000\n",
       "50%        3623.500000\n",
       "75%        5821.000000\n",
       "max      378860.000000\n",
       "Name: News_length, dtype: float64"
      ]
     },
     "execution_count": 30,
     "metadata": {},
     "output_type": "execute_result"
    }
   ],
   "source": [
    "df3['News_length'].describe()"
   ]
  },
  {
   "cell_type": "code",
   "execution_count": 31,
   "metadata": {},
   "outputs": [],
   "source": [
    "quantile_95_3 = df3['News_length'].quantile(0.95)\n",
    "df_95_3 = df3[df3['News_length'] > 300]"
   ]
  },
  {
   "cell_type": "code",
   "execution_count": 32,
   "metadata": {},
   "outputs": [
    {
     "data": {
      "text/plain": [
       "count      3165.000000\n",
       "mean       5907.663191\n",
       "std       11895.573161\n",
       "min         307.000000\n",
       "25%        2309.000000\n",
       "50%        4032.000000\n",
       "75%        5989.000000\n",
       "max      378860.000000\n",
       "Name: News_length, dtype: float64"
      ]
     },
     "execution_count": 32,
     "metadata": {},
     "output_type": "execute_result"
    }
   ],
   "source": [
    "df_95_3['News_length'].describe() # delete too long texts"
   ]
  },
  {
   "cell_type": "code",
   "execution_count": 33,
   "metadata": {},
   "outputs": [
    {
     "data": {
      "image/png": "[encoded data removed]",
      "text/plain": [
       "<Figure size 921.6x432 with 1 Axes>"
      ]
     },
     "metadata": {
      "needs_background": "light"
     },
     "output_type": "display_data"
    }
   ],
   "source": [
    "plt.figure(figsize=(12.8,6))\n",
    "sns.distplot(df_95_3['News_length']).set_title('Right News length distribution');"
   ]
  },
  {
   "cell_type": "code",
   "execution_count": 34,
   "metadata": {},
   "outputs": [],
   "source": [
    "final_data = pd.concat([df_95,df_95_2,df_95_3],axis=0, ignore_index=True)"
   ]
  },
  {
   "cell_type": "code",
   "execution_count": 35,
   "metadata": {},
   "outputs": [],
   "source": [
    "with open('./Pickles/News_dataset.pickle', 'wb') as output:\n",
    "    pickle.dump(final_data, output)"
   ]
  },
  {
   "cell_type": "code",
   "execution_count": null,
   "metadata": {},
   "outputs": [],
   "source": []
  }
 ],
 "metadata": {
  "kernelspec": {
   "display_name": "Python 3",
   "language": "python",
   "name": "python3"
  },
  "language_info": {
   "codemirror_mode": {
    "name": "ipython",
    "version": 3
   },
   "file_extension": ".py",
   "mimetype": "text/x-python",
   "name": "python",
   "nbconvert_exporter": "python",
   "pygments_lexer": "ipython3",
   "version": "3.7.3"
  }
 },
 "nbformat": 4,
 "nbformat_minor": 2
}

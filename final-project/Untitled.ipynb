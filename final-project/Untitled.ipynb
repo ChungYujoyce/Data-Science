{
 "cells": [
  {
   "cell_type": "code",
   "execution_count": 1,
   "metadata": {},
   "outputs": [
    {
     "data": {
      "text/html": [
       "<div>\n",
       "<style scoped>\n",
       "    .dataframe tbody tr th:only-of-type {\n",
       "        vertical-align: middle;\n",
       "    }\n",
       "\n",
       "    .dataframe tbody tr th {\n",
       "        vertical-align: top;\n",
       "    }\n",
       "\n",
       "    .dataframe thead th {\n",
       "        text-align: right;\n",
       "    }\n",
       "</style>\n",
       "<table border=\"1\" class=\"dataframe\">\n",
       "  <thead>\n",
       "    <tr style=\"text-align: right;\">\n",
       "      <th></th>\n",
       "      <th>Content</th>\n",
       "      <th>Category</th>\n",
       "      <th>Title</th>\n",
       "      <th>Link</th>\n",
       "    </tr>\n",
       "  </thead>\n",
       "  <tbody>\n",
       "    <tr>\n",
       "      <th>0</th>\n",
       "      <td>to continue please click the box below to let ...</td>\n",
       "      <td>central</td>\n",
       "      <td>China Downplays Chances for Trade Talks While ...</td>\n",
       "      <td>https://www.bloomberg.com/news/articles/2019-0...</td>\n",
       "    </tr>\n",
       "    <tr>\n",
       "      <th>1</th>\n",
       "      <td>save stories to read later or create you own ...</td>\n",
       "      <td>central</td>\n",
       "      <td>Reactions to the Coronavirus</td>\n",
       "      <td>https://www.allsides.com/news/2020-01-26-1735/...</td>\n",
       "    </tr>\n",
       "    <tr>\n",
       "      <th>2</th>\n",
       "      <td>to continue please click the box below to let ...</td>\n",
       "      <td>central</td>\n",
       "      <td>Trump to Meet China's Liu in a Sign Trade Talk...</td>\n",
       "      <td>https://www.bloomberg.com/news/articles/2019-0...</td>\n",
       "    </tr>\n",
       "    <tr>\n",
       "      <th>3</th>\n",
       "      <td>keep me logged in world health officials said ...</td>\n",
       "      <td>central</td>\n",
       "      <td>WHO officials say coronavirus outbreak in Iran...</td>\n",
       "      <td>https://www.cnbc.com/2020/02/21/who-officials-...</td>\n",
       "    </tr>\n",
       "    <tr>\n",
       "      <th>4</th>\n",
       "      <td>to continue please click the box below to let ...</td>\n",
       "      <td>central</td>\n",
       "      <td>China Heads Into Trade Talks Bracing for More ...</td>\n",
       "      <td>https://www.bloomberg.com/news/articles/2018-1...</td>\n",
       "    </tr>\n",
       "  </tbody>\n",
       "</table>\n",
       "</div>"
      ],
      "text/plain": [
       "                                             Content Category  \\\n",
       "0  to continue please click the box below to let ...  central   \n",
       "1   save stories to read later or create you own ...  central   \n",
       "2  to continue please click the box below to let ...  central   \n",
       "3  keep me logged in world health officials said ...  central   \n",
       "4  to continue please click the box below to let ...  central   \n",
       "\n",
       "                                               Title  \\\n",
       "0  China Downplays Chances for Trade Talks While ...   \n",
       "1                       Reactions to the Coronavirus   \n",
       "2  Trump to Meet China's Liu in a Sign Trade Talk...   \n",
       "3  WHO officials say coronavirus outbreak in Iran...   \n",
       "4  China Heads Into Trade Talks Bracing for More ...   \n",
       "\n",
       "                                                Link  \n",
       "0  https://www.bloomberg.com/news/articles/2019-0...  \n",
       "1  https://www.allsides.com/news/2020-01-26-1735/...  \n",
       "2  https://www.bloomberg.com/news/articles/2019-0...  \n",
       "3  https://www.cnbc.com/2020/02/21/who-officials-...  \n",
       "4  https://www.bloomberg.com/news/articles/2018-1...  "
      ]
     },
     "execution_count": 1,
     "metadata": {},
     "output_type": "execute_result"
    }
   ],
   "source": [
    "from sklearn.utils import shuffle\n",
    "import pandas as pd\n",
    "import pickle\n",
    "from sklearn.feature_extraction.text import TfidfVectorizer\n",
    "from sklearn.metrics.pairwise import linear_kernel\n",
    "# instantiating and generating the count matrix\n",
    "from sklearn.metrics.pairwise import cosine_similarity\n",
    "from sklearn.feature_extraction.text import CountVectorizer\n",
    "\n",
    "path_df = \"Pickles/News_dataset.pickle\"\n",
    "\n",
    "with open(path_df, 'rb') as data:\n",
    "    df = pickle.load(data)\n",
    "df.head() "
   ]
  },
  {
   "cell_type": "code",
   "execution_count": 8,
   "metadata": {},
   "outputs": [],
   "source": [
    "with open('Pickles/News_central.pickle', 'wb') as data:\n",
    "    pickle.dump(df, data)"
   ]
  },
  {
   "cell_type": "code",
   "execution_count": 8,
   "metadata": {},
   "outputs": [
    {
     "name": "stderr",
     "output_type": "stream",
     "text": [
      "[nltk_data] Downloading package punkt to\n",
      "[nltk_data]     C:\\Users\\USER\\AppData\\Roaming\\nltk_data...\n",
      "[nltk_data]   Package punkt is already up-to-date!\n"
     ]
    }
   ],
   "source": [
    "import nltk,os\n",
    "import requests\n",
    "import pandas as pd\n",
    "nltk.download('punkt')\n",
    "import numpy as np\n",
    "import pickle, time\n",
    "from datetime import datetime\n",
    "from sklearn.feature_extraction.text import TfidfVectorizer\n",
    "from sklearn.metrics.pairwise import linear_kernel\n",
    "from sklearn.metrics.pairwise import cosine_similarity\n",
    "from sklearn.feature_extraction.text import CountVectorizer"
   ]
  },
  {
   "cell_type": "code",
   "execution_count": 13,
   "metadata": {},
   "outputs": [],
   "source": [
    "def cosine_recommender(title, top=10):\n",
    "    path_df = \"Pickles/News_central_rec2.pickle\"\n",
    "    \n",
    "    with open(path_df, 'rb') as data:\n",
    "        df = pickle.load(data)\n",
    "        \n",
    "    df['bag_of_words'] = ''\n",
    "    columns = df.columns\n",
    "    for index, row in df.iterrows():\n",
    "        words = ''\n",
    "        for col in columns:\n",
    "            if col == 'Content':\n",
    "                words = words + row[col]+ ' '\n",
    "        row['bag_of_words'] = words\n",
    "    text = df.bag_of_words.tolist()\n",
    "    #title = df.loc[count]['Title']\n",
    "    vectorizer = CountVectorizer(text)\n",
    "    vectors = vectorizer.fit_transform(text).toarray()\n",
    "    df_index = title # set id as user input\n",
    "\n",
    "    cosines = []\n",
    "    for i in range(len(vectors)):\n",
    "        vector_list = [vectors[df_index], vectors[i]]\n",
    "        cosines.append(cosine_similarity(vector_list)[0,1])\n",
    "\n",
    "    cosines = pd.Series(cosines)\n",
    "    index = cosines.nlargest(top+1).index\n",
    "\n",
    "    matches = df.loc[index]\n",
    "    print(matches)\n",
    "    return zip(matches['Title'][1:], cosines[index][1:])"
   ]
  },
  {
   "cell_type": "code",
   "execution_count": 14,
   "metadata": {},
   "outputs": [
    {
     "name": "stdout",
     "output_type": "stream",
     "text": [
      "                                                Content  \\\n",
      "11                                                  NaN   \n",
      "1193                                                NaN   \n",
      "33                                                  NaN   \n",
      "201                                                 NaN   \n",
      "188                                                 NaN   \n",
      "1148                                                NaN   \n",
      "912                                                 NaN   \n",
      "37                                                  NaN   \n",
      "1089                                                NaN   \n",
      "1226                                                NaN   \n",
      "1314   mark memmott democrat terry mcauliffe who won...   \n",
      "\n",
      "                                                   Link  \\\n",
      "11                                                  NaN   \n",
      "1193                                                NaN   \n",
      "33                                                  NaN   \n",
      "201                                                 NaN   \n",
      "188                                                 NaN   \n",
      "1148                                                NaN   \n",
      "912                                                 NaN   \n",
      "37                                                  NaN   \n",
      "1089                                                NaN   \n",
      "1226                                                NaN   \n",
      "1314  http://www.npr.org/blogs/thetwo-way/2013/11/06...   \n",
      "\n",
      "                                     Title  \\\n",
      "11                                     NaN   \n",
      "1193                                   NaN   \n",
      "33                                     NaN   \n",
      "201                                    NaN   \n",
      "188                                    NaN   \n",
      "1148                                   NaN   \n",
      "912                                    NaN   \n",
      "37                                     NaN   \n",
      "1089                                   NaN   \n",
      "1226                                   NaN   \n",
      "1314  Your Election News In Five Headlines   \n",
      "\n",
      "                                           bag_of_words  \n",
      "11                                                  NaN  \n",
      "1193                                                NaN  \n",
      "33                                                  NaN  \n",
      "201                                                 NaN  \n",
      "188                                                 NaN  \n",
      "1148                                                NaN  \n",
      "912                                                 NaN  \n",
      "37                                                  NaN  \n",
      "1089                                                NaN  \n",
      "1226                                                NaN  \n",
      "1314   mark memmott democrat terry mcauliffe who won...  \n"
     ]
    },
    {
     "name": "stderr",
     "output_type": "stream",
     "text": [
      "C:\\Users\\USER\\Anaconda3\\lib\\site-packages\\ipykernel_launcher.py:29: FutureWarning: \n",
      "Passing list-likes to .loc or [] with any missing label will raise\n",
      "KeyError in the future, you can use .reindex() as an alternative.\n",
      "\n",
      "See the documentation here:\n",
      "https://pandas.pydata.org/pandas-docs/stable/indexing.html#deprecate-loc-reindex-listlike\n"
     ]
    }
   ],
   "source": [
    "res = cosine_recommender(11, top=10)"
   ]
  },
  {
   "cell_type": "code",
   "execution_count": 27,
   "metadata": {},
   "outputs": [
    {
     "data": {
      "text/plain": [
       "1454"
      ]
     },
     "execution_count": 27,
     "metadata": {},
     "output_type": "execute_result"
    }
   ],
   "source": [
    "path_df = \"Pickles/News_central_rec2.pickle\"\n",
    "    \n",
    "with open(path_df, 'rb') as data:\n",
    "    df = pickle.load(data)\n",
    "    \n",
    "df = df[df.Category == 'left']\n",
    "\n",
    "\n",
    "df.loc[:]\n",
    "    \n",
    "f = open('Pickles/info.txt', 'w') \n",
    "for i,r in df.iterrows():\n",
    "    line = \"\"\n",
    "    line = str(r[0]) +\" \"+ str(r[1]) +\" \"+ str(r[2]) + \"\\n\"\n",
    "    print(line)\n",
    "    #f.write(line)"
   ]
  },
  {
   "cell_type": "code",
   "execution_count": 17,
   "metadata": {},
   "outputs": [],
   "source": [
    "with open('Pickles/News_central_rec2.pickle', 'wb') as data:\n",
    "    pickle.dump(df, data)"
   ]
  },
  {
   "cell_type": "code",
   "execution_count": 19,
   "metadata": {},
   "outputs": [
    {
     "data": {
      "text/plain": [
       "zip"
      ]
     },
     "execution_count": 19,
     "metadata": {},
     "output_type": "execute_result"
    }
   ],
   "source": [
    "match = zip([1,2,3], [4,5,6])\n",
    "type(match)"
   ]
  },
  {
   "cell_type": "code",
   "execution_count": 33,
   "metadata": {},
   "outputs": [],
   "source": [
    "path_df = \"Pickles/News_central_rec1.pickle\"\n",
    "    \n",
    "with open(path_df, 'rb') as data:\n",
    "    df = pickle.load(data)\n",
    "    \n",
    "f = open('Pickles/info_cen1.txt', 'w', encoding='utf-8') \n",
    "lon = len(df)\n",
    "for i,r in df.iterrows():\n",
    "    line = \"\"\n",
    "    line = str(i) + \" \"+str(r[2]) +\" \" + \"\\n\"\n",
    "    f.write(line)\n",
    "    \n",
    "f.close()"
   ]
  },
  {
   "cell_type": "code",
   "execution_count": 2,
   "metadata": {},
   "outputs": [],
   "source": [
    "import pickle\n",
    "import numpy as np\n",
    "with open('Pickles/News_dataset.pickle', 'rb') as data:\n",
    "    df = pickle.load(data)\n",
    "    \n",
    "X = df['Content']\n",
    "X = np.array(X)"
   ]
  },
  {
   "cell_type": "code",
   "execution_count": 4,
   "metadata": {},
   "outputs": [
    {
     "name": "stdout",
     "output_type": "stream",
     "text": [
      " save stories to read later or create you own news web site to share with anyone notify me when i can create my custom news board already on allsides log in allsides members can bookmark any article and read it later save this article by becoming a member today join allsides to read share and understand all perspectives of today s news and issues already on allsides log in allsides members can instantly post news stories to their own personal page making it easy to share and discuss information they care about become your own publisher by becoming a member today learn about my front page join allsides to read share and understand all perspectives of today s news and issues already on allsides log in unbiased news does not exist we provide balanced news and civil discourse this abridge news topic aggregates four unique arguments on different sides of the debate here are the quick facts to get you started the quick facts click to view opinions ranging from emergency to manageable we must adopt a wartime footing to defeat the new coronavirus the who should sound the alarm on wuhan coronavirus don t let the coronavirus mutate into an epidemic of fear and panic coronavirus don t panic yet the global medical world is responding public health officials are on high alert for a mysterious new illness likely linked to the coronavirus that is hospitalizing hundreds of kids across the us when the pandemic seized new york dr lorna breen a 49 year old emergency room doctor who worked at new york presbyterian allen hospital and columbia when the republican governor of idaho issued a plan to safely reopen businesses in the state he ordered bars to stay closed until at least june 13 last in connecticut flags that had been lowered during the somber peak of the coronavirus pandemic were raised to full staff on wednesday to signal a return to children under 5 are not known for respecting personal space or keeping germs to themselves even in the best of circumstances and when you get lots of these covid 19 has brought a raft of intense new stressors while removing many of the resources people have traditionally used to cope with stress millions of earlier this year many pastors received inadequate information on when to close their doors and some faced deadly consequences your announcement makes the centers for disease control and prevention has quietly released detailed guidance for reopening schools mass transit and nonessential businesses that had what s happening debates over masks and other face coverings have been at the center of discussion since the early days of the coronavirus outbreak in the u s balancing the demands of motherhood has never been easy and with covid 19 forcing many women to be an employee parent and teacher all at once many working the doctor in charge of a bay area calif trauma center said the state should end its lockdown orders after an unprecedented spike in suicide attempts amid protestors in kentucky hung an effigy of democratic gov andy beshear outside of the state capitol during a demonstration sunday the protest organized by fear is gripping the american public health and media establishments they are losing control states are belatedly and far too tentatively easing their white house press secretary kayleigh mcenany needled white house reporters friday saying she found it interesting to be in a room that desperately wants illinois gov j b pritzker d filed an emergency rule on friday that allows for business owners to be charged with a class a misdemeanor for violating the \n"
     ]
    }
   ],
   "source": [
    "print(X[1])"
   ]
  },
  {
   "cell_type": "code",
   "execution_count": null,
   "metadata": {},
   "outputs": [],
   "source": []
  }
 ],
 "metadata": {
  "kernelspec": {
   "display_name": "Python 3",
   "language": "python",
   "name": "python3"
  },
  "language_info": {
   "codemirror_mode": {
    "name": "ipython",
    "version": 3
   },
   "file_extension": ".py",
   "mimetype": "text/x-python",
   "name": "python",
   "nbconvert_exporter": "python",
   "pygments_lexer": "ipython3",
   "version": "3.7.3"
  }
 },
 "nbformat": 4,
 "nbformat_minor": 2
}

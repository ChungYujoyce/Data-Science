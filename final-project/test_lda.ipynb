{
 "cells": [
  {
   "cell_type": "code",
   "execution_count": 1,
   "metadata": {},
   "outputs": [],
   "source": [
    "import sys\n",
    "\n",
    "# lib\n",
    "import numpy as np\n",
    "\n",
    "from sklearn.feature_extraction.text import TfidfVectorizer, CountVectorizer\n",
    "from sklearn.decomposition import NMF, LatentDirichletAllocation"
   ]
  },
  {
   "cell_type": "code",
   "execution_count": 7,
   "metadata": {},
   "outputs": [],
   "source": [
    "import pickle\n",
    "\n",
    "with open('Pickles/News_dataset.pickle', 'rb') as data:\n",
    "    df = pickle.load(data)\n",
    "    "
   ]
  },
  {
   "cell_type": "code",
   "execution_count": 15,
   "metadata": {},
   "outputs": [
    {
     "name": "stderr",
     "output_type": "stream",
     "text": [
      "[nltk_data] Downloading package wordnet to\n",
      "[nltk_data]     C:\\Users\\USER\\AppData\\Roaming\\nltk_data...\n",
      "[nltk_data]   Package wordnet is already up-to-date!\n"
     ]
    }
   ],
   "source": [
    "import gensim\n",
    "from gensim.utils import simple_preprocess\n",
    "from gensim.parsing.preprocessing import STOPWORDS\n",
    "from nltk.stem import WordNetLemmatizer, SnowballStemmer\n",
    "from nltk.stem.porter import *\n",
    "import numpy as np\n",
    "np.random.seed(2018)\n",
    "\n",
    "import nltk\n",
    "nltk.download('wordnet')\n",
    "stemmer = SnowballStemmer('english')\n",
    "def lemmatize_stemming(text):\n",
    "    return stemmer.stem(WordNetLemmatizer().lemmatize(text, pos='v'))\n",
    "\n",
    "def preprocess(text):\n",
    "    result = []\n",
    "    for token in gensim.utils.simple_preprocess(text):\n",
    "        if token not in gensim.parsing.preprocessing.STOPWORDS and len(token) > 3:\n",
    "            result.append(lemmatize_stemming(token))\n",
    "    return result"
   ]
  },
  {
   "cell_type": "code",
   "execution_count": 22,
   "metadata": {},
   "outputs": [
    {
     "name": "stdout",
     "output_type": "stream",
     "text": [
      "Topic: 0 \n",
      "Words: 0.087*\"trump\" + 0.046*\"obama\" + 0.038*\"romney\" + 0.027*\"debat\" + 0.027*\"biden\" + 0.018*\"republican\" + 0.017*\"rubio\" + 0.017*\"poll\" + 0.015*\"cruz\" + 0.015*\"donald\"\n",
      "Topic: 1 \n",
      "Words: 0.070*\"trump\" + 0.025*\"coronavirus\" + 0.022*\"clinton\" + 0.021*\"lose\" + 0.019*\"elect\" + 0.017*\"debat\" + 0.017*\"democrat\" + 0.013*\"republican\" + 0.012*\"hillari\" + 0.012*\"polit\"\n",
      "Topic: 2 \n",
      "Words: 0.081*\"clinton\" + 0.065*\"trump\" + 0.046*\"hillari\" + 0.038*\"sander\" + 0.026*\"berni\" + 0.021*\"donald\" + 0.019*\"email\" + 0.011*\"democrat\" + 0.011*\"claim\" + 0.010*\"china\"\n",
      "Topic: 3 \n",
      "Words: 0.048*\"democrat\" + 0.037*\"opinion\" + 0.032*\"elect\" + 0.029*\"trump\" + 0.029*\"voter\" + 0.022*\"clinton\" + 0.019*\"hillari\" + 0.019*\"republican\" + 0.017*\"berni\" + 0.016*\"sander\"\n",
      "Topic: 4 \n",
      "Words: 0.048*\"coronavirus\" + 0.033*\"trump\" + 0.015*\"romney\" + 0.015*\"senat\" + 0.014*\"cruz\" + 0.013*\"democrat\" + 0.012*\"say\" + 0.011*\"time\" + 0.010*\"race\" + 0.010*\"china\"\n",
      "Topic: 5 \n",
      "Words: 0.045*\"obama\" + 0.033*\"campaign\" + 0.032*\"trump\" + 0.022*\"parti\" + 0.021*\"state\" + 0.021*\"elect\" + 0.020*\"democrat\" + 0.018*\"clinton\" + 0.015*\"sander\" + 0.013*\"romney\"\n",
      "Topic: 6 \n",
      "Words: 0.086*\"trump\" + 0.024*\"campaign\" + 0.022*\"donald\" + 0.019*\"coronavirus\" + 0.019*\"debat\" + 0.018*\"poll\" + 0.015*\"vote\" + 0.013*\"midterm\" + 0.011*\"democrat\" + 0.011*\"voter\"\n",
      "Topic: 7 \n",
      "Words: 0.050*\"hillari\" + 0.044*\"clinton\" + 0.039*\"democrat\" + 0.031*\"sander\" + 0.029*\"trump\" + 0.025*\"debat\" + 0.022*\"campaign\" + 0.021*\"biden\" + 0.015*\"berni\" + 0.015*\"poll\"\n",
      "Topic: 8 \n",
      "Words: 0.035*\"trump\" + 0.028*\"race\" + 0.019*\"hous\" + 0.017*\"convent\" + 0.017*\"say\" + 0.017*\"debat\" + 0.017*\"presidenti\" + 0.016*\"biden\" + 0.015*\"white\" + 0.015*\"go\"\n",
      "Topic: 9 \n",
      "Words: 0.093*\"trump\" + 0.034*\"donald\" + 0.023*\"campaign\" + 0.019*\"republican\" + 0.019*\"say\" + 0.017*\"opinion\" + 0.014*\"cruz\" + 0.012*\"presidenti\" + 0.012*\"debat\" + 0.012*\"candid\"\n"
     ]
    }
   ],
   "source": [
    "processed_docs = df['Content'].str.fillna('').astype(str).map(preprocess)\n",
    "dictionary = gensim.corpora.Dictionary(processed_docs)\n",
    "\n",
    "dictionary.filter_extremes(no_below=15, no_above=0.5, keep_n=100000)\n",
    "bow_corpus = [dictionary.doc2bow(doc) for doc in processed_docs]\n",
    "\n",
    "lda_model = gensim.models.LdaMulticore(bow_corpus, num_topics=10, id2word=dictionary, passes=2, workers=2)\n",
    "for idx, topic in lda_model.print_topics(-1):\n",
    "    print('Topic: {} \\nWords: {}'.format(idx, topic))"
   ]
  },
  {
   "cell_type": "code",
   "execution_count": null,
   "metadata": {},
   "outputs": [],
   "source": [
    "X = np.array(X)"
   ]
  },
  {
   "cell_type": "code",
   "execution_count": null,
   "metadata": {},
   "outputs": [],
   "source": [
    "no_features = 1000\n",
    "tfidf_vectorizer = TfidfVectorizer(max_df=0.95, min_df=2, max_features=no_features, stop_words='english')\n",
    "tfidf = tfidf_vectorizer.fit_transform(X)\n",
    "tfidf_feature_names = tfidf_vectorizer.get_feature_names()\n",
    "\n",
    "# LDA can only use raw term counts for LDA because it is a probabilistic graphical model\n",
    "tf_vectorizer = CountVectorizer(max_df=0.95, min_df=2, max_features=no_features, stop_words='english')\n",
    "tf = tf_vectorizer.fit_transform(X)\n",
    "tf_feature_names = tf_vectorizer.get_feature_names()\n",
    "\n",
    "no_topics = 10\n",
    "\n",
    "# Run NMF\n",
    "nmf = NMF(n_components=no_topics, random_state=1, alpha=.1, l1_ratio=.5, init='nndsvd').fit(tfidf)\n",
    "\n",
    "# Run LDA\n",
    "lda = LatentDirichletAllocation(n_components=no_topics, max_iter=5, learning_method='online', learning_offset=50.,\n",
    "                                random_state=0).fit(tf)\n",
    "\n",
    "def display_topics(model, feature_names, no_top_words):\n",
    "    for topic_idx, topic in enumerate(model.components_):\n",
    "        print(\"Topic %d:\" % (topic_idx))\n",
    "        print(\" \".join([feature_names[i]\n",
    "                  for i in topic.argsort()[:-no_top_words - 1:-1]]))\n",
    "\n",
    "no_top_words = 10\n",
    "display_topics(nmf, tfidf_feature_names, no_top_words)\n",
    "print()\n",
    "display_topics(lda, tf_feature_names, no_top_words)"
   ]
  },
  {
   "cell_type": "code",
   "execution_count": null,
   "metadata": {},
   "outputs": [],
   "source": []
  }
 ],
 "metadata": {
  "kernelspec": {
   "display_name": "Python 3",
   "language": "python",
   "name": "python3"
  },
  "language_info": {
   "codemirror_mode": {
    "name": "ipython",
    "version": 3
   },
   "file_extension": ".py",
   "mimetype": "text/x-python",
   "name": "python",
   "nbconvert_exporter": "python",
   "pygments_lexer": "ipython3",
   "version": "3.7.3"
  }
 },
 "nbformat": 4,
 "nbformat_minor": 2
}

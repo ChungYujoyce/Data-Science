{
 "cells": [
  {
   "cell_type": "code",
   "execution_count": null,
   "metadata": {},
   "outputs": [],
   "source": [
    "import pandas as pd\n",
    "import numpy as np\n",
    "import matplotlib.pyplot as plt"
   ]
  },
  {
   "cell_type": "code",
   "execution_count": null,
   "metadata": {
    "scrolled": true
   },
   "outputs": [],
   "source": [
    "df1 = pd.read_csv('./dataset/central/corona_allsides_center.csv')"
   ]
  },
  {
   "cell_type": "code",
   "execution_count": null,
   "metadata": {},
   "outputs": [],
   "source": [
    "df1.head()\n"
   ]
  },
  {
   "cell_type": "code",
   "execution_count": null,
   "metadata": {},
   "outputs": [],
   "source": [
    "links = []\n",
    "titles = []\n",
    "\n",
    "def get_title_and_link(df):\n",
    "    for line in range(len(df)):\n",
    "        link = df.loc[line]['link-href']\n",
    "        if type(link) != float:   \n",
    "            links.append(df.loc[line]['link-href'])\n",
    "            titles.append(df.loc[line]['title'])\n",
    "        else:\n",
    "            links.append(df.loc[line]['title-href'])\n",
    "            titles.append(df.loc[line]['title'])\n",
    "    \n",
    "\n",
    "get_title_and_link(df1)\n",
    "'''\n",
    "get_title_and_link(df2)\n",
    "get_title_and_link(df3)\n",
    "get_title_and_link(df4)\n",
    "get_title_and_link(df5)\n",
    "get_title_and_link(df6)\n",
    "get_title_and_link(df7)\n",
    "get_title_and_link(df8)\n",
    "get_title_and_link(df9)\n",
    "get_title_and_link(df10)'''\n",
    "\n",
    "df11 = pd.DataFrame(titles)\n",
    "df12 = pd.DataFrame(links)\n",
    "df = pd.concat([df11, df12], axis=1, ignore_index=True)\n",
    "df.columns = [\"title\", \"link\"]\n",
    "print(len(links),len(titles))"
   ]
  },
  {
   "cell_type": "code",
   "execution_count": null,
   "metadata": {},
   "outputs": [],
   "source": [
    "import requests\n",
    "from bs4 import BeautifulSoup\n",
    "import numpy as np\n",
    "import pandas as pd\n",
    "import re\n",
    "import time"
   ]
  },
  {
   "cell_type": "code",
   "execution_count": null,
   "metadata": {},
   "outputs": [],
   "source": [
    "# Empty lists for content, links and titles\n",
    "news_contents = []\n",
    "final_article = \"\"\n",
    "count = 0\n",
    "for link in links:\n",
    "    # Request\n",
    "    #print(link)\n",
    "    r = requests.get(link)\n",
    "    if r.status_code == requests.codes.ok:\n",
    "        soup = BeautifulSoup(r.text, 'html.parser')\n",
    "        stories = soup.find_all('p')\n",
    "    # Unifying the paragraphs\n",
    "    list_paragraphs = []\n",
    "    for s in stories:\n",
    "        list_paragraphs.append(s.getText())\n",
    "    #print(list_paragraphs)\n",
    "    final_article = \" \".join(list_paragraphs)  \n",
    "    # Removing special characters\n",
    "    final_article = re.sub(\"\\\\xa0\",\"\", final_article)\n",
    "    final_article = re.sub(r\"[^a-zA-Z0-9]+\", ' ',final_article.lower())\n",
    "    \n",
    "    fp = open(\"./dataset/central/txt_file/corona_\"+str(count)+\".txt\", \"w\")\n",
    "    fp.write(final_article)\n",
    "    fp.close()\n",
    "    count += 1"
   ]
  },
  {
   "cell_type": "code",
   "execution_count": null,
   "metadata": {},
   "outputs": [],
   "source": []
  }
 ],
 "metadata": {
  "kernelspec": {
   "display_name": "Python 3",
   "language": "python",
   "name": "python3"
  },
  "language_info": {
   "codemirror_mode": {
    "name": "ipython",
    "version": 3
   },
   "file_extension": ".py",
   "mimetype": "text/x-python",
   "name": "python",
   "nbconvert_exporter": "python",
   "pygments_lexer": "ipython3",
   "version": "3.7.3"
  }
 },
 "nbformat": 4,
 "nbformat_minor": 2
}

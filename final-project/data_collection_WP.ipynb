{
 "cells": [
  {
   "cell_type": "code",
   "execution_count": 3,
   "metadata": {},
   "outputs": [],
   "source": [
    "import pandas as pd\n",
    "import numpy as np\n",
    "import matplotlib.pyplot as plt"
   ]
  },
  {
   "cell_type": "code",
   "execution_count": 10,
   "metadata": {},
   "outputs": [],
   "source": [
    "df1 = pd.read_csv('./dataset/free_left/cbscorona.csv')\n",
    "df2 = pd.read_csv('./dataset/free_left/cbschina.csv')\n",
    "df3 = pd.read_csv('./dataset/free_left/cbstrump.csv')\n",
    "df4 = pd.read_csv('./dataset/free_left/wpelection.csv')\n",
    "df5 = pd.read_csv('./dataset/free_left/wpolitics.csv')\n",
    "df6 = pd.read_csv('./dataset/free_left/wpfact.csv')\n",
    "df7 = pd.read_csv('./dataset/free_left/wpthefix.csv')\n",
    "df8 = pd.read_csv('./dataset/free_left/wpwhitehouse.csv')"
   ]
  },
  {
   "cell_type": "code",
   "execution_count": 11,
   "metadata": {
    "scrolled": true
   },
   "outputs": [
    {
     "name": "stdout",
     "output_type": "stream",
     "text": [
      "2493 2493\n"
     ]
    }
   ],
   "source": [
    "links = []\n",
    "titles = []\n",
    "def get_title_and_link(df):\n",
    "    for line in range(len(df)):\n",
    "        link = df.loc[line]['link-href']\n",
    "        if link[:37] == \"https://www.washingtontimes.com/news/\":   \n",
    "            links.append(df.loc[line]['link-href'])\n",
    "            titles.append(df.loc[line]['link'])\n",
    "            \n",
    "def get_title_and_link2(df):\n",
    "    for line in range(len(df)):\n",
    "        link = df.loc[line]['link-href']\n",
    "        if link[:30] != \"https://www.cbsnews.com/video/\":      \n",
    "            links.append(df.loc[line]['link-href'])\n",
    "            titles.append(link[35:45])\n",
    "\n",
    "get_title_and_link2(df1)\n",
    "get_title_and_link2(df2)\n",
    "get_title_and_link2(df3)\n",
    "get_title_and_link(df4)\n",
    "get_title_and_link(df5)\n",
    "get_title_and_link(df6)\n",
    "get_title_and_link(df7)\n",
    "get_title_and_link(df8)\n",
    "\n",
    "print(len(links),len(titles))"
   ]
  },
  {
   "cell_type": "code",
   "execution_count": 12,
   "metadata": {},
   "outputs": [],
   "source": [
    "import requests\n",
    "from bs4 import BeautifulSoup\n",
    "import numpy as np\n",
    "import pandas as pd\n",
    "import re\n",
    "import time"
   ]
  },
  {
   "cell_type": "code",
   "execution_count": 15,
   "metadata": {},
   "outputs": [],
   "source": [
    "# Empty lists for content, links and titles\n",
    "news_contents = []\n",
    "final_article = \"\"\n",
    "count = 0\n",
    "for link in links:\n",
    "    # Request\n",
    "    #print(link)\n",
    "    r = requests.get(link)\n",
    "    if r.status_code == requests.codes.ok:\n",
    "        soup = BeautifulSoup(r.text, 'html.parser')\n",
    "        stories = soup.find_all('p')\n",
    "    # Unifying the paragraphs\n",
    "    list_paragraphs = []\n",
    "    for s in stories:\n",
    "        list_paragraphs.append(s.getText())\n",
    "    #print(list_paragraphs)\n",
    "    final_article = \" \".join(list_paragraphs)  \n",
    "    # Removing special characters\n",
    "    final_article = re.sub(\"\\\\xa0\",\"\", final_article)\n",
    "    final_article = re.sub(r\"[^a-zA-Z0-9]+\", ' ',final_article.lower())\n",
    "    \n",
    "    fp = open(\"./dataset/free_left/txt_file/WP_cbs_\"+str(count)+\".txt\", \"w\")\n",
    "    fp.write(final_article)\n",
    "    fp.close()\n",
    "    count += 1\n"
   ]
  },
  {
   "cell_type": "code",
   "execution_count": null,
   "metadata": {},
   "outputs": [],
   "source": []
  }
 ],
 "metadata": {
  "kernelspec": {
   "display_name": "Python 3",
   "language": "python",
   "name": "python3"
  },
  "language_info": {
   "codemirror_mode": {
    "name": "ipython",
    "version": 3
   },
   "file_extension": ".py",
   "mimetype": "text/x-python",
   "name": "python",
   "nbconvert_exporter": "python",
   "pygments_lexer": "ipython3",
   "version": "3.7.3"
  }
 },
 "nbformat": 4,
 "nbformat_minor": 2
}

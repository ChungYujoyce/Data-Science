{
 "cells": [
  {
   "cell_type": "code",
   "execution_count": 10,
   "metadata": {},
   "outputs": [
    {
     "name": "stderr",
     "output_type": "stream",
     "text": [
      "[nltk_data] Downloading package punkt to\n",
      "[nltk_data]     C:\\Users\\USER\\AppData\\Roaming\\nltk_data...\n",
      "[nltk_data]   Package punkt is already up-to-date!\n",
      "[nltk_data] Downloading package wordnet to\n",
      "[nltk_data]     C:\\Users\\USER\\AppData\\Roaming\\nltk_data...\n",
      "[nltk_data]   Package wordnet is already up-to-date!\n"
     ]
    },
    {
     "data": {
      "text/plain": [
       "True"
      ]
     },
     "execution_count": 10,
     "metadata": {},
     "output_type": "execute_result"
    }
   ],
   "source": [
    "import pickle\n",
    "import pandas as pd\n",
    "import re\n",
    "import nltk\n",
    "import matplotlib.pyplot as plt\n",
    "from nltk.corpus import stopwords\n",
    "from nltk.stem import WordNetLemmatizer\n",
    "from sklearn.feature_extraction.text import TfidfVectorizer\n",
    "from sklearn.model_selection import train_test_split\n",
    "from sklearn.feature_selection import chi2\n",
    "import numpy as np\n",
    "import seaborn as sns\n",
    "nltk.download('punkt')\n",
    "nltk.download('wordnet')"
   ]
  },
  {
   "cell_type": "code",
   "execution_count": 11,
   "metadata": {},
   "outputs": [],
   "source": [
    "path_df = \"./Pickles/News_dataset.pickle\"\n",
    "\n",
    "with open(path_df, 'rb') as data:\n",
    "    df = pickle.load(data)"
   ]
  },
  {
   "cell_type": "code",
   "execution_count": 12,
   "metadata": {},
   "outputs": [
    {
     "name": "stdout",
     "output_type": "stream",
     "text": [
      "3165\n",
      "2961\n",
      "3521\n"
     ]
    }
   ],
   "source": [
    "right = df[df['Category']== \"right\"]\n",
    "central = df[df['Category']== \"central\"]\n",
    "left = df[df['Category']== \"left\"]\n",
    "print(len(right))\n",
    "print(len(central))\n",
    "print(len(left))"
   ]
  },
  {
   "cell_type": "code",
   "execution_count": 13,
   "metadata": {
    "scrolled": true
   },
   "outputs": [
    {
     "data": {
      "image/png": "[encoded data removed]",
      "text/plain": [
       "<Figure size 921.6x432 with 1 Axes>"
      ]
     },
     "metadata": {
      "needs_background": "light"
     },
     "output_type": "display_data"
    }
   ],
   "source": [
    "plt.figure(figsize=(12.8,6))\n",
    "sns.boxplot(data=df, x='Category', y='News_length', width=.5);"
   ]
  },
  {
   "cell_type": "code",
   "execution_count": 14,
   "metadata": {},
   "outputs": [
    {
     "data": {
      "text/plain": [
       "str"
      ]
     },
     "execution_count": 14,
     "metadata": {},
     "output_type": "execute_result"
    }
   ],
   "source": [
    "type(df.loc[3]['Content'])"
   ]
  },
  {
   "cell_type": "code",
   "execution_count": 15,
   "metadata": {},
   "outputs": [],
   "source": [
    "df['Content'] = df['Content'].str.replace(\"\\r\", \" \")\n",
    "df['Content'] = df['Content'].str.replace(\"\\n\", \" \")\n",
    "df['Content'] = df['Content'].str.replace(\"    \", \" \")\n",
    "df['Content'] = df['Content'].str.lower()\n",
    "df['Content'] = df['Content'].replace('\"', '')\n",
    "punctuation_signs = list(\"?:!.,;\")\n",
    "\n",
    "for punct_sign in punctuation_signs:\n",
    "    df['Content'] = df['Content'].str.replace(punct_sign, '')"
   ]
  },
  {
   "cell_type": "code",
   "execution_count": 17,
   "metadata": {
    "scrolled": true
   },
   "outputs": [
    {
     "data": {
      "text/plain": [
       "'aelection of the most viewedtories this week on the monitor website everyaturday hear aboutpecial editorial projects new product information and upcoming events occasional an update on major political events candidates and parties twice a week twice a weektay informed about the latestcientific discoveries breakthroughs every tuesday a weekly digest of monitor views and insightful commentary on major events every thursday latest book reviews author interviews and reading trends every friday a weekly update on music movies cultural trends and educationolutions every thursday the five most recent christiancience articles with apiritual perspective every monday democratspent 1 million to elect elizabeth colbert busch in true redouth carolina but republican markanford won handily with a message of fiscal restraint despite ethical and moral lapses while governor loading may 8 2013outh carolina republicans rallied tuesday to protect a key piece of political turf by electing markanford a charming but flawed veteran lawmaker to congress for the first congressional district aeat he held for three terms during president bill clinton tenure mranford convincing win against elizabeth colbert busch a charleston c businesswoman and first time candidate ended a zany but impressive comeback for the former governor who left office in disgrace two years ago after conducting an overseas affair on thetate time and dime and lying about his whereabouts out of touch for nearly a weekanford wasn t hiking the appalachian trail as he had toldtaff but meeting a mistress in argentina down by nine percentage points in the polls as recently as a week agoanford won by a nine point margin in thepecial election to replace timcott who was appointed late last year by gov nikki haley r to fill theenateeat left vacant by formeren jim demint who resigned to lead a conservative think tank national democrats tried to exploit a golden opportunity to grasp a piece of turf in the republican thickets of theouth with ms colbert busch presenting herself as a political moderate and an independent thinker but the election ultimately turned less on personal foibles and marital infidelity and more on political ideology and fiscal principles that include constraining washingtonpending aanford winays thatouth carolina isuch a deeply republicantate that you can almost run anybody on the republican label and get them electedayscott buchanan a politicalcientist at the citadel military college in charleston meanwhile the democratic party had the chance of a decade to capture aeat that plus 12 plus 14 republican and the fact that they couldn t do it has to be demoralizing forure the big question in the race was howanford moral lapses would play with republican women voters as governoranford avoided impeachment but he ultimately paid a 74 000 ethics fine for in essence vacating his office for a week and conducting an affair on thetate time he and his wife jennyanford haveince divorced he is now engaged to his paramour maria belen chapur who has relocated to the low country while colbert busch in essence tried to run out the clock on the election after going up by nine points in the pollsanford a veteran campaigner hammered in the waning days on colbert busch alliance with national democrats including house minority leader nancy pelosi and expounded at every corner on the evils of profligatepending that he blamed on liberal leaders in washington i am one imperfect manaved by god grace but one who has a conviction on the importance of doingomething aboutpending in washingtonanfordaid in his victorypeech in charleston tuesday night today a grassroots issue based campaign upset the national democratic campaign machine amy kremer of the national tea party express groupaid in atatement votersaw past the personal attacks and elected a tea party candidate who is willing totand up for fiscal responsibility and limited government true to thepirit ofouth carolina politics the campaign hadome unusual moments including its original premise theister of faux republican commentator and charleston nativetephen colbert taking on the man whom mr colbert once called the governor of the appalachian trail two weeks agoanford appeared at an event and began debating with a cutout of nancy pelosi a few days before the election he accompanied a buzzfeed reporter to a local mall and asked random women whether they really hated him in the background republicans aided by national tea party groups fomented a massive grass roots effort to warn voters about letting democrats get a toehold in theouth carolina low country which hasn teen a democrat electedince 1978 get the monitortories you care about delivered to your inbox they democratspent 1 million in this election and if they win they llpend 5 million the next time charm altman president of theouth carolina federation of republican womenaid before the results were knownhe lobbied foranford despiteome misgivings about his behavior ms altmanaid bedrock fiscal concerns ultimately override lingering anger towardanford for his marital infidelity we re not electingomebody to be pope we re electingomeone to govern with atrong conservative handheays link copied get unlimited monitor journalism already aubscriber login less noise more insight yourubscription to the christiancience monitor has expired you can renew yourubscription or continue to use theite without aubscription return to the free version of theite if you have questions about your account please contact customerervice or call us at 1 617 450 2300 this message will appear once per week unless you renew or log out youression to the christiancience monitor has expired we logged you out return to the free version of theite if you have questions about your account please contact customerervice or call us at 1 617 450 2300 you don t have a christiancience monitorubscription yet return to the free version of theite if you have questions about your account please contact customerervice or call us at 1 617 450 2300 '"
      ]
     },
     "execution_count": 17,
     "metadata": {},
     "output_type": "execute_result"
    }
   ],
   "source": [
    "df['Content'] = df['Content'].str.replace(\" s\", \"\") # it should be 's but we remove it in before steps'\n",
    "df.loc[1111]['Content']"
   ]
  },
  {
   "cell_type": "markdown",
   "metadata": {},
   "source": [
    "### Stemming and Lemmatization"
   ]
  },
  {
   "cell_type": "code",
   "execution_count": 18,
   "metadata": {},
   "outputs": [],
   "source": [
    "wordnet_lemmatizer = WordNetLemmatizer()\n",
    "nrows = len(df)\n",
    "lemmatized_text_list = []\n",
    "\n",
    "for row in range(0, nrows):\n",
    "    lemmatized_list = []\n",
    "    text = df.loc[row]['Content']\n",
    "    text_words = text.split(\" \")\n",
    "    for word in text_words:\n",
    "        lemmatized_list.append(wordnet_lemmatizer.lemmatize(word, pos=\"v\"))\n",
    "    lemmatized_text = \" \".join(lemmatized_list)\n",
    "    lemmatized_text_list.append(lemmatized_text)"
   ]
  },
  {
   "cell_type": "code",
   "execution_count": 19,
   "metadata": {},
   "outputs": [
    {
     "data": {
      "text/plain": [
       "'to continue please click the box below to let us know you re not a robot please makeure your browserupports javascript and cookies and that you be not block them from load for more information you can review our term ofervice and cookie policy for inquiries relate to this message please contact ourupport team and provide the reference id below '"
      ]
     },
     "execution_count": 19,
     "metadata": {},
     "output_type": "execute_result"
    }
   ],
   "source": [
    "df['Content'] = lemmatized_text_list\n",
    "df.loc[2]['Content']"
   ]
  },
  {
   "cell_type": "markdown",
   "metadata": {},
   "source": [
    "### Stop words"
   ]
  },
  {
   "cell_type": "code",
   "execution_count": 35,
   "metadata": {},
   "outputs": [
    {
     "name": "stderr",
     "output_type": "stream",
     "text": [
      "[nltk_data] Downloading package stopwords to\n",
      "[nltk_data]     C:\\Users\\USER\\AppData\\Roaming\\nltk_data...\n",
      "[nltk_data]   Package stopwords is already up-to-date!\n"
     ]
    }
   ],
   "source": [
    "nltk.download('stopwords')\n",
    "stop_words = list(stopwords.words('english'))\n",
    "# self define stopwords for those high frequent words\n",
    "#sw_list = ['trump', '19','president','covid','mr', 'donald','2019','pandemic', 'coronavirus','white','house']\n",
    "#stop_words.extend(sw_list)"
   ]
  },
  {
   "cell_type": "code",
   "execution_count": 36,
   "metadata": {},
   "outputs": [],
   "source": [
    "for stop_word in stop_words:\n",
    "    regex_stopword = r\"\\b\" + stop_word + r\"\\b\"\n",
    "    df['Content'] = df['Content'].str.replace(regex_stopword, '')"
   ]
  },
  {
   "cell_type": "code",
   "execution_count": 37,
   "metadata": {},
   "outputs": [
    {
     "data": {
      "text/plain": [
       "' continue please click  box   let us know     robot please makeure  browserupports javascript  cookies      block   load   information   review  term ofervice  cookie policy  inquiries relate   message please contact ourupport team  provide  reference id  '"
      ]
     },
     "execution_count": 37,
     "metadata": {},
     "output_type": "execute_result"
    }
   ],
   "source": [
    "df.loc[2]['Content']"
   ]
  },
  {
   "cell_type": "code",
   "execution_count": 38,
   "metadata": {},
   "outputs": [],
   "source": [
    "# Define function for Lemmatization, remove stopword and feature selection using POS, spacy package\n",
    "import spacy\n",
    "def spacy_preprocess(text,lemma= True, pos= True, pos_select = [\"VERB\", \"NOUN\", \"ADJ\",\"ADV\",\"PART\"]):\n",
    "  # Initialize spacy 'en' model, keeping only tagger component needed for lemmatization\n",
    "    nlp = spacy.load('en', disable=['parser', 'ner']) # disable parser, ner for faster loading\n",
    "  # Parse the sentence using the loaded 'en' model object `nlp`\n",
    "    doc = nlp(text)\n",
    "    \n",
    "    if pos== False:\n",
    "        if lemma== True: text_preprocess= \" \".join([token.lemma_.lower() for token in doc if not nlp.vocab[token.text].is_stop])\n",
    "        if lemma== False:text_preprocess= \" \".join([token.text.lower() for token in doc if not nlp.vocab[token.text].is_stop])\n",
    "    else:\n",
    "        if lemma== True : text_preprocess= \" \".join([token.lemma_.lower() for token in doc if (token.pos_ in pos_select and not nlp.vocab[token.text].is_stop)])\n",
    "        if lemma== False : text_preprocess= \" \".join([token.text.lower() for token in doc if (token.pos_ in pos_select  and not nlp.vocab[token.text].is_stop)])\n",
    "  # nlp.vocab[token.text].is_stop to remove stopwords\n",
    "    return text_preprocess"
   ]
  },
  {
   "cell_type": "code",
   "execution_count": 39,
   "metadata": {},
   "outputs": [
    {
     "data": {
      "text/plain": [
       "'\\nnews = list(df[\\'Content\\'])\\nnews_preprocess=[]\\nfor n in news:\\n    n_preprocess = spacy_preprocess(n,pos_select = [\"VERB\", \"NOUN\", \"ADJ\"])\\n    news_preprocess += [n_preprocess]'"
      ]
     },
     "execution_count": 39,
     "metadata": {},
     "output_type": "execute_result"
    }
   ],
   "source": [
    "# Pre-processing data with spacy\n",
    "'''\n",
    "news = list(df['Content'])\n",
    "news_preprocess=[]\n",
    "for n in news:\n",
    "    n_preprocess = spacy_preprocess(n,pos_select = [\"VERB\", \"NOUN\", \"ADJ\"])\n",
    "    news_preprocess += [n_preprocess]'''"
   ]
  },
  {
   "cell_type": "code",
   "execution_count": 40,
   "metadata": {},
   "outputs": [
    {
     "data": {
      "text/plain": [
       "' continue please click  box   let us know     robot please makeure  browserupports javascript  cookies      block   load   information   review  term ofervice  cookie policy  inquiries relate   message please contact ourupport team  provide  reference id  '"
      ]
     },
     "execution_count": 40,
     "metadata": {},
     "output_type": "execute_result"
    }
   ],
   "source": [
    "df.loc[2]['Content']"
   ]
  },
  {
   "cell_type": "markdown",
   "metadata": {},
   "source": [
    "### Label coding"
   ]
  },
  {
   "cell_type": "code",
   "execution_count": 41,
   "metadata": {},
   "outputs": [
    {
     "data": {
      "text/html": [
       "<div>\n",
       "<style scoped>\n",
       "    .dataframe tbody tr th:only-of-type {\n",
       "        vertical-align: middle;\n",
       "    }\n",
       "\n",
       "    .dataframe tbody tr th {\n",
       "        vertical-align: top;\n",
       "    }\n",
       "\n",
       "    .dataframe thead th {\n",
       "        text-align: right;\n",
       "    }\n",
       "</style>\n",
       "<table border=\"1\" class=\"dataframe\">\n",
       "  <thead>\n",
       "    <tr style=\"text-align: right;\">\n",
       "      <th></th>\n",
       "      <th>Content</th>\n",
       "      <th>Category</th>\n",
       "      <th>Title</th>\n",
       "      <th>Link</th>\n",
       "      <th>News_length</th>\n",
       "      <th>Category_Code</th>\n",
       "    </tr>\n",
       "  </thead>\n",
       "  <tbody>\n",
       "    <tr>\n",
       "      <th>0</th>\n",
       "      <td>continue please click  box   let us know     ...</td>\n",
       "      <td>central</td>\n",
       "      <td>China Downplays Chances for Trade Talks While ...</td>\n",
       "      <td>https://www.bloomberg.com/news/articles/2019-0...</td>\n",
       "      <td>363</td>\n",
       "      <td>1</td>\n",
       "    </tr>\n",
       "    <tr>\n",
       "      <th>1</th>\n",
       "      <td>avetories  read later  create   news webite to...</td>\n",
       "      <td>central</td>\n",
       "      <td>Reactions to the Coronavirus_w.allsides.c</td>\n",
       "      <td>https://www.allsides.com/news/2020-01-26-1735/...</td>\n",
       "      <td>3553</td>\n",
       "      <td>1</td>\n",
       "    </tr>\n",
       "    <tr>\n",
       "      <th>2</th>\n",
       "      <td>continue please click  box   let us know     ...</td>\n",
       "      <td>central</td>\n",
       "      <td>Trump to Meet China's Liu in a Sign Trade Talk...</td>\n",
       "      <td>https://www.bloomberg.com/news/articles/2019-0...</td>\n",
       "      <td>363</td>\n",
       "      <td>1</td>\n",
       "    </tr>\n",
       "    <tr>\n",
       "      <th>3</th>\n",
       "      <td>keep  log  world health officialsaid friday   ...</td>\n",
       "      <td>central</td>\n",
       "      <td>WHO officials say coronavirus outbreak in Iran...</td>\n",
       "      <td>https://www.cnbc.com/2020/02/21/who-officials-...</td>\n",
       "      <td>2988</td>\n",
       "      <td>1</td>\n",
       "    </tr>\n",
       "    <tr>\n",
       "      <th>4</th>\n",
       "      <td>continue please click  box   let us know     ...</td>\n",
       "      <td>central</td>\n",
       "      <td>China Heads Into Trade Talks Bracing for More ...</td>\n",
       "      <td>https://www.bloomberg.com/news/articles/2018-1...</td>\n",
       "      <td>363</td>\n",
       "      <td>1</td>\n",
       "    </tr>\n",
       "  </tbody>\n",
       "</table>\n",
       "</div>"
      ],
      "text/plain": [
       "                                             Content Category  \\\n",
       "0   continue please click  box   let us know     ...  central   \n",
       "1  avetories  read later  create   news webite to...  central   \n",
       "2   continue please click  box   let us know     ...  central   \n",
       "3  keep  log  world health officialsaid friday   ...  central   \n",
       "4   continue please click  box   let us know     ...  central   \n",
       "\n",
       "                                               Title  \\\n",
       "0  China Downplays Chances for Trade Talks While ...   \n",
       "1          Reactions to the Coronavirus_w.allsides.c   \n",
       "2  Trump to Meet China's Liu in a Sign Trade Talk...   \n",
       "3  WHO officials say coronavirus outbreak in Iran...   \n",
       "4  China Heads Into Trade Talks Bracing for More ...   \n",
       "\n",
       "                                                Link  News_length  \\\n",
       "0  https://www.bloomberg.com/news/articles/2019-0...          363   \n",
       "1  https://www.allsides.com/news/2020-01-26-1735/...         3553   \n",
       "2  https://www.bloomberg.com/news/articles/2019-0...          363   \n",
       "3  https://www.cnbc.com/2020/02/21/who-officials-...         2988   \n",
       "4  https://www.bloomberg.com/news/articles/2018-1...          363   \n",
       "\n",
       "   Category_Code  \n",
       "0              1  \n",
       "1              1  \n",
       "2              1  \n",
       "3              1  \n",
       "4              1  "
      ]
     },
     "execution_count": 41,
     "metadata": {},
     "output_type": "execute_result"
    }
   ],
   "source": [
    "category_codes = {\n",
    "    'left': 0,\n",
    "    'central': 1,\n",
    "    'right': 2\n",
    "}\n",
    "\n",
    "\n",
    "# Category mapping\n",
    "df['Category_Code'] = df['Category']\n",
    "df = df.replace({'Category_Code':category_codes})\n",
    "df.head()"
   ]
  },
  {
   "cell_type": "markdown",
   "metadata": {},
   "source": [
    "### Training"
   ]
  },
  {
   "cell_type": "code",
   "execution_count": 42,
   "metadata": {},
   "outputs": [],
   "source": [
    "X_train, X_test, y_train, y_test = train_test_split(df['Content'], \n",
    "                                                    df['Category_Code'], \n",
    "                                                    test_size=0.15, \n",
    "                                                    random_state=8)"
   ]
  },
  {
   "cell_type": "code",
   "execution_count": 43,
   "metadata": {},
   "outputs": [],
   "source": [
    "# Parameter election\n",
    "ngram_range = (1,2)\n",
    "min_df = 10\n",
    "max_df = 1.\n",
    "max_features = 500"
   ]
  },
  {
   "cell_type": "code",
   "execution_count": 44,
   "metadata": {},
   "outputs": [
    {
     "name": "stdout",
     "output_type": "stream",
     "text": [
      "(8199, 500)\n",
      "(1448, 500)\n"
     ]
    }
   ],
   "source": [
    "tfidf = TfidfVectorizer(encoding='utf-8',\n",
    "                        ngram_range=ngram_range,\n",
    "                        stop_words=None,\n",
    "                        lowercase=False,\n",
    "                        max_df=max_df,\n",
    "                        min_df=min_df,\n",
    "                        max_features=max_features,\n",
    "                        norm='l2',\n",
    "                        sublinear_tf=True)\n",
    "\n",
    "\n",
    "features_train = tfidf.fit_transform(X_train).toarray()\n",
    "labels_train = y_train\n",
    "print(features_train.shape)\n",
    "\n",
    "features_test = tfidf.transform(X_test).toarray()\n",
    "labels_test = y_test\n",
    "print(features_test.shape)"
   ]
  },
  {
   "cell_type": "code",
   "execution_count": 45,
   "metadata": {},
   "outputs": [
    {
     "name": "stdout",
     "output_type": "stream",
     "text": [
      "# 'central' category:\n",
      "  . Most correlated unigrams:\n",
      ". hill\n",
      ". contact\n",
      ". llc\n",
      ". please\n",
      ". monitor\n",
      "  . Most correlated bigrams:\n",
      ". right reserve\n",
      ". fox news\n",
      "\n",
      "# 'left' category:\n",
      "  . Most correlated unigrams:\n",
      ". delay\n",
      ". apos\n",
      ". facebook\n",
      ". click\n",
      ". cnn\n",
      "  . Most correlated bigrams:\n",
      ". fox news\n",
      ". right reserve\n",
      "\n",
      "# 'right' category:\n",
      "  . Most correlated unigrams:\n",
      ". fox\n",
      ". minutes\n",
      ". click\n",
      ". reserve\n",
      ". apos\n",
      "  . Most correlated bigrams:\n",
      ". fox news\n",
      ". right reserve\n",
      "\n"
     ]
    }
   ],
   "source": [
    "from sklearn.feature_selection import chi2\n",
    "import numpy as np\n",
    "\n",
    "for Product, category_id in sorted(category_codes.items()):\n",
    "    features_chi2 = chi2(features_train, labels_train == category_id)\n",
    "    indices = np.argsort(features_chi2[0])\n",
    "    feature_names = np.array(tfidf.get_feature_names())[indices]\n",
    "    unigrams = [v for v in feature_names if len(v.split(' ')) == 1]\n",
    "    bigrams = [v for v in feature_names if len(v.split(' ')) == 2]\n",
    "    print(\"# '{}' category:\".format(Product))\n",
    "    print(\"  . Most correlated unigrams:\\n. {}\".format('\\n. '.join(unigrams[-5:])))\n",
    "    print(\"  . Most correlated bigrams:\\n. {}\".format('\\n. '.join(bigrams[-2:])))\n",
    "    print(\"\")"
   ]
  },
  {
   "cell_type": "code",
   "execution_count": 46,
   "metadata": {},
   "outputs": [
    {
     "data": {
      "text/plain": [
       "['mrs clinton',\n",
       " 'hillary clinton',\n",
       " 'health care',\n",
       " 'last week',\n",
       " 'new york',\n",
       " 'new hampshire',\n",
       " 'joe biden',\n",
       " 'fox news',\n",
       " 'right reserve']"
      ]
     },
     "execution_count": 46,
     "metadata": {},
     "output_type": "execute_result"
    }
   ],
   "source": [
    "bigrams"
   ]
  },
  {
   "cell_type": "code",
   "execution_count": 33,
   "metadata": {},
   "outputs": [],
   "source": [
    "# X_train\n",
    "with open('Pickles/X_train.pickle', 'wb') as output:\n",
    "    pickle.dump(X_train, output)\n",
    "    \n",
    "# X_test    \n",
    "with open('Pickles/X_test.pickle', 'wb') as output:\n",
    "    pickle.dump(X_test, output)\n",
    "    \n",
    "# y_train\n",
    "with open('Pickles/y_train.pickle', 'wb') as output:\n",
    "    pickle.dump(y_train, output)\n",
    "    \n",
    "# y_test\n",
    "with open('Pickles/y_test.pickle', 'wb') as output:\n",
    "    pickle.dump(y_test, output)"
   ]
  },
  {
   "cell_type": "code",
   "execution_count": 34,
   "metadata": {},
   "outputs": [],
   "source": [
    "# df\n",
    "with open('Pickles/df.pickle', 'wb') as output:\n",
    "    pickle.dump(df, output)\n",
    "    \n",
    "# features_train\n",
    "with open('Pickles/features_train.pickle', 'wb') as output:\n",
    "    pickle.dump(features_train, output)\n",
    "\n",
    "# labels_train\n",
    "with open('Pickles/labels_train.pickle', 'wb') as output:\n",
    "    pickle.dump(labels_train, output)\n",
    "\n",
    "# features_test\n",
    "with open('Pickles/features_test.pickle', 'wb') as output:\n",
    "    pickle.dump(features_test, output)\n",
    "\n",
    "# labels_test\n",
    "with open('Pickles/labels_test.pickle', 'wb') as output:\n",
    "    pickle.dump(labels_test, output)\n",
    "    \n",
    "# TF-IDF object\n",
    "with open('Pickles/tfidf.pickle', 'wb') as output:\n",
    "    pickle.dump(tfidf, output)"
   ]
  },
  {
   "cell_type": "code",
   "execution_count": null,
   "metadata": {},
   "outputs": [],
   "source": []
  }
 ],
 "metadata": {
  "kernelspec": {
   "display_name": "Python 3",
   "language": "python",
   "name": "python3"
  },
  "language_info": {
   "codemirror_mode": {
    "name": "ipython",
    "version": 3
   },
   "file_extension": ".py",
   "mimetype": "text/x-python",
   "name": "python",
   "nbconvert_exporter": "python",
   "pygments_lexer": "ipython3",
   "version": "3.7.3"
  }
 },
 "nbformat": 4,
 "nbformat_minor": 2
}

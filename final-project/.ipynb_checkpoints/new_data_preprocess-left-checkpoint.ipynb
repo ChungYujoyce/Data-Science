{
 "cells": [
  {
   "cell_type": "code",
   "execution_count": 2,
   "metadata": {},
   "outputs": [],
   "source": [
    "import warnings\n",
    "warnings.filterwarnings(\"ignore\")\n",
    "import pandas as pd\n",
    "import matplotlib.pyplot as plt\n",
    "import pickle\n",
    "import seaborn as sns\n",
    "import os, sys\n",
    "import requests\n",
    "import pickle\n",
    "\n",
    "import requests\n",
    "from bs4 import BeautifulSoup\n",
    "import numpy as np\n",
    "import pandas as pd\n",
    "import re\n",
    "import time"
   ]
  },
  {
   "cell_type": "code",
   "execution_count": 3,
   "metadata": {},
   "outputs": [
    {
     "name": "stdout",
     "output_type": "stream",
     "text": [
      "3993\n"
     ]
    },
    {
     "data": {
      "text/html": [
       "<div>\n",
       "<style scoped>\n",
       "    .dataframe tbody tr th:only-of-type {\n",
       "        vertical-align: middle;\n",
       "    }\n",
       "\n",
       "    .dataframe tbody tr th {\n",
       "        vertical-align: top;\n",
       "    }\n",
       "\n",
       "    .dataframe thead th {\n",
       "        text-align: right;\n",
       "    }\n",
       "</style>\n",
       "<table border=\"1\" class=\"dataframe\">\n",
       "  <thead>\n",
       "    <tr style=\"text-align: right;\">\n",
       "      <th></th>\n",
       "      <th>title</th>\n",
       "      <th>link</th>\n",
       "    </tr>\n",
       "  </thead>\n",
       "  <tbody>\n",
       "    <tr>\n",
       "      <th>0</th>\n",
       "      <td>The risk of a Tiananmen-style massacre in Hong...</td>\n",
       "      <td>http://www.vox.com/2014/9/30/6865759/the-quest...</td>\n",
       "    </tr>\n",
       "    <tr>\n",
       "      <th>1</th>\n",
       "      <td>China economy shrinks for first time as Wuhan ...</td>\n",
       "      <td>https://www.theguardian.com/world/2020/apr/17/...</td>\n",
       "    </tr>\n",
       "    <tr>\n",
       "      <th>2</th>\n",
       "      <td>U.S. consumers and businesses -- not China -- ...</td>\n",
       "      <td>https://www.cbsnews.com/news/trump-tariffs-on-...</td>\n",
       "    </tr>\n",
       "    <tr>\n",
       "      <th>3</th>\n",
       "      <td>Dow Drops 1,000 Points In Early Trading</td>\n",
       "      <td>http://www.huffingtonpost.com/entry/stocks-are...</td>\n",
       "    </tr>\n",
       "    <tr>\n",
       "      <th>4</th>\n",
       "      <td>Huawei C.F.O. Is Arrested in Canada for Extrad...</td>\n",
       "      <td>https://www.nytimes.com/2018/12/05/business/hu...</td>\n",
       "    </tr>\n",
       "  </tbody>\n",
       "</table>\n",
       "</div>"
      ],
      "text/plain": [
       "                                               title  \\\n",
       "0  The risk of a Tiananmen-style massacre in Hong...   \n",
       "1  China economy shrinks for first time as Wuhan ...   \n",
       "2  U.S. consumers and businesses -- not China -- ...   \n",
       "3            Dow Drops 1,000 Points In Early Trading   \n",
       "4  Huawei C.F.O. Is Arrested in Canada for Extrad...   \n",
       "\n",
       "                                                link  \n",
       "0  http://www.vox.com/2014/9/30/6865759/the-quest...  \n",
       "1  https://www.theguardian.com/world/2020/apr/17/...  \n",
       "2  https://www.cbsnews.com/news/trump-tariffs-on-...  \n",
       "3  http://www.huffingtonpost.com/entry/stocks-are...  \n",
       "4  https://www.nytimes.com/2018/12/05/business/hu...  "
      ]
     },
     "execution_count": 3,
     "metadata": {},
     "output_type": "execute_result"
    }
   ],
   "source": [
    "pickle1 = \"./Pickles/china_left.pickle\"\n",
    "pickle2 = \"./Pickles/coro_left.pickle\"\n",
    "pickle3 = \"./Pickles/ele_left.pickle\"\n",
    "\n",
    "with open(pickle1, 'rb') as data:\n",
    "    df1 = pickle.load(data)\n",
    "\n",
    "with open(pickle2, 'rb') as data:\n",
    "    df2 = pickle.load(data)\n",
    "with open(pickle3, 'rb') as data:\n",
    "    df3 = pickle.load(data)\n",
    "df1 = pd.DataFrame(df1)\n",
    "df2 = pd.DataFrame(df2)\n",
    "df3 = pd.DataFrame(df3)\n",
    "\n",
    "print(len(df2)+len(df1)+len(df3))\n",
    "df1.head()"
   ]
  },
  {
   "cell_type": "code",
   "execution_count": 8,
   "metadata": {},
   "outputs": [
    {
     "name": "stdout",
     "output_type": "stream",
     "text": [
      "158\n"
     ]
    }
   ],
   "source": [
    "print(len(df1))"
   ]
  },
  {
   "cell_type": "code",
   "execution_count": null,
   "metadata": {
    "scrolled": true
   },
   "outputs": [
    {
     "name": "stdout",
     "output_type": "stream",
     "text": [
      "http://www.nytimes.com/politics/first-draft/2015/12/10/trump-solidifies-his-lead-but-leaves-many-nervous/ 162\n",
      "['Donald J. Trump occupies his strongest position yet in the race for the Republican presidential nomination, yet nearly two-thirds of American voters say they are concerned or frightened about the prospect of\\n                                                a Trump presidency, according to the latest New York Times/CBS News nationwide poll.', 'The poll was taken largely before his statement on Monday afternoon proposing to temporarily bar Muslims from entering the United States.', 'On the Democratic side, the poll found Hillary Clinton is maintaining her 20-point lead over Senator Bernie Sanders of Vermont. The possibility of her winning the presidency in 2016 is only marginally more palatable\\n                                                to American voters than that of Mr. Trump. ', 'Mr. Trump commands the support of 35 percent of Republican primary voters, leading his closest competitors, Senator Ted Cruz of Texas (16 percent) and Ben Carson (13 percent) by a more than 2-to-1 margin. While\\n                                                Mr. Carson’s support was cut in half since the last time The Times and CBS News polled on the race in late October, Mr. Cruz has quadrupled his share. Senator Marco Rubio of Florida’s support\\n                                                stands at 9 percent, with the rest of the candidates at 4 percent or less.', 'Enthusiasm for and attention to the campaign are higher among Republican primary voters than among their Democratic counterparts. A 54 percent majority of Democratic primary voters said they had made up their\\n                                                minds about who they will support, while 64 percent of Republicans say it is still too early to be sure. Majorities of Trump and Clinton supporters say their decision is firm. ', 'Over all, 24 percent of voters expressed concern and 40 percent fear about what Mr. Trump would do if elected president, whereas 23 percent said they are concerned and 34 percent scared about the possibility\\n                                                of a Clinton presidency. Not surprisingly, voters were sharply divided along partisan lines. ', 'While Republican voters were most likely to say they were excited (24 percent) or optimistic (41 percent), a full one-third of Republicans say they are concerned or scared about Mr. Trump. Mrs. Clinton’s\\n                                                base views her potential presidency more favorably than does Mr. Trump’s. Twenty-two percent of Democratic voters are excited and 54 percent are optimistic, while only 23 percent said they were concerned\\n                                                or scared.', 'The nationwide telephone poll was conducted Dec. 4-8 with 1,053 registered voters, including 431 Republican primary voters and 384 Democratic primary voters. The margin of sampling error is plus or minus 4 percentage\\n                                                points for registered voters and plus or minus 6 percentage points each for Republican and Democratic primary voters.', 'The rest of the poll results will be released tonight at 6:30 p.m. ', 'Megan Thee-Brenan is a member of The Times’s news surveys department.', 'This is one of an occasional series of posts taking a deeper look at polling during this campaign cycle.\\n\\n', 'Find out what you need to know about the 2016 presidential race today, and get politics news updates via Facebook, Twitter and the First Draft newsletter.', '', 'By JONATHAN MARTIN and DALIA SUSSMAN', 'Americans are deeply fearful of another terrorist attack, lifting Donald J. Trump to a new high among likely Republican primary voters, the poll found.', '', '\\n                                First Draft provides fast-paced and comprehensive coverage of politics and elections by The New York Times. Come back throughout the day for the latest news and analysis, and be part of the political conversation.\\n                            ', '\\nLike it? Hate it? Have a tip for us? Send any and all feedback to firstdraft@nytimes.com.\\n                            ', '\\n                                    We send out a newsletter around 7 a.m. eastern time each weekday that serves as a look-ahead to the day&aposs political events and expected stories.\\n                                ']\n",
      "http://www.newsweek.com/carson-faces-debate-attacks-387866 174\n",
      "[]\n",
      "https://www.politico.eu/article/german-far-right-afd-surges-in-eastern-elections/ 175\n",
      "[]\n",
      "http://www.huffingtonpost.com/entry/kasich-suggests-he-wouldnt-cancel-iran-deal-would-send-troops-to-fight-isis_55b4d696e4b0074ba5a4d17e?utm_hp_ref=politics 189\n"
     ]
    }
   ],
   "source": [
    "path1 = \"./dataset/free_left/txt_file/\" # central data\n",
    "path2 = \"elec_\"\n",
    "news = set()\n",
    "num = list()\n",
    "titles = []\n",
    "df = pd.DataFrame()\n",
    "dff = df3\n",
    "count = 0\n",
    "for i in range(160,len(dff)):\n",
    "    path = path1+path2 + str(i) + \".txt\"\n",
    "    if not os.path.isfile(path):\n",
    "        fp = open(path1+path2+str(i)+\".txt\", \"w\")\n",
    "        fp.write(\"s\")\n",
    "        fp.close()\n",
    "    with open(path, 'rb') as ff:\n",
    "        f = ff.read()\n",
    "    if not os.path.isfile(path) or len(f) == 0:\n",
    "        stories = \"\"\n",
    "        link = dff.loc[i]['link']\n",
    "        print(link, i)\n",
    "        r = requests.get(link)\n",
    "        #if link[:35] == \"\"\n",
    "        if r.status_code == requests.codes.ok:\n",
    "            soup = BeautifulSoup(r.text, 'html.parser')\n",
    "            stories = soup.find_all('p')\n",
    "        # Unifying the paragraphs\n",
    "        list_paragraphs = []\n",
    "        for s in stories:\n",
    "            list_paragraphs.append(s.getText())\n",
    "        print(list_paragraphs)\n",
    "        final_article = \" \".join(list_paragraphs)  \n",
    "        # Removing special characters\n",
    "        final_article = re.sub(\"\\\\xa0\",\"\", final_article)\n",
    "        final_article = re.sub(r\"[^a-zA-Z0-9]+\", ' ',final_article.lower())\n",
    "        #print(final_article)\n",
    "        fp = open(path1+path2+str(i)+\".txt\", \"w\")\n",
    "        fp.write(final_article)\n",
    "        fp.close()\n",
    "'''for filename in os.listdir(path):\n",
    "    title = filename.split('.')[0]\n",
    "    number = title.split('_')[1]\n",
    "    tt = title.split('_')[0]\n",
    "    if(tt == 'elec'):\n",
    "        num.append(int(number))'''\n",
    "    \n",
    "    #filename = path + filename\n",
    "    #tmp_count = len(news)\n",
    "    #with open(filename, \"r\") as file:\n",
    "    #    text = file.read()\n",
    "     #   news.add(text[:-100]) # remove repeated texts (writer info)\n",
    "      #  if tmp_count < len(news):\n",
    "       #     titles.append(title+text[:10])\n",
    "#lables = [\"central\" for i in range(len(news))]\n",
    "#df['Content'] = list(news)\n",
    "#df['Category'] = lables\n",
    "#df['Title'] = titles\n",
    "#df.head()\n",
    "num = sorted(num)\n",
    "count = 0\n",
    "\n",
    "for i in num:\n",
    "    if i != count:\n",
    "        print(i, count)\n",
    "        count +=2\n",
    "    else:\n",
    "        count +=1\n",
    "        \n",
    "        "
   ]
  },
  {
   "cell_type": "code",
   "execution_count": 10,
   "metadata": {},
   "outputs": [
    {
     "data": {
      "text/plain": [
       "35"
      ]
     },
     "execution_count": 10,
     "metadata": {},
     "output_type": "execute_result"
    }
   ],
   "source": [
    "len(\"https://www.washingtonexaminer.com/\")"
   ]
  },
  {
   "cell_type": "code",
   "execution_count": null,
   "metadata": {},
   "outputs": [],
   "source": []
  }
 ],
 "metadata": {
  "kernelspec": {
   "display_name": "Python 3",
   "language": "python",
   "name": "python3"
  },
  "language_info": {
   "codemirror_mode": {
    "name": "ipython",
    "version": 3
   },
   "file_extension": ".py",
   "mimetype": "text/x-python",
   "name": "python",
   "nbconvert_exporter": "python",
   "pygments_lexer": "ipython3",
   "version": "3.7.3"
  }
 },
 "nbformat": 4,
 "nbformat_minor": 2
}

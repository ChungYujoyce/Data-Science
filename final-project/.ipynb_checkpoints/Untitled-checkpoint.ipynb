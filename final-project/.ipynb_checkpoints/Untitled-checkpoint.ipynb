{
 "cells": [
  {
   "cell_type": "code",
   "execution_count": 6,
   "metadata": {},
   "outputs": [
    {
     "name": "stdout",
     "output_type": "stream",
     "text": [
      "9647\n"
     ]
    },
    {
     "data": {
      "text/plain": [
       "2961"
      ]
     },
     "execution_count": 6,
     "metadata": {},
     "output_type": "execute_result"
    }
   ],
   "source": [
    "from sklearn.utils import shuffle\n",
    "import pandas as pd\n",
    "import pickle\n",
    "from sklearn.feature_extraction.text import TfidfVectorizer\n",
    "from sklearn.metrics.pairwise import linear_kernel\n",
    "# instantiating and generating the count matrix\n",
    "from sklearn.metrics.pairwise import cosine_similarity\n",
    "from sklearn.feature_extraction.text import CountVectorizer\n",
    "\n",
    "path_df = \"Pickles/News_dataset.pickle\"\n",
    "\n",
    "with open(path_df, 'rb') as data:\n",
    "    df = pickle.load(data)\n",
    "    "
   ]
  },
  {
   "cell_type": "code",
   "execution_count": 8,
   "metadata": {},
   "outputs": [],
   "source": [
    "with open('Pickles/News_central.pickle', 'wb') as data:\n",
    "    pickle.dump(df, data)"
   ]
  },
  {
   "cell_type": "code",
   "execution_count": 8,
   "metadata": {},
   "outputs": [
    {
     "name": "stderr",
     "output_type": "stream",
     "text": [
      "[nltk_data] Downloading package punkt to\n",
      "[nltk_data]     C:\\Users\\USER\\AppData\\Roaming\\nltk_data...\n",
      "[nltk_data]   Package punkt is already up-to-date!\n"
     ]
    }
   ],
   "source": [
    "import nltk,os\n",
    "import requests\n",
    "import pandas as pd\n",
    "nltk.download('punkt')\n",
    "import numpy as np\n",
    "import pickle, time\n",
    "from datetime import datetime\n",
    "from sklearn.feature_extraction.text import TfidfVectorizer\n",
    "from sklearn.metrics.pairwise import linear_kernel\n",
    "from sklearn.metrics.pairwise import cosine_similarity\n",
    "from sklearn.feature_extraction.text import CountVectorizer"
   ]
  },
  {
   "cell_type": "code",
   "execution_count": 13,
   "metadata": {},
   "outputs": [],
   "source": [
    "def cosine_recommender(title, top=10):\n",
    "    path_df = \"Pickles/News_central_rec2.pickle\"\n",
    "    \n",
    "    with open(path_df, 'rb') as data:\n",
    "        df = pickle.load(data)\n",
    "        \n",
    "    df['bag_of_words'] = ''\n",
    "    columns = df.columns\n",
    "    for index, row in df.iterrows():\n",
    "        words = ''\n",
    "        for col in columns:\n",
    "            if col == 'Content':\n",
    "                words = words + row[col]+ ' '\n",
    "        row['bag_of_words'] = words\n",
    "    text = df.bag_of_words.tolist()\n",
    "    #title = df.loc[count]['Title']\n",
    "    vectorizer = CountVectorizer(text)\n",
    "    vectors = vectorizer.fit_transform(text).toarray()\n",
    "    df_index = title # set id as user input\n",
    "\n",
    "    cosines = []\n",
    "    for i in range(len(vectors)):\n",
    "        vector_list = [vectors[df_index], vectors[i]]\n",
    "        cosines.append(cosine_similarity(vector_list)[0,1])\n",
    "\n",
    "    cosines = pd.Series(cosines)\n",
    "    index = cosines.nlargest(top+1).index\n",
    "\n",
    "    matches = df.loc[index]\n",
    "    print(matches)\n",
    "    return zip(matches['Title'][1:], cosines[index][1:])"
   ]
  },
  {
   "cell_type": "code",
   "execution_count": 14,
   "metadata": {},
   "outputs": [
    {
     "name": "stdout",
     "output_type": "stream",
     "text": [
      "                                                Content  \\\n",
      "11                                                  NaN   \n",
      "1193                                                NaN   \n",
      "33                                                  NaN   \n",
      "201                                                 NaN   \n",
      "188                                                 NaN   \n",
      "1148                                                NaN   \n",
      "912                                                 NaN   \n",
      "37                                                  NaN   \n",
      "1089                                                NaN   \n",
      "1226                                                NaN   \n",
      "1314   mark memmott democrat terry mcauliffe who won...   \n",
      "\n",
      "                                                   Link  \\\n",
      "11                                                  NaN   \n",
      "1193                                                NaN   \n",
      "33                                                  NaN   \n",
      "201                                                 NaN   \n",
      "188                                                 NaN   \n",
      "1148                                                NaN   \n",
      "912                                                 NaN   \n",
      "37                                                  NaN   \n",
      "1089                                                NaN   \n",
      "1226                                                NaN   \n",
      "1314  http://www.npr.org/blogs/thetwo-way/2013/11/06...   \n",
      "\n",
      "                                     Title  \\\n",
      "11                                     NaN   \n",
      "1193                                   NaN   \n",
      "33                                     NaN   \n",
      "201                                    NaN   \n",
      "188                                    NaN   \n",
      "1148                                   NaN   \n",
      "912                                    NaN   \n",
      "37                                     NaN   \n",
      "1089                                   NaN   \n",
      "1226                                   NaN   \n",
      "1314  Your Election News In Five Headlines   \n",
      "\n",
      "                                           bag_of_words  \n",
      "11                                                  NaN  \n",
      "1193                                                NaN  \n",
      "33                                                  NaN  \n",
      "201                                                 NaN  \n",
      "188                                                 NaN  \n",
      "1148                                                NaN  \n",
      "912                                                 NaN  \n",
      "37                                                  NaN  \n",
      "1089                                                NaN  \n",
      "1226                                                NaN  \n",
      "1314   mark memmott democrat terry mcauliffe who won...  \n"
     ]
    },
    {
     "name": "stderr",
     "output_type": "stream",
     "text": [
      "C:\\Users\\USER\\Anaconda3\\lib\\site-packages\\ipykernel_launcher.py:29: FutureWarning: \n",
      "Passing list-likes to .loc or [] with any missing label will raise\n",
      "KeyError in the future, you can use .reindex() as an alternative.\n",
      "\n",
      "See the documentation here:\n",
      "https://pandas.pydata.org/pandas-docs/stable/indexing.html#deprecate-loc-reindex-listlike\n"
     ]
    }
   ],
   "source": [
    "res = cosine_recommender(11, top=10)"
   ]
  },
  {
   "cell_type": "code",
   "execution_count": 27,
   "metadata": {},
   "outputs": [
    {
     "data": {
      "text/plain": [
       "1454"
      ]
     },
     "execution_count": 27,
     "metadata": {},
     "output_type": "execute_result"
    }
   ],
   "source": [
    "path_df = \"Pickles/News_central_rec2.pickle\"\n",
    "    \n",
    "with open(path_df, 'rb') as data:\n",
    "    df = pickle.load(data)\n",
    "    \n",
    "df = df[df.Category == 'left']\n",
    "\n",
    "\n",
    "df.loc[:]\n",
    "    \n",
    "f = open('Pickles/info.txt', 'w') \n",
    "for i,r in df.iterrows():\n",
    "    line = \"\"\n",
    "    line = str(r[0]) +\" \"+ str(r[1]) +\" \"+ str(r[2]) + \"\\n\"\n",
    "    print(line)\n",
    "    #f.write(line)"
   ]
  },
  {
   "cell_type": "code",
   "execution_count": 17,
   "metadata": {},
   "outputs": [],
   "source": [
    "with open('Pickles/News_central_rec2.pickle', 'wb') as data:\n",
    "    pickle.dump(df, data)"
   ]
  },
  {
   "cell_type": "code",
   "execution_count": 19,
   "metadata": {},
   "outputs": [
    {
     "data": {
      "text/plain": [
       "zip"
      ]
     },
     "execution_count": 19,
     "metadata": {},
     "output_type": "execute_result"
    }
   ],
   "source": [
    "match = zip([1,2,3], [4,5,6])\n",
    "type(match)"
   ]
  },
  {
   "cell_type": "code",
   "execution_count": 33,
   "metadata": {},
   "outputs": [],
   "source": [
    "path_df = \"Pickles/News_central_rec1.pickle\"\n",
    "    \n",
    "with open(path_df, 'rb') as data:\n",
    "    df = pickle.load(data)\n",
    "    \n",
    "f = open('Pickles/info_cen1.txt', 'w', encoding='utf-8') \n",
    "lon = len(df)\n",
    "for i,r in df.iterrows():\n",
    "    line = \"\"\n",
    "    line = str(i) + \" \"+str(r[2]) +\" \" + \"\\n\"\n",
    "    f.write(line)\n",
    "    \n",
    "f.close()"
   ]
  },
  {
   "cell_type": "code",
   "execution_count": null,
   "metadata": {},
   "outputs": [],
   "source": []
  }
 ],
 "metadata": {
  "kernelspec": {
   "display_name": "Python 3",
   "language": "python",
   "name": "python3"
  },
  "language_info": {
   "codemirror_mode": {
    "name": "ipython",
    "version": 3
   },
   "file_extension": ".py",
   "mimetype": "text/x-python",
   "name": "python",
   "nbconvert_exporter": "python",
   "pygments_lexer": "ipython3",
   "version": "3.7.3"
  }
 },
 "nbformat": 4,
 "nbformat_minor": 2
}

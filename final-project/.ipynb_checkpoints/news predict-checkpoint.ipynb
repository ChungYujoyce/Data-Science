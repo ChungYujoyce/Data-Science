{
 "cells": [
  {
   "cell_type": "code",
   "execution_count": 1,
   "metadata": {},
   "outputs": [],
   "source": [
    "import pickle\n",
    "import pandas as pd\n",
    "import nltk\n",
    "from nltk.corpus import stopwords\n",
    "from nltk.tokenize import punkt\n",
    "from nltk.corpus.reader import wordnet\n",
    "from nltk.stem import WordNetLemmatizer\n",
    "from sklearn.feature_extraction.text import TfidfVectorizer"
   ]
  },
  {
   "cell_type": "code",
   "execution_count": 2,
   "metadata": {},
   "outputs": [],
   "source": [
    "path_models = \"Models/\"\n",
    "\n",
    "# SVM\n",
    "path_svm = path_models + 'best_gbc.pickle'\n",
    "with open(path_svm, 'rb') as data:\n",
    "    svc_model = pickle.load(data)"
   ]
  },
  {
   "cell_type": "code",
   "execution_count": 3,
   "metadata": {},
   "outputs": [],
   "source": [
    "path_tfidf = \"Pickles/tfidf.pickle\"\n",
    "with open(path_tfidf, 'rb') as data:\n",
    "    tfidf = pickle.load(data)"
   ]
  },
  {
   "cell_type": "code",
   "execution_count": 4,
   "metadata": {},
   "outputs": [],
   "source": [
    "category_codes = {\n",
    "    \n",
    "    'left': 0,\n",
    "    'central': 1,\n",
    "    'right': 2\n",
    "}"
   ]
  },
  {
   "cell_type": "code",
   "execution_count": 5,
   "metadata": {},
   "outputs": [],
   "source": [
    "import spacy\n",
    "def spacy_preprocess(text,lemma= True, pos= True, pos_select = [\"VERB\", \"NOUN\", \"ADJ\",\"ADV\",\"PART\"]):\n",
    "    # Initialize spacy 'en' model, keeping only tagger component needed for lemmatization\n",
    "    nlp = spacy.load('en', disable=['parser', 'ner']) # disable parser, ner for faster loading\n",
    "    # Parse the sentence using the loaded 'en' model object `nlp`\n",
    "    doc = nlp(text)\n",
    "    \n",
    "    if pos== False:\n",
    "        if lemma== True: text_preprocess= \" \".join([token.lemma_ for token in doc])\n",
    "        if lemma== False:text_preprocess= \" \".join([token.text for token in doc])\n",
    "    else:\n",
    "        if lemma== True : text_preprocess= \" \".join([token.lemma_ for token in doc if token.pos_ in pos_select])\n",
    "        if lemma== False : text_preprocess= \" \".join([token.text for token in doc if token.pos_ in pos_select])\n",
    "    return text_preprocess"
   ]
  },
  {
   "cell_type": "code",
   "execution_count": 6,
   "metadata": {},
   "outputs": [],
   "source": [
    "text1 = \"\"\"state mike pompeo joins anchor chris wallace on fox news sunday this is a rush transcript from fox news sunday september 8 2019 this copy may not be in its final form and may be updated chris wallace fox news anchor i aposm chris wallace president trump cancels a secret meeting with the taliban and calls off peace negotiations we aposll talk live with the secretary of state begin videotape donald trump president of the united states we aposre talking to the taliban we aposre talking to the government we aposll see if we can do something wallace those talks now in question after the president calls off a secret summit days after an agreement in principle with the taliban that would pull thousands of u s troops out of afghanistan and iran taking new steps to break out of the nuclear deal while president trump raises the possibility of a meeting with iran aposs president trump we aposre going to see what happens they want to talk they want to make a deal wallace we aposll discuss all of this with secretary of state mike pompeo live only on fox news sunday then mark sanford former south carolina governor it aposd be a very steep climb but you know that going in wallace former south carolina governor mark sanford considers running against president trump for the 2020 republican nomination will he join the race it aposs a fox news sunday exclusive plus lawmakers returned to congress after the long summer recess we aposll ask our sunday panel what to expect on gun control impeachment and keeping the government running and our power player of the week the woman leading the charge to protect the legends who built pro football lisa marie riggins advocate for nfl pension parity how do you stand by and watch it if there aposs something you can at least try to do wallace all right now on fox news sunday end videotape wallace and hello again from fox news in washington we begin with stunning news from president trump that he planned to hold a secret meeting at camp david today with taliban leaders and the afghan president but late last night he announced on twitter he has canceled the meeting and all peace talks with the taliban after that group claimed it was behind a bomb attack this week in kabul that killed a u s soldier in a moment we aposll talk with secretary of state mike pompeo live here in washington but first david spunt has the latest from the white house david david spunt fox news correspondent chris good morning the president aposs announcement comes just days before the u s marks 18 years since the 9 11 terror attacks and throws into question withdrawing troops from america aposs longest war begin videotape spunt the suicide car bombing near the u s embassy in kabul left an american soldier dead killing others nearby it happened just two days before leaders were set to discuss removing 5 000 u s troops from the country president trump tweeting saturday night i immediately canceled the meeting and called off peace negotiations what kind of people would kill so many in order to seemingly strengthen their bargaining position secretary of state mike pompeo paid his respects saturday night during the dignified transfer of 34 year old army sergeant first class elis barreto ortiz the president also weighing negotiations with iran trump they would like to be able to solve their problem they got a big problem they are getting killed financially spunt there is speculation he might meet with iran aposs president hassan rouhani at the united nations later this month on saturday iranian officials announced they will continue to advance the use of centrifuges a violation of the 2015 nuclear agreement the u s backed out of the deal last year the head of the international atomic energy agency cornel feruta will meet with iranian leaders on sunday to discuss the recent developments end videotape spunt now chris back to afghanistan the taliban releasing a statement this morning i want to read to you it is a bold statement and this was a quote the americans will suffer more than anyone else for canceling the talks that is a statement from a taliban spokesman this morning chris back to you wallace david spunt reporting from the white house david thank you joining us now to discuss all of this and more secretary of state mike pompeo mr secretary welcome back to fox news sunday mike pompeo u s secretary of state chris it aposs great to be back on thanks for having me on the show this morning wallace let aposs start with the president aposs tweet late last night that he has called off the meeting canceled the meeting with the taliban that was to be held at camp david today a secret meeting and that he has called off all peace talks negotiations with the taliban where does that leave the plan to begin to pull u s troops out of afghanistan pompeo well chris remember the principles president trump has made clear he wants to reduce risks to americans you showed the pictures last night from the dignified transfer the remains of sergeant first class barreto i was out there with his family it aposs a reminder to all of us of the enormous costs and sacrifice these heroes make for us each and every day president trump is trying to reduce that risk at the same time he aposs committed to making sure that we reduce the risk that terror should ever strike the united states from afghanistan again and so we aposve been working for months for a peace and reconciliation deal we aposve been working with the afghan government working with other afghan leaders been working with the taliban to try and reduce the level of violence to commence and you would know this chris well we aposve been trying to get the afghans to talk to each other this basic idea for almost two decades now and we had their the taliban aposs commitment to do that we had their commitment to break from al qaeda publicly and they would obviously have to deliver on that commitment so we aposve made real progress but in the end the taliban overreached they forgot that america is always going to protect its interests the commander the commander of resolute support and the nato forces there are still at this hard ph we killed over a thousand taliban just in the last 10 days and while this isn apost a war of attrition the american people should know we will continue to apply the appropriate pressure to make sure that we aposre never struck with terror again from afghanistan wallace so are the talks now dead and what will it take to restart them pompeo well for the time being they are wallace they aposre dead pompeo we aposve recalled we aposve recalled ambassador khalilzad to come back to washington so that we can begin to think about how we would chart the path forward and i think in all ph although the president hasn apost made a final decision but what they did here was they tried to use terror to improve their negotiating position and i think anyone who was observed president trump knows whether it was in hanoi with north korea or whether it aposs been in how we responded when the chinese reneged on their commitment in the trade deal if in the course of a conversation where we aposre trying to improve both teams apos outcomes through a negotiated solution if the other team commits an act that aposs inconsistent with that president trump is not going to take that deal he aposs not going to take a bad deal we aposre looking for more than words on paper were looking for real delivered commitment and the taliban demonstrated either that they weren apost willing to or couldn apost live up to the commitment they needed to make to reduce violence there wallace so the talks are off indefinitely pompeo i hope i hope we get them started back it will ultimately be up to the taliban they have got to demonstrate that they aposre prepared to do the things that we ask them to do in the course of those negotiations wallace but the taliban as david spunt just reported has just come out with the statement crosstalk pompeo you know a lot of people bluster chris there aposs those words cooler heads i hope will prevail i didn apost see the full statement i don apost know its context i don apost know precisely who issued with this it aposs the case that the taliban is not monolithic crosstalk wallace let me just they said americans will suffer more than anyone else and that this will result in the death of more american troops pompeo i hope that aposs not the case we don apost want any loss of american life know this know that our department of defense and general miller have the full authority to do what they need to do to protect american soldiers sailors air force folks working in the area and do everything they need to do to prevent a terror attack from ever coming back to the united states as it did now almost 18 years ago wallace i want to get to the bigger question who thought it was a good idea for the president of the united states you had an agreement in principle already your envoy meeting with taliban leaders in qatar fine who thought it was a good idea for the president of the united states to meet with taliban leaders who have the blood of thousands of americans on their hands just three days before 9 11 pompeo you know we know the history of camp david we reflected on that as we were thinking about how to deliver for the american people and so as we considered the right path forward your point about an agreement in principle i think that aposs true we weren apost complete still lots of implementation issues lots of technical issues that needed to be worked on even though we aposve been doing this for months president trump ultimately made the decision he said i want to talk to president ghani i want to talk to these taliban negotiators i want to look them in the eye i want to see if we can get to the final outcome that we needed so that we could signoff on that deal so we found that arrangement acceptable that the verification was adequate and we concluded this was a perfectly appropriate place you know the history of camp david lots of bad folks have come through that place there have been lots of peace negotiations taking place it aposs almost always the case chris that you don apost get to negotiate with good guys the reason you aposre in negotiations to end wars to end conflicts to end violence to reduce risk to the american people is almost always because the person across the table from you isn apost exactly the finest wallace well i understand i don apost want to press the point too much but you know yasser arafat was there and obviously he was responsible the palestinian liberation organization for the death of many people pompeo many americans wallace but the taliban has the had the deaths of thousands of americans and it aposs just three days before 9 11 no concerns about that and i guess my question is you know i can understand the envoy talking to them why does the president have to confer that status on them pompeo yes president trump was very clear he wanted to make sure we got to the right place he has always been someone i aposve observed this now for my entire time working for him as cia director and now as secretary of state he is willing to take risks if he believes he can deliver a good outcome for the american people he was he was hopeful that this conversation would lead i mean we aposve been at this now almost two decades chris 30 billion a year and we aposve got terrorists all across the world not just in afghanistan we aposve got to make sure we have the forces postured right all across the world we sometimes singularly focus on afghanistan because of its deep history and deep connection and what they did on 9 11 that still angers me to this very moment we aposve got to make sure we get it right and our efforts over the last months have been to do that president trump has been very clear about our mission set and i hope we aposll get the opportunity to continue to head down that path so that we can get the reduction in violence and we can get the taliban to make a commitment and then live up to it to break with al qaeda and that we can get them back at the negotiating table with their afghan brothers and sisters to reduce the level of violence there wallace iran just announced that it is going to use advanced centrifuges that will allow it to enrich uranium faster this is at least the third i don apost have to tell you the third violation of the nuclear deal that they have made in recent months all of these are shortening the time that iran would need to build an atomic well a nuclear weapon to less than a year i is the threat of a nuclear iran increasing and given the fact u s sanctions have hammered the economy but they aposre not stopping iran in this area what aposs the u s going to do about it pompeo chris we hope the whole world will join us president trump has been very clear iran won apost have a nuclear weapon on our watch we aposll stop it he aposs made clear we are prepared to do whatever it takes to ensure that that aposs the case the challenge is of course we came in after the previous administration had given the islamic republic of iran ayatollah given him billions of dollars in economic wealth with which to build these very programs and as you see chris they can turn them back on like that one of the central failures of the jcpoa is that whatever limits there were could be turned back on in a minute and we see this right they make an announcement the next thing you know they are spinning centrifuges higher and higher enrichment rates this was a crazy failed deal and so our approach has been very different build out alliances with the gulf states with israel with all the partners around the world who understand the threat of nuclear weapons inside of the middle east inside of the islamic republic of iran and to reduce the capacity to execute that and we aposve done it we can see it with hezbollah they have fewer resources we can see it with the shia militias in iraq they are scrambling for resources we think the iranian government will shrink that their gdp will shrink by as much as 12 or 14 percent this year this will reduce their capacity to purchase the things they need the equipment they need the materials they need to inflict terror around the world that aposs president trump aposs approach i think we aposve been very successful so far wallace president trump talks about the possibility of meeting with iranian president rouhani possibly at the u n general assembly later this month here he is begin video clip donald trump president of the united states their inflation is at a number that few people have ever seen inflation at and it aposs a very sad situation they could solve it very quickly we could solve it in 24 hours but we aposll see what happens end video clip wallace but rouhani says no meeting until all u s sanctions are lifted first and president trump says there aposs no way that aposs going to happen what do you put the odds of a trump rouhani summit this month at the u n pompeo i aposll leave that to the folks in vegas here aposs how i know we aposll think about it president trump will think about whether it aposs appropriate to meet based on whether he thinks we can get an improved outcome for the american people he has said he aposd meet with him with no preconditions i know the tos and fros inside the iranian government there are those who think it aposs wise to meet there are those who just want to continue to kill people around the world we need to make sure that we aposre doing all we can to make those that understand that the revolutionary nature of the iranian regime is unacceptable that the they aposve to change their behavior and that america will never permit them to have a nuclear weapon those inside of iran that understand that and i think that aposs the majority of the iranian people as well those are the folks we want to make sure and talk to so that we ultimately get the right outcome we want a successful iran we want them to be part of the community of nations you can apost do that when you aposre building missiles that threaten europe threaten israel and building out systems that could ultimately create a nuclear weapon wallace finally you spoke at kansas state university on friday which did not exactly dampen speculation that you might run for the senate next year which has been obviously talked about in fact jerry moran the other senator not the seat that you would be going for potentially had talked about the prospects of you running the other day here he is begin video clip sen jerry moran r ks i wouldn apost be surprised but ph what ph he would enter that race and i think he would be a good solid candidate that would be have a lot of support in kansas end video clip wallace so you have jerry moran aposs endorsement someone said the other day that you have gone recently from no to no comment you certainly are not shutting the door pompeo well that was very kind of senator moran i appreciate the vote of confidence and i know he was trying to be incredibly helpful as is senator mcconnell wallace who says you aposre his number one choice pompeo let aposs be very clear i have i have given the same message for the entire time i aposve been asked about this the only people who ask me about this are folks like you chris and that aposs just fine i aposm focused on what i aposm doing everyday so long as president trump wants me to be his secretary of state that aposs what i aposm intent upon i aposve given this a lot less thought than it sounds like lots of others may have wallace ok one last question in this regard and i aposll let it go you because i know that that aposs what you always say well i want to do what president trump wants me to do what if president trump comes to you because of jerry moran because of mitch mcconnell early next spring and says you know what what the most important thing you could do for me is to run for the senate to hold the senate republican majority then what would you do pompeo goodness knows chris i mean i literally these are impossible to answer because i spend as you can see i spend every waking moment trying to deliver american diplomacy around the world i aposm going to keep doing that so long as i aposm doing this and we aposll see we aposll see what life brings when when the next thing in life approaches wallace and we want to thank you and for honoring the service of sergeant barreto we all hold him in our hearts and we all hold the hearts of his family you tell me his dad was in the military other relatives in the military terrible loss pompeo chris thank you it was a terrible loss thank you for honoring him by bringing this back up that he is a true patriot and his family have sacrificed so much for our great country wallace secretary pompeo thank you thanks for your time always good to talk with you sir pompeo thank you sir wallace up next we aposll bring in our sunday group to discuss a potential peace deal with the taliban plus what would you like to ask the panel about what happens if u s troops leave afghanistan just go to facebook or twitter foxnewssunday and we may use your question on the air commercial break begin video clip trump we aposre like policemen in afghanistan but we aposre talking to thetaliban we are talking the government we aposll see if we can do something end video clip wallace president trump this week setting the stage for the u s to beginpulling troops from afghanistan but that aposs now in question after the president canceled a secret meeting at camp david to be held today with thetaliban and it aposs time now for our sunday group gop strategist karl rove fox news political analyst juan williams former congresswoman jane harman directorof the wilson center and anchor of the daily briefing dana perino karl you were there in the white house when president trump presidentbush rather launched the war in afghanistan back in 2001 what are yourthoughts and of course we are coming up this week on wednesday on theanniversary the 18th anniversary of 9 11 what are your thoughts aboutthe president wanting to meet with the taliban face to face people with the blood of thousands of americans on their hands at camp david and nowcalling up the meeting karl rove fox news contributor well look if it could bring about theend of the taliban aposs efforts to bring down the afghan government and toreestablish a sanctuary for terrorists it would be worth it but i thinkthe president wisely look the taliban has been throughout the entiretyof the negotiations with the u s escalating their attacks on both theafghans and us last year we lost 15 u s military personnel in afghanistan we lost 16thus far this year with the third of year you have to go and for the president the president found it intolerable and he was right to find itintolerable that while we had supposedly arrived at the outline of an agreement to end military hostilities between the taliban and the u s military and our nato allies that they launched this attack so somehow the united states khalilzad representative got maneuveredinto a meeting i think the president was absolutely right to cancel it the optics of it would be bad and they be enormously good for the taliban we don apost think that back home in the region they would take advantage ofthe fact that they were at camp david on the 18th anniversary of 9 11 weare getting ourselves enormous psychological wallace that was going to be true whether or not they had killed thoseone u s soldier or not that aposs why i question the idea of holding a meeting on the anniversary of 9 11 rove well it would be nice to know the back story of how we got to this but the fact of the matter is now the president has canceled and again hewas wise to do so wallace congresswoman you know with all due respect to karl he talksabout well this deal would bring peace but it wasn apost going to bring peace i mean as we know the outlines of it there was no national cease fire there was no assurance that there was going to be a deal between theafghan government and the taliban there was no guarantee that they weregoing to protect women i mean the deal as we saw it the tentative dealin principle did not make sense jane harman former congresswoman d ca not to me i was in congress on9 11 i was the senior democrat on the house intelligence committee iwas there when the buildings closed we got them reopened on 9 11 i was atthe site in new york a few days later smelled the stench i aposm never going to forget that and i have been there most 9 11s when thenames of the victims are read and you know no i think this whole thingwas crazy having the taliban come to the u s and adam kinzinger aposs wordswas just nuts it aposs sacrilegious especially on 9 11 i had no problemwith zal khalilzad a capable man negotiating in doha to see if it getssomewhere but the idea of negotiating with the taliban only outside theafghan government never made any sense it aposs a weak government with a weak military if we leave the day afterhis isis and al qaeda and the taliban resurgence and a new caliphate so it aposs a nice press release but it aposs a terrible outcome and it dishonors thepeople who died the trillions of dollars we spent and i aposm really happythis blew up wallace we ask you for questions for the panel and on what was until lastnight an agreement in principle with a taliban that would have includedpulling out 5 000 troops in five months and closing five u s bases we gotthis on facebook from jill mischo will this withdrawal allow the childventure take over the government again what about the women that werebrutalized under such a regime dana how do you answer jill and just generally your thoughts about thewhole enterprise up to this point dana perino anchor the daily briefing well the fact that the talibanwas found to actually have been response will the killing of an americanshould not have come as a surprise this is a pattern it aposs like a tigerwith its stripes it doesn apost end and therefore i agree not good notgood to have the meeting at camp david either i think i understand the objective but i think i could have beenaccomplished anywhere without the symbolism of camp david wallace or without the president meeting with the taliban perino well the president doesn apost have to be there right and youcould find out ok well let aposs just hypothetically say they get this agreement in principle and then let aposs see let aposs see what the talibandoes and let aposs see if the investment that the american taxpayers have madeand all the blood and treasure that we have dedicated to help reform tomake sure they can apost attack us from there and to help protect women andgirls in that area let aposs see what they do before you invite them to campdavid to the white house i understand the objective but i think it could have been achieved anotherway wallace i want to get to iran in a second but your thoughts about thewhole negotiation with the taliban and what i continue to harp on this astonishing idea before it was canceled and i agree with you the ideathat they were going to kill american soldiers dana was not a surprise perino i know they should not have been the idea that the presidentwas going to meet with the taliban at camp david three days before 9 11 juan williams fox news political analyst well i think this presidentsaw this as an opportunity for him to make history i mean it would havebeen a historic meeting much like what he did with kim jong un of northkorea wallace yes but kim jong un doesn apost have the blood of thousands ofamericans on his hands williams no no no but what i aposm saying is if you aposre in the president apossmind this was an opportunity for him to say i made history you know infact he called up a meeting with kim jong un before he then at subsequenttalks with kim jong un so we don apost know where this goes from here but i think for him it was anopportunity to say i aposm doing something three other presidents were unableto do get us out of afghanistan which is by the way politicallypopular in this country as an idea i think there are two ways we can go forward here one is we can when metmilitarily and obviously we haven apost done that over the course crosstalk wallace 18 years that doesn apost look likely williams eighteen years i think we have more than 2 300 americans dead chris so obviously it aposs very it would be very difficult but that would be the idea certainly and mike pompeo the secretary of state hassaid this you know al qaeda is on the run they are diminished but theislamic state remains and obviously the taliban remains the second thought i have on this is the way to solve this problem i thinkgoes back to something jane harman was just saying which is instead ofhaving the u s at the table with the taliban and talking about withdrawal let aposs get the government of afghanistan the people in kabul at the tablewith the taliban and insist that they make some kind of deal before theunited states begins withdrawing troops wallace but is that just part part of these negotiations there was no up to this point there was no talks between the taliban and the afghangovernment rove at the insistence of the taliban wallace i understand rove the taliban refuses so i agree with juan that this thing is ultimately going to be solved oneof two ways either we and the afghans and our nato allies hold the lineand defeat the taliban aposs ability to take over the central government or thecentral government of afghanistan itself gets that ability but we aposre notgoing to solve the problem by in my opinion but ultimately having us inthe taliban directly negotiate without the afghan people being presented atthe table wallace real quick harman and there is the day after problem which is it aposs a weakgovernment ghani tries but he aposs weak their military is feckless theonly reason they are where they are is that we are there both in terms ofour military and paramilitary assets in the country we leave the place is over the democracy experiment ends wallace all right we aposll have to leave iran for next week it will stillbe there panel we have to take a break here we aposll see you a little later in theprogram up next he aposs made stops in iowa and new hampshire to explore explore a long shot republican primary challenge to president trump but will heactually get into the race former south carolina governor mark sanfordjoins us live next commercial break wallace coming up former south carolina governor mark sanford considers a primary challenge to president trump begin video clip sanford he aposs the master of the putdown and the self congratulations butthat aposs not what will solve a lot of the problems that are facing ourcountry end video clip wallace we aposll ask whether he aposll make a run for the white house next commercial break chris wallace fox host former south carolina governor and congressman mark sanford admits a primary challenge to president trump would be a quote david versus goliath moment but he aposs thinking about it governor sanford joins us exclusively here in washington and governor welcome back to fox news sunday mark sanford r former south carolina governor my pleasure wallace all right you announced in july that you are considering runningfor president in the republican primaries against donald trump you aposvevisited early voting states like north like new hampshire and iowa have you made a decision are you going to enter the race against donaldtrump sanford i have and you know i planned to announce that back home thisweek we had a hurricane come visit us on the coast of south carolina sothat sort of disrupted plans on that front but i aposm here to tell you nowthat i am going to get in wallace you aposre going to run for president against donald trump in theprimaries sanford i am i am wallace why sanford because i think we need to have conversation on what it means tobe a republican i think that as a republican party we have lost our way and i aposd say so on a couple of different fronts i aposd say first and sort ofthe epicenter of where i aposm coming from is that we have lost our way on debtand deficits and spending you know one of the hallmarks of therepublican party and the conservative movement has always been how much dowe spend i mean it was milton freedman aposs notion of the ultimate measure ofgovernment is how much it spends i think as a party we aposve lost our way the president has called himself the king of debt has a familiarity and acomfort level with debt that i think is ultimately leading us in the wrongdirection we can get into those numbers but the numbers are astounding just take for instance as a data point this last debt deal that adds 2trillion of additional debt to our country over the next 10 years adds a third of a trillion dollars in new spending and really there wasn apostconversation on that so i aposd say the epicenter where i aposm coming from is we have got to have a national conversation and a republican conversation onwhere are we going on debt and deficits wallace but but i guess here aposs the question when i say why sanford sure wallace you aposve got to sanford i aposll come i aposll come in with some others wallace ok well we aposll get to them sanford yes yes yes yes wallace you aposve got to know you basically have no chance of winning therepublican nomination so why run for president sanford i think you probably would have said that same thing to donaldtrump just a matter of months ago as he faced the likes of jeb bush andothers wallace you honestly think you have a serious chance of beating sanford i aposm saying you never know i aposve said i aposve listed my goals myprimary goals to say let aposs go out and force or try and create a conversation on that which is not being talked about in this presidentialcycle once every four years we have a chance to have a national debate onwhere we aposre going next as republicans and democrats and as americans andthe thing that has been lacking in this debate has been an earnest and realconversation on debt and deficit and government spending and i find itastounding to watch the number of democratic debates that i aposve seen and nomention no conversation on where we aposre going with regard to debt and itsimplications for every one of us wallace all right your talk about the fact that donald trump was a longshot four years ago i don apost think it first of all he wasn apost running against an incumbent president of his own party sanford right wallace secondly let aposs look at some of the obstacles that you facedbecause they aposre they aposre sizable eighty five percent of republicans approve of the job the president is doing in a recent poll so he aposs gotstrong support in his own party a number of states including your home state of south carolina just yesterday have decided not to holdpresidential primaries at all and the rnc has done away with its committee to set up debates so how do you get your message out how do you even get on the playingfield with the president to have this debate sanford we aposre talking right now and we aposre talking on national television and i aposve been talking on a variety of different outlets here over the lastmonth as i aposve entertained this idea it would be my plan to build on thatgoing forward to go and spend serious time in new hampshire and and iniowa and a whole host of other states again this is the beginning of a long walk but it begins with that firstup and that aposs what i aposm announcing here today i would also say this it aposs not just debt and spending which is again myprimary focus given the fact that we aposre walking our way toward the most significant financial storm i believe in our country since the greatdepression that aposs what we aposre walking toward and i think we need again to have a real conversation about what that means for the american dreamand what that means in our ability to achieve a job wealth and all thosethings to go with with the american dream what i aposd also say is that we need to as well have a conversation on whereare we going on trade protectionism turning inward versus outward one ofthe again hallmarks of the republican party has always been a focus on on on the world at large and the recognition of the fact that though wewere not ultimately is a population the big player in the world economically we were because we engaged with the rest of the world if you look at the trump tariffs you aposre looking at about a thousanddollars per household the wall street journal had an article just yesterday talking about you aposre looking at about a one point deteriorationin the rate of growth going forward i think we need to have a conversationthere think we need to have a conversation on the degree to whichinstitutions and political culture are being damaged by this president and and you know those institutions and that political culture is reallythe glue that holds together our balance of power that aposs a longerconversation and finally i think we need to have a conversation on on humility andone aposs approach to politics at the end of the day a tweet is interesting maybe newsworthy but it aposs not leadership and we aposre not going to solvesome of the profound problems that we have as americans by tweet wallace all right you aposre getting into the you aposre in the race now you aposre going to get asked tough questions sanford sure wallace let me ask you the most obvious one i think it aposs fair to say sir that you are best known around the country as the governor who disappeared for a week in 2009 your aides said you were hiking theappalachian trail in fact you were a married governor sanford yes wallace in argentina with your then girlfriend question isn apost that going to be a deal breaker for a lot of voters sanford well i aposd again i actually went on an apology tour if youwant to call it that back home in the wake of that for the last year and a half of my governorship and what i learned through that is i guess whatgeneral mattis talks about which is the mistakes in life the mistakes that we make are the great tuitions of life they cost us but you canlearn from them and for me i learned a level of humility a level of empathy that ididn apost have before a level of judgment it is something of great regret it aposs something i aposve apologized extensively for and in contrast to thepresident when he says there aposs not a single thing that he sort of regrets or apologizes for i profoundly apologize for that and i believe in thechristian model of repentance and renewal and a second chance and what aposs been interesting in the wake of all that this is ten yearsago is that subsequent to that the folks who knew me best back home said look we don apost approve of that chapter of your life or how youhandled it but we aposre going to give you a second chance and we aposre going to send you to congress to represent us which i did for the following sixyears wallace you and the president have some history just in 2018 you wererunning for re election against a woman katie arrington at the very lastminute on election day the president endorsed her over you and you guyshadn apost gotten along for some period of time and after you lost in theprimary to arrington he laughed about it on the campaign trail here heis begin video clip donald trump president of the united states august 4 2018 she beats aman that likes flamingo dancers from argentina you know about that he wassupposed to be vacationing on the tallahassee trail but he was actually inargentina i don apost know jim do they have a tallahassee trail inargentina i don apost think right no no right end video clip wallace how much of this is personal sanford none again if you look at my 25 years in politics what you aposdfind is an absolute focus and all kinds of inaudible and the cato institute rated me the most financially conservative government in theunited states of america the national taxpayer aposs union citizens againstgovernment waste all the different rating agencies have seen howconsistently i have talk about this again we aposre nearing a tipping point financially that aposs going to haveprofound implications for my four sons and a whole lot of other kids and grandkids that are out there it aposs not personal but it is indicative of the where that the presidentmakes too many things personal i mean think about this my voting recordwas 90 more than 90 percent with the president ninety percent now i love my brothers and sisters but i don apost agree with them 90percent and yet we get along just fine but that aposs not the world of trump the world of trump is personal loyalty i believe as a conservative or loyalty is to be to ideals and to ideas and and we agreed on 90 percent wallace let me pick up on that sanford and we disagreed on a handful of things and therefore it aposs notgood enough wallace i i sanford there something wrong with that wallace i got less than a minute left sanford sure wallace and i want to just pick up on that sanford yes wallace because you point out that the gop the president has moved thegop away from traditional values like the deficits and free trade andamerica aposs role in the world how in a minute sanford yes wallace how do you explain the republican party aposs allegiance to presidenttrump despite all this sanford again it aposs the exact thing that got him elected people look athillary clinton versus donald trump and said ok i may not like some ofwhat he does or some of how he handles things but i i aposll pick him overher they haven apost had a choice and that aposs why i aposm running i think that americans deserve and need a choice that has had a realexecutive branch experience which i had over two terms as governor whichi aposve had real legislative experience which is what i had over 12 years inthe u s congress at the capitol right behind us and i think that if youlook at a lot of those polls about half of them say we would like to seethe president primaried we aposd like to see a conversation within the republican party wallace and now you aposre going to provide it sanford i aposm going to try wallace governor sanford thank you thanks for coming in today safetravels on the campaign trail sir sanford yes sir thank you wallace when we come back our sunday group will discuss the impact of thetrade war with china on the economy and they aposll look ahead to what congresswill do on guns and impeachment as lawmakers return from their long summerrecess commercial break begin video clip jerome powell chairman federal reserve i think it is the case that uncertainty around trade policy is causing some companies to hold back now on investment and so our obligation is to use our tools to support the economy and that aposs what we aposll continue to do end video clip wallace federal reserve chair jay powell openly hinting he aposs prepared to cut interest rates again as the tariff battle between the u s and china slows business investment and dampens consumer confidence and we aposre back now with the panel well the august jobs report was disappointing only 130 000 jobs new jobs created and take a look at this to put it in context over the last three months job growth has averaged per month 156 000 that compares to an average of 190 000 new jobs a month for the eight years since the end of the recession dana between the global slowdown and the continuing and perhaps intensifying trade war between the u s and china how big a threat to our economy and how big a threat to president trump aposs fortunes in 2020 dana perino anchor the daily briefing i think that the president actually has the pulse of the nation right on this one that they understand that china needs to be dealt with that aposs across the board in every sector but people seem to be getting a little bit nervous like you have\"\"\""
   ]
  },
  {
   "cell_type": "code",
   "execution_count": 7,
   "metadata": {},
   "outputs": [],
   "source": [
    "#text1 = spacy_preprocess(text1,lemma= True, pos= True, pos_select = [\"VERB\", \"ADJ\",\"ADV\"])"
   ]
  },
  {
   "cell_type": "code",
   "execution_count": 8,
   "metadata": {},
   "outputs": [],
   "source": [
    "def get_category_name(category_id):\n",
    "    for category, id_ in category_codes.items():    \n",
    "        if id_ == category_id:\n",
    "            return category"
   ]
  },
  {
   "cell_type": "code",
   "execution_count": 9,
   "metadata": {},
   "outputs": [],
   "source": [
    "punctuation_signs = list(\"?:!.,;\")\n",
    "stop_words = list(stopwords.words('english'))\n",
    "\n",
    "def create_features_from_text(text):\n",
    "    \n",
    "    # Dataframe creation\n",
    "    lemmatized_text_list = []\n",
    "    df = pd.DataFrame(columns=['Content'])\n",
    "    df.loc[0] = text\n",
    "    df['Content_Parsed_1'] = df['Content'].str.replace(\"\\r\", \" \")\n",
    "    df['Content_Parsed_1'] = df['Content_Parsed_1'].str.replace(\"\\n\", \" \")\n",
    "    df['Content_Parsed_1'] = df['Content_Parsed_1'].str.replace(\"    \", \" \")\n",
    "    df['Content_Parsed_1'] = df['Content_Parsed_1'].str.replace('\"', '')\n",
    "    df['Content_Parsed_2'] = df['Content_Parsed_1'].str.lower()\n",
    "    df['Content_Parsed_3'] = df['Content_Parsed_2']\n",
    "    for punct_sign in punctuation_signs:\n",
    "        df['Content_Parsed_3'] = df['Content_Parsed_3'].str.replace(punct_sign, '')\n",
    "    df['Content_Parsed_4'] = df['Content_Parsed_3'].str.replace(\"'s\", \"\")\n",
    "    wordnet_lemmatizer = WordNetLemmatizer()\n",
    "    lemmatized_list = []\n",
    "    text = df.loc[0]['Content_Parsed_4']\n",
    "    text_words = text.split(\" \")\n",
    "    for word in text_words:\n",
    "        lemmatized_list.append(wordnet_lemmatizer.lemmatize(word, pos=\"v\"))\n",
    "    lemmatized_text = \" \".join(lemmatized_list)    \n",
    "    lemmatized_text_list.append(lemmatized_text)\n",
    "    df['Content_Parsed_5'] = lemmatized_text_list\n",
    "    df['Content_Parsed_6'] = df['Content_Parsed_5']\n",
    "    for stop_word in stop_words:\n",
    "        regex_stopword = r\"\\b\" + stop_word + r\"\\b\"\n",
    "        df['Content_Parsed_6'] = df['Content_Parsed_6'].str.replace(regex_stopword, '')\n",
    "    df = df['Content_Parsed_6']\n",
    "    df = df.rename(columns={'Content_Parsed_6': 'Content_Parsed'})\n",
    "    \n",
    "    # TF-IDF\n",
    "    features = tfidf.transform(df).toarray()\n",
    "    \n",
    "    return features"
   ]
  },
  {
   "cell_type": "code",
   "execution_count": 10,
   "metadata": {},
   "outputs": [],
   "source": [
    "def predict_from_text(text):\n",
    "    \n",
    "    # Predict using the input model\n",
    "    prediction_svc = svc_model.predict(create_features_from_text(text))[0]\n",
    "    prediction_svc_proba = svc_model.predict_proba(create_features_from_text(text))[0]\n",
    "    \n",
    "    # Return result\n",
    "    category_svc = get_category_name(prediction_svc)\n",
    "    \n",
    "    print(\"The predicted category using the SVM model is %s.\" %(category_svc) )\n",
    "    print(\"The conditional probability is: %a\" %(prediction_svc_proba.max()*100))"
   ]
  },
  {
   "cell_type": "code",
   "execution_count": 11,
   "metadata": {},
   "outputs": [
    {
     "name": "stdout",
     "output_type": "stream",
     "text": [
      "The predicted category using the SVM model is right.\n",
      "The conditional probability is: 98.22916707845081\n"
     ]
    }
   ],
   "source": [
    "predict_from_text(text1) # right"
   ]
  },
  {
   "cell_type": "code",
   "execution_count": 12,
   "metadata": {},
   "outputs": [],
   "source": [
    "text2 = \"\"\"advertisement supported by president trump s campaign has launched a long promised barrage of attack ads against joseph r biden jr focusing on his age and his past comments on china by nick corasaniti and maggie haberman the first wave of long promised negative ads from the trump campaign began this week in caustic form flooding facebook pages and television screens in swing states with harsh messages that make unfounded inferences about joseph r biden jr s mental state and paint the presumptive democratic nominee as too friendly to the chinese government in may alone the trump campaign has spent or reserved about 7 million on television airtime in local markets fueling negative ads that repeat xenophobic tropes regarding the chinese origin of the coronavirus and unearth positive comments mr biden has made about china in the past the campaign s ads on facebook have taken their own dark turn its videos on the platform declare geriatric health is no laughing matter or joe biden old and out of it then use selective edits of mr biden s verbal stumbles and meandering soliloquies to make less than subtle suggestions about his mental acuity the negative ad offensive backed by a budget considered significant for this stage of the campaign represents a turning point in the general election though mr trump often takes to his twitter account to skewer mr biden as tired and boring his campaign s expansive digital advertising operation has been almost exclusively focused on raising money and finding new donors online last week the trump campaign boasted that it was about to press fire on a dormant arsenal of data driven digital and tv ads it plans to spend 10 million on its opening salvo against mr biden a budget first reported by politico as of late last month the campaign and the republican national committee had a 187 million cash advantage over mr biden and the democrats by pummeling mr biden on china and mental fitness the trump campaign is trying to define him early in the general election race at a time when many americans stuck at home amid the covid 19 crisis are even more tuned into glowing screens big and small the new ads that focus on china have two lines of attack one criticizes mr biden for saying the president s decision to restrict travel from china because of the coronavirus outbreak was hysterical xenophobia but most of the ads simply highlight statements that mr biden made when he was vice president like china is not our enemy mr trump too has at times praised china and its president xi jinping occasionally undermining attempts by aides and his campaign to portray china as a villain responsible for the virus the trump campaign is suddenly moving to play catch up after democratic groups aligned with mr biden have taken to the airwaves to attack mr trump including over his performance in responding to the coronavirus two groups priorities usa and american bridge have spent at least 20 million on anti trump ads since march 1 mr trump s campaign has been frustrated with its own aligned super pac america first for not doing more on television during this period of time indeed the last incumbent president to run for re election barack obama in 2012 benefited from an aggressive super pac at the time mr obama s campaign and his allies aired constant negative ads against mitt romney largely with the help of their supportive super pac and mr obama was in a much stronger position in that race than mr trump is currently if this election is about trump he probably loses said ken goldstein a professor of politics at the university of san francisco trump s only hope is to make the election about biden the trump and biden campaigns did not immediately respond to requests for comment on thursday though the trump campaign has never shied away from controversial messaging the decision to directly go after mr biden s age at 77 mr biden is four years older than mr trump risks a blowback from older voters and others one of the ads jokingly depicts mr biden in a nursing home a framing that could draw criticism as more than 28 000 people have died from the coronavirus in nursing homes and similar facilities in the united states but the ads targeting mr biden s age could be informed by a recent cnn poll that found mr trump leading mr biden on the question of stamina and sharpness by three percentage points the facebook ads trend toward the meme like shareable graphics that dominate social media with pictures of a dazed looking mr biden set against a backdrop of question marks the ads focusing on mr biden s age are running only on facebook and are running largely in eight battleground states according to data from the platform arizona wisconsin michigan ohio pennsylvania north carolina florida and georgia the trump campaign has spent 660 000 on facebook ads over the past week the campaign also has ads on facebook attacking mr biden for his past statements on china others criticize him for proposing policies to help undocumented immigrants running such varied online messages mr goldstein said was evidence that the trump campaign was still testing out the most effective lines of attack against the former vice president all of those ads that they put out one on china one on verbal missteps and the state of biden what they re doing is testing those to see which resonate best with different sorts of people mr goldstein said and then whichever ones that work best on facebook then first you ll see more of them on facebook then they ll fire for effect onto television on television the campaign s ads focusing on china dovetail with mr trump s strategy of assuming no responsibility for the severity of the outbreak in the united states and pinning the blame on china while highlighting tenuous ties between mr biden and china but the television ads also illustrate a challenge facing mr trump in the general election even as he goes on the offensive against mr biden he will have to continually defend his response to the pandemic as well mr trump weeks ago had vetoed ads that his campaign manager brad parscale had put together attacking mr biden and connecting him to china one adviser to mr trump said that mr trump did not want to attack mr biden that hard early on fearing he would knock him out of the race national democrats are not budging on mr biden as their presumptive nominee but some advisers have claimed to mr trump that he could potentially upend the contest another adviser however said that mr trump simply didn t like the visuals in the ads those visuals included footage from mr biden when he was younger updated may 18 2020 advertisement\"\"\""
   ]
  },
  {
   "cell_type": "code",
   "execution_count": 13,
   "metadata": {},
   "outputs": [
    {
     "name": "stdout",
     "output_type": "stream",
     "text": [
      "The predicted category using the SVM model is right.\n",
      "The conditional probability is: 81.95307090932596\n"
     ]
    }
   ],
   "source": [
    "predict_from_text(text2) "
   ]
  },
  {
   "cell_type": "code",
   "execution_count": 14,
   "metadata": {},
   "outputs": [],
   "source": [
    "text3 = \"\"\"whenever cynthia nixon leaves her manhattan apartment people thank her still every day multiple people come up to me and say i voted for you the actress and one time gubernatorial candidate tells me they say thank you for running one year ago nixon announced her run for governor of new york challenging two term incumbent andrew cuomo for the democratic nomination a longtime education activist she was a first time candidate going toe to toe with a political dynasty after a bitter race during which nixon called her opponent a corrupt liar and a flier paid for by the state democratic party which cuomo effectively controls painted her as an anti semite she lost the september primary garnering just 34 percent of the vote i ran to win i hoped to win i did everything i could to make that a possibility she says but at the end of the day i knew the most important thing about my running was to shed light on these issues she recognized that her odds of winning were very very small and says she didn t truly believe it would happen given cuomo s deep political ties and massive spending advantage his campaign outspent hers 10 to 1 instead success has come through the election of her allies and the enactment of more progressive policies during the campaign as cuomo appeared to tack left on marijuana legalization criminal justice reform and other issues some cited the cynthia effect cuomo s team disputed this characterization with a spokesperson telling the new york times the governor s long record of progressive accomplishment is irrefutable but nixon is quick to share credit explaining that although she ran knowing her celebrity status would attract media coverage and force a conversation on progressive issues she was actually part of a larger trend at the end of the day i knew the most important thing about my running was to shed light on these issues a lot of people ran in new york a lot of people ran across the country a lot of them were women a lot of them were people of color it s hard to say oh if this one thing hadn t happened this other one thing wouldn t have happened she says but i think there was a sense in new york and across the country and i think there is coming up to 2020 too we need all hands on deck and we have to step outside our comfort zones whatever that means in terms of political engagement and for a lot of people including me that meant running for office in january new york s freshly minted democratic state legislature passed a long stalled abortion law which among other things expanded the circumstances under which a woman could terminate a pregnancy after 24 weeks nixon had made reproductive rights a focus of her campaign calling attention to the legislature s independent democratic caucus a group of moderate democrats who voted with republicans and accusing cuomo of using them as cover for not pushing through stymied progressive legislation like the abortion law the group broke up last april and six of the eight former members lost re election throughout the race nixon also worked with the sexual harassment working group women who said they had experienced or reported sexual harassment or abuse while working in the state legislature nixon has continued to publicize their efforts and last month the group held its inaugural hearing the first on sexual harassment in the state legislature in nearly three decades nixon s running mate jumaane williams won his election last month for new york city public advocate and new york congresswoman alexandria ocasio cortez whom nixon endorsed early on has become a progressive superstar nixon says she and ocasio cortez still text every so often when i see all these things nixon tells me as she sips iced tea in her apartment and when i see them gaining steam not just in new york but on the national stage too i feel like i won it wasn t without a toll it was very scary she says of the campaign tearing up it was very hard on me it was very hard on my family the day after the election she wrapped herself in a blanket sat on her couch and gave herself permission not to do anything for a day a luxury she notes for a mother i just kind of sat there and drank water she says she called to thank people who had been part of the campaign but mostly she just let go luckily she says she had a life to go back to a career she could pick back up a few months after her defeat she signed on to netflix s ratched which imagines the origin story of the vicious nurse ratched from one flew over the cuckoo s nest i actually play a person with political ambitions she says the character an aide to the governor of california right after world war ii plans to run for office herself because she sees a new day on the horizon nixon s defining role as no nonsense lawyer miranda hobbes on hbo s sex and the city pervaded her campaign she leaned into it hard even making merchandise that trumpeted i m a miranda and i m voting for cynthia it was a really useful fundraising tool she tells me people know me as miranda and i share a lot in common with her i think it was kind of a shorthand for saying women like me are stepping up and are outspoken and are warriors and crusaders in the way that miranda was but her fame was used against her too of all the barbs she faced the bizarre jibe that she was an unqualified lesbian being labeled too angry to govern after her fiery debate performance her most frustrating experience with sexism was when she was attacked for being an actress it s not a neutral descriptor she says the way it was used against me in the race it meant ditsy or vain in another dig the cuomo campaign toasted their primary night victory with cosmopolitans the signature drink of sex and the city nixon hasn t left politics entirely since her defeat she s returned to her education advocacy particularly trying to bring attention to the billions of dollars that activists say the state owes new york city public schools after a 2006 court ruling and she plans to get involved in the 2020 presidential campaign she s impressed by elizabeth warren but wouldn t tell me who she ll endorse because it s still early days she did however say \"\"\""
   ]
  },
  {
   "cell_type": "code",
   "execution_count": 15,
   "metadata": {},
   "outputs": [
    {
     "name": "stdout",
     "output_type": "stream",
     "text": [
      "The predicted category using the SVM model is right.\n",
      "The conditional probability is: 97.77740890523083\n"
     ]
    }
   ],
   "source": [
    "predict_from_text(text3)"
   ]
  },
  {
   "cell_type": "code",
   "execution_count": 16,
   "metadata": {},
   "outputs": [],
   "source": [
    "text4 = \"\"\" bloomberg attorney general william barr said the federal jail where jeffrey epstein died had serious irregularities and he vowed to pursue justice for the financier s victims we are now learning of serious irregularities at this facility that are deeply concerning and demand a thorough investigation barr said monday in a speech before a law enforcement conference in new orleans we will get to the bottom of what happened and there will be accountability he said epstein 66 who faced federal charges of molesting teenage girls and sex trafficking died in an apparent suicide while in a federal jail in lower manhattan epstein wasn t on a suicide watch at the time even though he had been earlier because of a previous apparent attempt to kill himself let me assure you that this case will continue barr said any co conspirators should not rest easy the victims deserve justice and they will get it the u s bureau of prisons has said the fbi was investigating the circumstances epstein was found unresponsive in his cell saturday morning jail staff tried to revive him and summoned emergency medical personnel to take him to a nearby hospital but he was pronounced dead by hospital staff according to a brief statement new york city s chief medical examiner barbara sampson said in a statement that an autopsy of epstein had been performed sunday and that the determination of the cause of death awaited further information a private pathologist michael baden who previously served as the city s chief medical examiner observed the examination at the request of representatives of epstein which is routine practice sampson said sampson is confident epstein committed suicide by hanging but was seeking more information from law enforcement before issuing her finding the new york times reported citing a city official it didn t identify despite barr s assurances the death of epstein who evaded severe punishment for more than a decade thanks to lenient treatment by law enforcement could mean that molestation victims who had finally been promised their day in court by federal prosecutors won t get one after all jeffrey epstein s victims have once again been cheated out of an opportunity for justice said jack scarola a west palm beach florida lawyer who represents some of epstein s victims i m sure that none of them regret his death all of them regret the loss of information that died with him a financier with hundreds of millions in assets private planes and homes around the world epstein entered a controversial non prosecution agreement more than a decade ago with u s prosecutors which barred federal charges in florida against him and conspirators instead he admitted to two state prostitution charges and served 13 months in county jail in florida a federal judge ruled in february that the justice department broke the law by making that deal without consulting the accusers u s labor secretary alexander acosta who was the lead federal prosecutor in florida resigned in july because of renewed public fury over the case federal authorities in new york arrested epstein in july and charged him with sex trafficking after his private plane returned to teterboro airport in new jersey from paris his death is another black eye for the grim metropolitan correctional center in manhattan which holds almost 800 inmates awaiting trial in federal court or serving short term sentences it s been plagued in recent years by charges of corruption among guards accepting bribes to smuggle in drugs alcohol and mobile phones as well as rodent infestations and drug abuse and rape among inmates epstein who was being held without bail faced life in prison if he was convicted he pleaded not guilty last month and his lawyers have argued that prosecutors in manhattan were barred from bringing the case because of the agreement in florida they were expected to file a dismissal motion contact us at editors time com \"\"\""
   ]
  },
  {
   "cell_type": "code",
   "execution_count": 17,
   "metadata": {},
   "outputs": [
    {
     "name": "stdout",
     "output_type": "stream",
     "text": [
      "The predicted category using the SVM model is central.\n",
      "The conditional probability is: 47.43225906436739\n"
     ]
    }
   ],
   "source": [
    "predict_from_text(text4)"
   ]
  },
  {
   "cell_type": "code",
   "execution_count": 18,
   "metadata": {},
   "outputs": [],
   "source": [
    "cnn = \"\"\"Later Monday afternoon, Trump tweeted that he has \"zero interest\" in hosting the convention at his Doral resort in Florida, adding that the \"(b)allroom is not nearly big enough.\" The President also said he would like the convention to remain in North Carolina.\n",
    "The President's calls for a \"guarantee\" from North Carolina officials overlooks the uncertainty surrounding the summertime levels of the coronavirus and the challenges of hosting a political convention -- or any large event -- in the middle of an ongoing public health crisis.\n",
    "In an interview last week, Cooper said that data and science will guide his decisions on whether the state can hold large gatherings like the convention. He said the Republican convention, which he supported bringing to Charlotte, will be treated like any other event.\n",
    "\"This is not political. This is not emotional. This is based on health experts, data and science and that's it for everybody to see,\" Cooper told CNN. \"No one is being favored or disfavored over the other.\"\n",
    "Trump&#39;s convention threatens to become a flashpoint as North Carolina cautiously reopens\n",
    "Trump's convention threatens to become a flashpoint as North Carolina cautiously reopens\n",
    "The Republican convention, where the President will formally accept his party's nomination to a second term, has been on his mind for weeks. He has criticized Cooper for acting too slowly in reopening the state's economy and on Monday demanded an answer about the convention.\n",
    "\"Plans are being made by many thousands of enthusiastic Republicans, and others, to head to beautiful North Carolina in August,\" Trump said in a tweet. \"They must be immediately given an answer by the Governor as to whether or not the space will be allowed to be fully occupied. If not, we will be reluctantly forced to find, with all of the jobs and economic development it brings, another Republican National Convention site. This is not something I want to do.\"\n",
    "The tweets completely blindsided party officials and those involved in planning the convention, who have repeatedly argued that health and safety will come first. The officials have insisted planning for the convention is on track.\n",
    "However, Vice President Mike Pence echoed Trump on Monday, telling Fox News the convention could be moved \"if need be\" and listing some states that could be alternative locations.\n",
    "\"It's an issue we've been talking about because these national conventions literally take many months to organize and prepare and there are states around the country -- we think of Texas, we think of Florida, Georgia, the last two states I visited last week that have made tremendous progress on reopening their communities and reopening their economies,\" Pence said.\n",
    "The vice president said Trump's request of Cooper was \"very reasonable.\"\n",
    "\"We all want to be in Charlotte, we love North Carolina, but having a sense now is absolutely essential because of the rules and regulations that are involved, and we look forward to working with Gov. Cooper, getting a swift response, and, if need be, moving the national convention to a state that is farther along on reopening and can say with confidence that we can gather there,\" he said.\n",
    "RNC spokesperson Mandi Merritt reiterated Pence's remarks that the party needs \"assurances\" from Cooper.\n",
    "A Trump campaign official referred CNN to the President's tweets and vice president's comments on the topic, declining to respond to CNN's inquiry on whether the campaign got a heads-up that Trump's tweets were coming.\n",
    "Trump campaign laying groundwork for a return to in-person rallies\n",
    "Trump campaign laying groundwork for a return to in-person rallies\n",
    "Cooper, who is also up for reelection in November, has taken a slower and more measured approach in reopening businesses than Republican governors in neighboring states. On Friday evening, he began allowing restaurants, barber shops and salons to open with limitations, while gyms, bars and movie theaters will remain closed.\n",
    "Both Cooper and the Democratic mayor of Charlotte, Vi Lyles, said their recommendations and decisions about the convention will be guided by science, not politics. Business owners see the convention as a potential lifeline after more than two months of economic disaster.\n",
    "\"The good thing is that this is three months away and it's too early to tell where North Carolina will be,\" Cooper told CNN. \"But we are looking at these objective measures that everybody can see that everybody can see, that the public can examine.\"\n",
    "The Republican convention, which is scheduled to be held in the same uptown arena where President Barack Obama accepted his nomination to a second term in 2012, is awash in uncertainty as party officials determine how to navigate a presidential campaign during a public health crisis.\n",
    "Cooper said the Republican gathering would be treated like any other major event and it remained unclear whether concerts or the NFL would return this summer and fall. Crowds are still limited to 10 people, under the governor's order, with additional phases of reopening still to come.\"\"\""
   ]
  },
  {
   "cell_type": "code",
   "execution_count": 19,
   "metadata": {},
   "outputs": [
    {
     "name": "stdout",
     "output_type": "stream",
     "text": [
      "The predicted category using the SVM model is central.\n",
      "The conditional probability is: 68.54367972734711\n"
     ]
    }
   ],
   "source": [
    "predict_from_text(cnn)"
   ]
  },
  {
   "cell_type": "code",
   "execution_count": 20,
   "metadata": {},
   "outputs": [],
   "source": [
    "cnn2 = \"\"\"Sometime in the next few days, the 100,000th American will succumb to Covid-19 in a pandemic that President Donald Trump once predicted would just \"miraculously\" disappear.\n",
    "\n",
    "Yet despite, and perhaps because of, his earlier cavalier attitude, Trump spent the long holiday weekend bemoaning everything but the tragic roll call of death -- while also finding time to claim he got \"great reviews\" for handling the crisis.\n",
    "In his most politically significant maneuver, he heaped intense pressure on North Carolina's Democratic governor to permit a normal, crowded Republican National Convention, despite fears such a mass gathering could seed virus hot spots. Trump warned he could pull the huge money-earner out of Charlotte, which was picked to play host in August.\"\"\""
   ]
  },
  {
   "cell_type": "code",
   "execution_count": 21,
   "metadata": {},
   "outputs": [
    {
     "name": "stdout",
     "output_type": "stream",
     "text": [
      "The predicted category using the SVM model is central.\n",
      "The conditional probability is: 58.707924742079875\n"
     ]
    }
   ],
   "source": [
    "predict_from_text(cnn2)"
   ]
  },
  {
   "cell_type": "code",
   "execution_count": 22,
   "metadata": {},
   "outputs": [],
   "source": [
    "cnn3 = \"\"\"A surreal glimpse into a President's mind\n",
    "After three years of Trump deliberately trampling the normal codes of presidential behavior -- partly to show supporters he remains an anti-elite outsider, none of this is surprising.\n",
    "But that doesn't mean it isn't jarring, as the most wrenching moment so far approaches in the nation's battle against a pandemic that while ebbing in terms of total deaths is trending up in 18 states, is steady in 22 and easing in 10 more. More than 98,000 people in the US have now died from the coronavirus and more than 1.6 million have been infected. More than 30 million Americans have lost their jobs and the unemployment rate is approaching Great Depression levels.\n",
    "Some Americans take a holiday from social distancing and officials fear future spikes in coronavirus cases\n",
    "Some Americans take a holiday from social distancing and officials fear future spikes in coronavirus cases\n",
    "In 50 years, Trump's weekend Twitter blasts may come across as a startling document of a presidency rooted more than ever in personal obsessions, and incessant wars with the media and his increasing throngs of political enemies.\n",
    "There was little evidence of a deeper meaning to his presidency at this stage than personal an\"\"\""
   ]
  },
  {
   "cell_type": "code",
   "execution_count": 23,
   "metadata": {},
   "outputs": [
    {
     "name": "stdout",
     "output_type": "stream",
     "text": [
      "The predicted category using the SVM model is central.\n",
      "The conditional probability is: 89.7490580408102\n"
     ]
    }
   ],
   "source": [
    "predict_from_text(cnn3)"
   ]
  },
  {
   "cell_type": "code",
   "execution_count": 24,
   "metadata": {},
   "outputs": [],
   "source": [
    "ccc = \"\"\"judge on thursday denied president trump s associate roger stone a new trial after ruling that the foreperson of his november jury was not inherently biased against him stone had asked for a new trial after posts and tweets by the foreperson that were critical of mr trump and his policies were unearthed in her 81 page opinion judge amy berman jackson ruled that the foreperson s posts about trump could not be considered evidence of explicit bias against stone in the absence of any explicit statements of opinion about stone the defense casts its arguments about bias in terms of some sort of blend of anti stone and anti trump sentiment she said but linking them together in a sentence does not make them one and the same there is zero evidence of explicit bias against stone and defendant s attempts to gain a new trial based on implied or inferred bias fail the foreperson s comments came to light after the prosecutors in stone s case abruptly withdrew on february 12th 2020 protesting the justice department s decision to overrule their sentencing recommendation for stone with a lighter punishment the foreperson who is chosen by the other jurors to speak on behalf of the jury decided to speak out that day in defense of the prosecutors writing on facebook that they acted with the utmost intelligence integrity and respect for our system of justice she was later painted by conservative media figures as biased after posts and tweets were unearthed that criticized mr trump and his policies examples of her posts were provided to the court by the defense on january 30 2019 just after stone was arrested the foreperson retweeted someone who wrote roger stone has y all talking about reviewing use of force guidelines not alton sterling not eric gardner not walter scott not sandra bland but roger stone think about that on august 2nd she shared an atlantic article on twitter titled we re all tired of being called racists with the caption then stop being racists co signing and defending a racist and his racist rhetoric makes you a racist point blank the day after the prosecutors stepped down president trump weighed in too now it looks like the fore person in the jury in the roger stone case had significant bias he wrote add that to everything else and this is not looking good for the justice department stone requested a new trial the following day alleging the juror was dishonest about her political bias during jury selection and thus mishandled her role as foreperson of his jury on february 25th jackson held a hearing on stone s request and brought back the jurors from stone s november trial including the foreperson jackson questioned the foreperson and two randomly selected other jurors from his trial about her conduct and potential bias to which the two unidentified jurors stated that they had not witnessed any misconduct on her part when asked about whether she responded honestly on the juror questionnaire the foreperson said i don t have in memory every tweet or share that i ve done which is why i said i can t remember which was the honest answer at that time mr trump weighed in again during that hearing there has rarely been a juror so tainted as the forewoman in the roger stone case look at her background she never revealed her hatred of trump and stone she was totally biased as is the judge mr trump tweeted roger wasn t even working on my campaign miscarriage of justice sad to watch ultimately jackson was not persuaded by stone s argument that the foreperson tainted his trial due to an alleged political bias the court finds that the foreperson did not answer questions falsely on the questionnaire or during voir dire she did not engage in misconduct during the trial and the defendant did not use diligence to discover the information present in his motion jackson wrote therefore the court concludes in its discretion that the defense has not presented grounds for a new trial under rule 33 nor has it supplied any reason to believe that there has been a serious miscarriage of justice stone was sentenced to 40 months in prison after a federal ju\"\"\""
   ]
  },
  {
   "cell_type": "code",
   "execution_count": 25,
   "metadata": {},
   "outputs": [
    {
     "name": "stdout",
     "output_type": "stream",
     "text": [
      "The predicted category using the SVM model is central.\n",
      "The conditional probability is: 43.344155951710775\n"
     ]
    }
   ],
   "source": [
    "predict_from_text(ccc)"
   ]
  },
  {
   "cell_type": "code",
   "execution_count": null,
   "metadata": {},
   "outputs": [],
   "source": []
  }
 ],
 "metadata": {
  "kernelspec": {
   "display_name": "Python 3",
   "language": "python",
   "name": "python3"
  },
  "language_info": {
   "codemirror_mode": {
    "name": "ipython",
    "version": 3
   },
   "file_extension": ".py",
   "mimetype": "text/x-python",
   "name": "python",
   "nbconvert_exporter": "python",
   "pygments_lexer": "ipython3",
   "version": "3.7.3"
  }
 },
 "nbformat": 4,
 "nbformat_minor": 2
}

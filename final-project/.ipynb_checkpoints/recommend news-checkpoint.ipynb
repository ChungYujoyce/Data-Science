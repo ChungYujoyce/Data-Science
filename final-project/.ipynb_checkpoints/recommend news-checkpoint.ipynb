{
 "cells": [
  {
   "cell_type": "code",
   "execution_count": 1,
   "metadata": {},
   "outputs": [
    {
     "name": "stderr",
     "output_type": "stream",
     "text": [
      "[nltk_data] Downloading package punkt to\n",
      "[nltk_data]     C:\\Users\\USER\\AppData\\Roaming\\nltk_data...\n",
      "[nltk_data]   Package punkt is already up-to-date!\n"
     ]
    },
    {
     "data": {
      "text/plain": [
       "True"
      ]
     },
     "execution_count": 1,
     "metadata": {},
     "output_type": "execute_result"
    }
   ],
   "source": [
    "import nltk,os\n",
    "import requests\n",
    "import re\n",
    "import pandas as pd\n",
    "nltk.download('punkt')"
   ]
  },
  {
   "cell_type": "code",
   "execution_count": 2,
   "metadata": {},
   "outputs": [],
   "source": [
    "import numpy as np\n",
    "\n",
    "def tf(term, token_doc):\n",
    "    tf = token_doc.count(term)/len(token_doc)\n",
    "    return tf\n",
    "\n",
    "# create function to calculate how many doc contain the term \n",
    "def numDocsContaining(word, token_doclist):\n",
    "    doccount = 0\n",
    "    for doc_token in token_doclist:\n",
    "        if doc_token.count(word) > 0:\n",
    "            doccount +=1\n",
    "    return doccount\n",
    "  \n",
    "import math\n",
    "# create function to calculate  Inverse Document Frequency in doclist - this list of all documents\n",
    "def idf(word, token_doclist):\n",
    "    n = len(token_doclist)\n",
    "    df = numDocsContaining(word, token_doclist)\n",
    "    if df==0:\n",
    "        return 0\n",
    "    else:\n",
    "        return math.log10(n/df)\n",
    "\n",
    "#define a function to do cosine normalization a data dictionary\n",
    "def cos_norm(dic): # dic is distionary data structure\n",
    "    dic_norm={}\n",
    "    factor=1.0/np.sqrt(sum([np.square(i) for i in dic.values()]))\n",
    "    for k in dic:\n",
    "        dic_norm[k] = dic[k]*factor\n",
    "    return dic_norm\n",
    "\n",
    "#create function to calculate normalize tfidf \n",
    "def compute_tfidf(token_doc,bag_words_idf):\n",
    "    tfidf_doc={}\n",
    "    for word in set(token_doc):\n",
    "        if word not in bag_words_idf.keys(): # may not find keys\n",
    "            pass\n",
    "        else:\n",
    "            tfidf_doc[word]= tf(word,token_doc) * bag_words_idf[word] \n",
    "    tfidf_norm = cos_norm(tfidf_doc)\n",
    "    return tfidf_norm\n",
    "\n",
    "# create normalize term frequency\n",
    "def tf_norm(token_doc):\n",
    "    tf_norm={}\n",
    "    for term in token_doc:\n",
    "        tf = token_doc.count(term)/len(token_doc)\n",
    "        tf_norm[term]=tf\n",
    "    tf_max = max(tf_norm.values())\n",
    "    for term, value in tf_norm.items():\n",
    "        tf_norm[term]= 0.5 + 0.5*value/tf_max\n",
    "    return tf_norm\n",
    "\n",
    "def compute_tfidf_query(query_token,bag_words_idf):\n",
    "    tfidf_query={}\n",
    "    tf_norm_query = tf_norm(query_token)\n",
    "    for term, value in tf_norm_query.items():\n",
    "        tfidf_query[term]=value*bag_words_idf[term]   \n",
    "    return tfidf_query"
   ]
  },
  {
   "cell_type": "code",
   "execution_count": 3,
   "metadata": {},
   "outputs": [
    {
     "name": "stdout",
     "output_type": "stream",
     "text": [
      "12464\n"
     ]
    }
   ],
   "source": [
    "import pickle, time, os\n",
    "from datetime import datetime\n",
    "\n",
    "path_df = \"Pickles/News_dataset.pickle\"\n",
    "\n",
    "with open(path_df, 'rb') as data:\n",
    "    df = pickle.load(data)\n",
    "\n",
    "doc_all = {}\n",
    "\n",
    "for i in range(len(df)):\n",
    "    doc_all[df.loc[i]['Title']] = df.loc[i]['Content'].split()\n",
    "    \n",
    "print(len(doc_all))"
   ]
  },
  {
   "cell_type": "code",
   "execution_count": 4,
   "metadata": {
    "scrolled": true
   },
   "outputs": [
    {
     "name": "stdout",
     "output_type": "stream",
     "text": [
      "the number of term in bag_word 73622\n"
     ]
    }
   ],
   "source": [
    "now = datetime.now()\n",
    "current_time = now.strftime(\"%H:%M:%S\")\n",
    "start = time.time()\n",
    "#create bag words\n",
    "bag_words =[] # declare bag_words is a list\n",
    "for doc in doc_all.keys():\n",
    "    bag_words += doc_all[doc]\n",
    "bag_words=set(bag_words)\n",
    "#calculate idf for every word in bag_words\n",
    "bag_words_idf={}  \n",
    "bag_words_len = len(bag_words)\n",
    "bag_word_10 = round(bag_words_len/10,0)\n",
    "print(\"the number of term in bag_word\", bag_words_len)"
   ]
  },
  {
   "cell_type": "code",
   "execution_count": 5,
   "metadata": {},
   "outputs": [
    {
     "name": "stderr",
     "output_type": "stream",
     "text": [
      "[nltk_data] Downloading package punkt to\n",
      "[nltk_data]     C:\\Users\\USER\\AppData\\Roaming\\nltk_data...\n",
      "[nltk_data]   Package punkt is already up-to-date!\n"
     ]
    }
   ],
   "source": [
    "import nltk,os\n",
    "import requests\n",
    "import re, pickle\n",
    "import pandas as pd\n",
    "nltk.download('punkt')\n",
    "import numpy as np\n",
    "\n",
    "path_df = \"./Pickles/tfidf_for_recommend.pickle\"\n",
    "\n",
    "with open(path_df, 'rb') as data:\n",
    "    tfidf = pickle.load(data)\n",
    "\n",
    "path_df = \"./Pickles/bag_words_idf.pickle\"\n",
    "\n",
    "with open(path_df, 'rb') as data:\n",
    "    bag_words_idf = pickle.load(data)"
   ]
  },
  {
   "cell_type": "code",
   "execution_count": null,
   "metadata": {},
   "outputs": [],
   "source": [
    "query=\"bad trump\"\n",
    "query_token_raw= nltk.word_tokenize(query)\n",
    "query_token = [term for term in query_token_raw if term in bag_words]\n",
    "\n",
    "tfidf_query =compute_tfidf_query(query_token,bag_words_idf) #calculate tfidf for query text\n",
    "print(tfidf_query)"
   ]
  },
  {
   "cell_type": "code",
   "execution_count": null,
   "metadata": {},
   "outputs": [],
   "source": [
    "# add tfidf of query text to tfidf of all doc and convert to dataframe\n",
    "tfidf[\"query\"] = tfidf_query\n",
    "\n",
    "tfidf_df = pd.DataFrame(tfidf).transpose()\n",
    "tfidf_df= tfidf_df.fillna(0) # replace all NaN by zero\n",
    "\n",
    "from scipy.spatial.distance import cosine\n",
    "cosine_sim ={}\n",
    "for row in tfidf_df.index:\n",
    "    if row != \"query\":\n",
    "        cosine_sim[row]= 1-cosine(tfidf_df.loc[row],tfidf_df.loc[\"query\"])\n",
    "\n",
    "# the top 10 relevant document\n",
    "cosine_sim_top10 = dict(sorted(cosine_sim.items(), key=lambda item: item[1],reverse=True)[:10])\n",
    "print(cosine_sim_top10)\n",
    "\n",
    "current_time = now.strftime(\"%H:%M:%S\")\n",
    "print(\"Finish tfidf processing at\", current_time)\n",
    "spent = time.time() - start\n",
    "print(\"\\nTotal spent time: \"+str(spent) +\"sec\\n\")"
   ]
  },
  {
   "cell_type": "code",
   "execution_count": null,
   "metadata": {},
   "outputs": [],
   "source": [
    "#plot barchart\n",
    "import matplotlib.pyplot as plt\n",
    "data = cosine_sim_top10\n",
    "plt.barh(range(len(data)), list(data.values()), align='center', alpha=0.8)\n",
    "plt.yticks(range(len(data)), list(data.keys())) # label for y axis\n",
    "plt.xlabel('Smimilarity score')\n",
    "plt.ylabel('news')\n",
    "\n",
    "# save graph\n",
    "\n",
    "plt.savefig(\"./recommand_barchart.png\", bbox_inches='tight', dpi=600)\n",
    "plt.show()"
   ]
  },
  {
   "cell_type": "code",
   "execution_count": null,
   "metadata": {},
   "outputs": [],
   "source": []
  },
  {
   "cell_type": "code",
   "execution_count": null,
   "metadata": {},
   "outputs": [],
   "source": []
  }
 ],
 "metadata": {
  "kernelspec": {
   "display_name": "Python 3",
   "language": "python",
   "name": "python3"
  },
  "language_info": {
   "codemirror_mode": {
    "name": "ipython",
    "version": 3
   },
   "file_extension": ".py",
   "mimetype": "text/x-python",
   "name": "python",
   "nbconvert_exporter": "python",
   "pygments_lexer": "ipython3",
   "version": "3.7.3"
  }
 },
 "nbformat": 4,
 "nbformat_minor": 2
}

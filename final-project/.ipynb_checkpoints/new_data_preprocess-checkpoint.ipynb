{
 "cells": [
  {
   "cell_type": "code",
   "execution_count": 6,
   "metadata": {},
   "outputs": [],
   "source": [
    "import warnings\n",
    "warnings.filterwarnings(\"ignore\")\n",
    "import pandas as pd\n",
    "import matplotlib.pyplot as plt\n",
    "import pickle\n",
    "import seaborn as sns\n",
    "import os, sys\n",
    "import requests\n",
    "import pickle\n",
    "\n",
    "import requests\n",
    "from bs4 import BeautifulSoup\n",
    "import numpy as np\n",
    "import pandas as pd\n",
    "import re\n",
    "import time"
   ]
  },
  {
   "cell_type": "code",
   "execution_count": 7,
   "metadata": {},
   "outputs": [
    {
     "name": "stdout",
     "output_type": "stream",
     "text": [
      "3674\n"
     ]
    },
    {
     "data": {
      "text/html": [
       "<div>\n",
       "<style scoped>\n",
       "    .dataframe tbody tr th:only-of-type {\n",
       "        vertical-align: middle;\n",
       "    }\n",
       "\n",
       "    .dataframe tbody tr th {\n",
       "        vertical-align: top;\n",
       "    }\n",
       "\n",
       "    .dataframe thead th {\n",
       "        text-align: right;\n",
       "    }\n",
       "</style>\n",
       "<table border=\"1\" class=\"dataframe\">\n",
       "  <thead>\n",
       "    <tr style=\"text-align: right;\">\n",
       "      <th></th>\n",
       "      <th>title</th>\n",
       "      <th>link</th>\n",
       "    </tr>\n",
       "  </thead>\n",
       "  <tbody>\n",
       "    <tr>\n",
       "      <th>0</th>\n",
       "      <td>SE Asian foreign ministers voice concerns on S...</td>\n",
       "      <td>http://www.foxnews.com/world/2016/02/27/se-asi...</td>\n",
       "    </tr>\n",
       "    <tr>\n",
       "      <th>1</th>\n",
       "      <td>Look What We Have Here: Hunter Biden Still a B...</td>\n",
       "      <td>https://townhall.com/tipsheet/mattvespa/2020/0...</td>\n",
       "    </tr>\n",
       "    <tr>\n",
       "      <th>2</th>\n",
       "      <td>Sensing vulnerability, China turns up the heat...</td>\n",
       "      <td>https://www.washingtonexaminer.com/opinion/sen...</td>\n",
       "    </tr>\n",
       "    <tr>\n",
       "      <th>3</th>\n",
       "      <td>Hong Kong Protesters and Activists Say Withdra...</td>\n",
       "      <td>https://www.theepochtimes.com/hong-kong-protes...</td>\n",
       "    </tr>\n",
       "    <tr>\n",
       "      <th>4</th>\n",
       "      <td>Did Fauci contradict Pompeo on whether coronav...</td>\n",
       "      <td>https://www.theblaze.com/news/fauci-pompeo-con...</td>\n",
       "    </tr>\n",
       "  </tbody>\n",
       "</table>\n",
       "</div>"
      ],
      "text/plain": [
       "                                               title  \\\n",
       "0  SE Asian foreign ministers voice concerns on S...   \n",
       "1  Look What We Have Here: Hunter Biden Still a B...   \n",
       "2  Sensing vulnerability, China turns up the heat...   \n",
       "3  Hong Kong Protesters and Activists Say Withdra...   \n",
       "4  Did Fauci contradict Pompeo on whether coronav...   \n",
       "\n",
       "                                                link  \n",
       "0  http://www.foxnews.com/world/2016/02/27/se-asi...  \n",
       "1  https://townhall.com/tipsheet/mattvespa/2020/0...  \n",
       "2  https://www.washingtonexaminer.com/opinion/sen...  \n",
       "3  https://www.theepochtimes.com/hong-kong-protes...  \n",
       "4  https://www.theblaze.com/news/fauci-pompeo-con...  "
      ]
     },
     "execution_count": 7,
     "metadata": {},
     "output_type": "execute_result"
    }
   ],
   "source": [
    "pickle1 = \"./Pickles/china_right.pickle\"\n",
    "pickle2 = \"./Pickles/coro_right.pickle\"\n",
    "pickle3 = \"./Pickles/ele_right.pickle\"\n",
    "\n",
    "with open(pickle1, 'rb') as data:\n",
    "    df1 = pickle.load(data)\n",
    "\n",
    "with open(pickle2, 'rb') as data:\n",
    "    df2 = pickle.load(data)\n",
    "with open(pickle3, 'rb') as data:\n",
    "    df3 = pickle.load(data)\n",
    "df1 = pd.DataFrame(df1)\n",
    "df2 = pd.DataFrame(df2)\n",
    "df3 = pd.DataFrame(df3)\n",
    "\n",
    "print(len(df2)+len(df1)+len(df3))\n",
    "df1.head()"
   ]
  },
  {
   "cell_type": "code",
   "execution_count": 8,
   "metadata": {},
   "outputs": [
    {
     "name": "stdout",
     "output_type": "stream",
     "text": [
      "158\n"
     ]
    }
   ],
   "source": [
    "print(len(df1))"
   ]
  },
  {
   "cell_type": "code",
   "execution_count": null,
   "metadata": {
    "scrolled": true
   },
   "outputs": [
    {
     "name": "stdout",
     "output_type": "stream",
     "text": [
      "http://www.theblaze.com/stories/2016/08/05/trump-admits-he-was-wrong-about-seeing-u-s-hostage-plane-delivering-money-to-iran/ 170\n",
      "[]\n",
      "http://www.theblaze.com/stories/2016/06/01/trump-university-playbooks-unsealed-in-lawsuit-you-dont-sell-products-benefits-or-solutions-you-sell-feelings/ 175\n",
      "[]\n",
      "http://www.theblaze.com/stories/2015/03/22/ted-cruz-is-planning-to-take-the-white-house-and-hes-about-to-pull-a-move-that-leapfrogs-the-competition/ 185\n",
      "[]\n",
      "http://www.theblaze.com/stories/2015/11/17/rubio-goes-on-offensive-against-two-rival-gop-candidates-with-one-in-particular/ 190\n",
      "[]\n",
      "http://www.theblaze.com/stories/2016/03/03/sean-hannity-goes-scorched-earth-against-rubio/ 214\n",
      "[]\n",
      "http://www.theblaze.com/stories/2016/06/03/clinton-bashes-trump-the-u-s-is-trying-to-elect-a-president-not-a-dictator/ 217\n",
      "[]\n",
      "http://www.theblaze.com/stories/2015/08/25/jorge-ramos-escorted-out-of-press-conference-for-shouting-questions-at-trump-go-back-to-univision/ 233\n",
      "[]\n",
      "http://www.theblaze.com/stories/2014/09/09/is-the-next-generation-of-hispanic-voters-shifting-libertarian/ 259\n",
      "[]\n",
      "http://www.theblaze.com/stories/2016/04/19/its-impossible-to-catch-us-trump-wins-big-in-his-home-state-of-new-york/ 260\n",
      "[]\n",
      "http://www.theblaze.com/stories/2016/03/12/rubio-wins-republican-caucuses-in-washington-d-c-cruz-comes-in-last/ 266\n",
      "[]\n",
      "http://www.theblaze.com/stories/2016/05/04/trump-is-the-presumptive-nominee-so-where-do-never-trumpers-go-now-we-spoke-to-some-leading-voices/ 277\n",
      "[]\n",
      "http://www.theblaze.com/stories/2016/05/15/hillary-clinton-reveals-the-role-bill-clinton-would-have-in-her-administration/ 292\n",
      "[]\n",
      "http://www.theblaze.com/stories/2016/03/13/trump-looking-into-paying-legal-fees-of-man-who-punched-protester/ 310\n",
      "[]\n",
      "http://www.theblaze.com/stories/2016/10/09/no-handshake-clinton-and-trumps-awkward-debate-opening/ 314\n",
      "[]\n",
      "http://www.theblaze.com/stories/2016/02/03/donald-trump-threatens-to-sue-ted-cruz-for-voter-fraud-in-iowa-one-of-the-most-disgusting-things-ive-ever-seen/ 347\n",
      "[]\n",
      "http://www.theblaze.com/stories/2016/07/25/see-the-chant-that-broke-out-when-warren-spoke-in-support-of-clinton-at-the-dnc/ 350\n",
      "[]\n",
      "http://www.theblaze.com/stories/2016/04/23/krauthammer-its-hard-to-see-how-trump-is-denied-the-nomination-after-huge-new-york-win/ 356\n",
      "[]\n",
      "http://www.theblaze.com/stories/2016/10/09/enough-condoleezza-rice-adds-her-name-to-the-growing-list-of-republicans-calling-on-trump-to-step-aside/ 403\n",
      "[]\n",
      "http://www.theblaze.com/stories/2014/06/10/tone-deaf-contrived-cautious-mush-msnbc-panels-brutal-review-of-hillary-clintons-book/ 433\n",
      "[]\n",
      "http://www.theblaze.com/stories/2016/08/27/outrage-follows-trump-comment-on-shooting-death-of-nba-stars-cousin/ 440\n",
      "[]\n",
      "http://www.theblaze.com/stories/2015/12/14/rush-limbaugh-says-these-trump-statements-have-got-to-raise-red-flags-for-conservative-voters/ 457\n",
      "[]\n",
      "http://www.theblaze.com/stories/2016/04/17/see-stephanopoulos-reaction-when-clinton-claims-shes-ignorant-about-911-legislation/ 466\n",
      "[]\n",
      "http://www.theblaze.com/stories/2016/03/20/trump-supporter-charged-with-assault-following-scuffle-at-arizona-rally/ 477\n",
      "[]\n",
      "http://www.theblaze.com/stories/2016/01/06/exclusive-inside-ted-cruzs-2016-campaign-playbook-and-why-it-just-might-work/ 521\n",
      "[]\n",
      "http://www.theblaze.com/stories/2016/05/26/trump-formally-clinches-republican-nomination-for-president/?utm_source=Sailthru&utm_medium=email&utm_campaign=Firewire%20HORIZON%205-26-2016%20final&utm_term=Firewire 557\n",
      "[]\n",
      "http://www.theblaze.com/stories/2015/09/19/bernie-sanders-says-donald-trump-appeals-to-baser-instincts-of-xenophobia-and-racism-among-voters/ 570\n",
      "[]\n",
      "http://nation.foxnews.com/paul-ryan/2012/08/30/kohn-paul-ryan-s-speech-3-words#ixzz252ywxZIi 593\n",
      "[]\n",
      "http://www.theblaze.com/stories/2015/09/21/new-poll-trump-still-leads-but-hes-lost-ground-and-two-other-republicans-are-surging/ 596\n",
      "[]\n",
      "http://www.theblaze.com/stories/2013/03/21/even-the-ny-times-is-taking-notice-of-viral-conservative-star-ben-carson/ 611\n",
      "[]\n",
      "http://www.theblaze.com/stories/2015/04/15/fox-news-host-megyn-kelly-grills-dnc-chair-on-abortion-position-can-you-answer-that-question/ 614\n",
      "[]\n",
      "http://www.theblaze.com/stories/2016/10/15/wikileaks-emails-clinton-campaign-once-asked-bill-clinton-to-cancel-speech-over-fear-theyd-look-too-cozy-with-wall-street/ 624\n",
      "[]\n",
      "https://www.washingtonexaminer.com/opinion/mondays-federal-court-ruling-may-just-give-democrats-the-house 628\n",
      "628 https://www.washingtonexaminer.com/opinion/mondays-federal-court-ruling-may-just-give-democrats-the-house\n",
      "[]\n",
      "http://www.theblaze.com/stories/2016/01/27/read-letter-ted-cruz-just-sent-donald-trump-formally-inviting-him-to-one-on-one-debate/ 634\n",
      "[]\n",
      "https://www.washingtonexaminer.com/opinion/joe-biden-fails-to-lead-from-his-basement-during-coronavirus 642\n",
      "642 https://www.washingtonexaminer.com/opinion/joe-biden-fails-to-lead-from-his-basement-during-coronavirus\n",
      "[]\n",
      "http://www.theblaze.com/stories/2015/12/20/sanders-campaign-suspends-two-more-staffers-after-clinton-data-breach/ 643\n",
      "[]\n",
      "http://www.theblaze.com/stories/2015/05/30/martin-omalley-launches-longshot-2016-challenge-to-hillarys-left/ 653\n"
     ]
    }
   ],
   "source": [
    "path1 = \"./dataset/conserve_right/txt_file/\" # central data\n",
    "path2 = \"elec_\"\n",
    "news = set()\n",
    "num = list()\n",
    "titles = []\n",
    "df = pd.DataFrame()\n",
    "dff = df3\n",
    "count = 0\n",
    "for i in range(160,len(dff)):\n",
    "    path = path1+path2 + str(i) + \".txt\"\n",
    "    if not os.path.isfile(path):\n",
    "        fp = open(path1+path2+str(i)+\".txt\", \"w\")\n",
    "        fp.write(\"s\")\n",
    "        fp.close()\n",
    "    with open(path, 'rb') as ff:\n",
    "        f = ff.read()\n",
    "    if not os.path.isfile(path) or len(f) == 0:\n",
    "        stories = \"\"\n",
    "        link = dff.loc[i]['link']\n",
    "        r = requests.get(link)\n",
    "        if link[:35] == \"https://www.washingtonexaminer.com/\":\n",
    "            print(i, link)\n",
    "        if r.status_code == requests.codes.ok:\n",
    "            soup = BeautifulSoup(r.text, 'html.parser')\n",
    "            stories = soup.find_all('p')\n",
    "        # Unifying the paragraphs\n",
    "        list_paragraphs = []\n",
    "        for s in stories:\n",
    "            list_paragraphs.append(s.getText())\n",
    "        print(list_paragraphs)\n",
    "        final_article = \" \".join(list_paragraphs)  \n",
    "        # Removing special characters\n",
    "        final_article = re.sub(\"\\\\xa0\",\"\", final_article)\n",
    "        final_article = re.sub(r\"[^a-zA-Z0-9]+\", ' ',final_article.lower())\n",
    "        #print(final_article)\n",
    "        fp = open(path1+path2+str(i)+\".txt\", \"w\")\n",
    "        fp.write(final_article)\n",
    "        fp.close()\n",
    "'''for filename in os.listdir(path):\n",
    "    title = filename.split('.')[0]\n",
    "    number = title.split('_')[1]\n",
    "    tt = title.split('_')[0]\n",
    "    if(tt == 'elec'):\n",
    "        num.append(int(number))'''\n",
    "    \n",
    "    #filename = path + filename\n",
    "    #tmp_count = len(news)\n",
    "    #with open(filename, \"r\") as file:\n",
    "    #    text = file.read()\n",
    "     #   news.add(text[:-100]) # remove repeated texts (writer info)\n",
    "      #  if tmp_count < len(news):\n",
    "       #     titles.append(title+text[:10])\n",
    "#lables = [\"central\" for i in range(len(news))]\n",
    "#df['Content'] = list(news)\n",
    "#df['Category'] = lables\n",
    "#df['Title'] = titles\n",
    "#df.head()\n",
    "num = sorted(num)\n",
    "count = 0\n",
    "\n",
    "for i in num:\n",
    "    if i != count:\n",
    "        print(i, count)\n",
    "        count +=2\n",
    "    else:\n",
    "        count +=1\n",
    "        \n",
    "        "
   ]
  },
  {
   "cell_type": "code",
   "execution_count": 10,
   "metadata": {},
   "outputs": [
    {
     "data": {
      "text/plain": [
       "35"
      ]
     },
     "execution_count": 10,
     "metadata": {},
     "output_type": "execute_result"
    }
   ],
   "source": [
    "len(\"https://www.washingtonexaminer.com/\")"
   ]
  },
  {
   "cell_type": "code",
   "execution_count": null,
   "metadata": {},
   "outputs": [],
   "source": []
  }
 ],
 "metadata": {
  "kernelspec": {
   "display_name": "Python 3",
   "language": "python",
   "name": "python3"
  },
  "language_info": {
   "codemirror_mode": {
    "name": "ipython",
    "version": 3
   },
   "file_extension": ".py",
   "mimetype": "text/x-python",
   "name": "python",
   "nbconvert_exporter": "python",
   "pygments_lexer": "ipython3",
   "version": "3.7.3"
  }
 },
 "nbformat": 4,
 "nbformat_minor": 2
}

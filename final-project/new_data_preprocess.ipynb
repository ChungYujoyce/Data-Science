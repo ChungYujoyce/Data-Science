{
 "cells": [
  {
   "cell_type": "code",
   "execution_count": 1,
   "metadata": {},
   "outputs": [],
   "source": [
    "import warnings\n",
    "warnings.filterwarnings(\"ignore\")\n",
    "import pandas as pd\n",
    "import matplotlib.pyplot as plt\n",
    "import pickle\n",
    "import seaborn as sns\n",
    "import os, sys\n",
    "import requests\n",
    "import pickle\n",
    "\n",
    "import requests\n",
    "from bs4 import BeautifulSoup\n",
    "import numpy as np\n",
    "import pandas as pd\n",
    "import re\n",
    "import time"
   ]
  },
  {
   "cell_type": "code",
   "execution_count": 2,
   "metadata": {},
   "outputs": [
    {
     "name": "stdout",
     "output_type": "stream",
     "text": [
      "3674\n"
     ]
    },
    {
     "data": {
      "text/html": [
       "<div>\n",
       "<style scoped>\n",
       "    .dataframe tbody tr th:only-of-type {\n",
       "        vertical-align: middle;\n",
       "    }\n",
       "\n",
       "    .dataframe tbody tr th {\n",
       "        vertical-align: top;\n",
       "    }\n",
       "\n",
       "    .dataframe thead th {\n",
       "        text-align: right;\n",
       "    }\n",
       "</style>\n",
       "<table border=\"1\" class=\"dataframe\">\n",
       "  <thead>\n",
       "    <tr style=\"text-align: right;\">\n",
       "      <th></th>\n",
       "      <th>title</th>\n",
       "      <th>link</th>\n",
       "    </tr>\n",
       "  </thead>\n",
       "  <tbody>\n",
       "    <tr>\n",
       "      <th>0</th>\n",
       "      <td>SE Asian foreign ministers voice concerns on S...</td>\n",
       "      <td>http://www.foxnews.com/world/2016/02/27/se-asi...</td>\n",
       "    </tr>\n",
       "    <tr>\n",
       "      <th>1</th>\n",
       "      <td>Look What We Have Here: Hunter Biden Still a B...</td>\n",
       "      <td>https://townhall.com/tipsheet/mattvespa/2020/0...</td>\n",
       "    </tr>\n",
       "    <tr>\n",
       "      <th>2</th>\n",
       "      <td>Sensing vulnerability, China turns up the heat...</td>\n",
       "      <td>https://www.washingtonexaminer.com/opinion/sen...</td>\n",
       "    </tr>\n",
       "    <tr>\n",
       "      <th>3</th>\n",
       "      <td>Hong Kong Protesters and Activists Say Withdra...</td>\n",
       "      <td>https://www.theepochtimes.com/hong-kong-protes...</td>\n",
       "    </tr>\n",
       "    <tr>\n",
       "      <th>4</th>\n",
       "      <td>Did Fauci contradict Pompeo on whether coronav...</td>\n",
       "      <td>https://www.theblaze.com/news/fauci-pompeo-con...</td>\n",
       "    </tr>\n",
       "  </tbody>\n",
       "</table>\n",
       "</div>"
      ],
      "text/plain": [
       "                                               title  \\\n",
       "0  SE Asian foreign ministers voice concerns on S...   \n",
       "1  Look What We Have Here: Hunter Biden Still a B...   \n",
       "2  Sensing vulnerability, China turns up the heat...   \n",
       "3  Hong Kong Protesters and Activists Say Withdra...   \n",
       "4  Did Fauci contradict Pompeo on whether coronav...   \n",
       "\n",
       "                                                link  \n",
       "0  http://www.foxnews.com/world/2016/02/27/se-asi...  \n",
       "1  https://townhall.com/tipsheet/mattvespa/2020/0...  \n",
       "2  https://www.washingtonexaminer.com/opinion/sen...  \n",
       "3  https://www.theepochtimes.com/hong-kong-protes...  \n",
       "4  https://www.theblaze.com/news/fauci-pompeo-con...  "
      ]
     },
     "execution_count": 2,
     "metadata": {},
     "output_type": "execute_result"
    }
   ],
   "source": [
    "pickle1 = \"./Pickles/china_right.pickle\"\n",
    "pickle2 = \"./Pickles/coro_right.pickle\"\n",
    "pickle3 = \"./Pickles/ele_right.pickle\"\n",
    "\n",
    "with open(pickle1, 'rb') as data:\n",
    "    df1 = pickle.load(data)\n",
    "\n",
    "with open(pickle2, 'rb') as data:\n",
    "    df2 = pickle.load(data)\n",
    "with open(pickle3, 'rb') as data:\n",
    "    df3 = pickle.load(data)\n",
    "df1 = pd.DataFrame(df1)\n",
    "df2 = pd.DataFrame(df2)\n",
    "df3 = pd.DataFrame(df3)\n",
    "\n",
    "print(len(df2)+len(df1)+len(df3))\n",
    "df1.head()"
   ]
  },
  {
   "cell_type": "code",
   "execution_count": 3,
   "metadata": {},
   "outputs": [
    {
     "name": "stdout",
     "output_type": "stream",
     "text": [
      "158\n"
     ]
    }
   ],
   "source": [
    "print(len(df1))"
   ]
  },
  {
   "cell_type": "code",
   "execution_count": 11,
   "metadata": {
    "scrolled": true
   },
   "outputs": [
    {
     "name": "stdout",
     "output_type": "stream",
     "text": [
      "628 https://www.washingtonexaminer.com/opinion/mondays-federal-court-ruling-may-just-give-democrats-the-house\n",
      "642 https://www.washingtonexaminer.com/opinion/joe-biden-fails-to-lead-from-his-basement-during-coronavirus\n",
      "777 https://www.washingtonexaminer.com/news/big-kahuna-economy-positions-trump-for-victory-in-2020\n",
      "787 https://www.washingtonexaminer.com/news/remarkably-inclusive-and-frankly-low-bar-dnc-chairman-justifies-all-white-debate-stage\n",
      "1074 https://www.washingtonexaminer.com/news/bloomberg-clinton-ticket-rumors-trample-over-controversies-threatening-ascendant-campaign\n",
      "1101 https://www.washingtonexaminer.com/news/lindsey-graham-fbi-relied-too-heavily-on-garbage-trump-dossier-to-surveil-carter-page\n",
      "1102 https://www.washingtonexaminer.com/news/amy-klobuchar-ending-presidential-bid\n",
      "1162 https://www.washingtonexaminer.com/news/campaigns/democrats-could-pull-off-another-special-election-upset-in-this-historically-republican-ohio-congressional-district\n",
      "1268 https://www.washingtonexaminer.com/news/twitter-rules-white-house-official-pushed-manipulated-video-of-biden\n",
      "1569 https://www.washingtonexaminer.com/opinion/columnists/byron-york-two-nights-two-very-different-democratic-debates-and-a-deepening-progressive-centrist-split\n",
      "1629 https://www.washingtonexaminer.com/news/video-of-trump-saying-dnc-should-be-ashamed-for-getting-hacked-resurfaces-after-nrcc-hack-revealed\n",
      "1635 https://www.washingtonexaminer.com/news/mutual-assistance-operation-soros-says-facebook-is-trying-to-reelect-trump\n",
      "1676 https://www.washingtonexaminer.com/news/trump-slams-puerto-rican-governor-amid-calls-for-his-resignation\n",
      "2011 https://www.washingtonexaminer.com/news/campaigns/analysis-bloomberg-engaged-in-corporate-takeover-of-the-democratic-party\n",
      "2380 https://www.washingtonexaminer.com/news/transgender-equality-is-the-civil-rights-issue-of-our-time-biden-capitalizes-on-bernie-sanders-joe-rogan-blowback\n",
      "2607 https://www.washingtonexaminer.com/policy/courts/supreme-court-rejects-conservative-groups-request-not-to-reveal-donors\n",
      "2659 https://www.washingtonexaminer.com/news/campaigns/donald-trump-jr-ramps-up-his-political-activity-for-the-midterms\n"
     ]
    }
   ],
   "source": [
    "path1 = \"./dataset/conserve_right/txt_file/\" # central data\n",
    "path2 = \"elec_\"\n",
    "news = set()\n",
    "num = list()\n",
    "titles = []\n",
    "df = pd.DataFrame()\n",
    "dff = df3\n",
    "count = 0\n",
    "for i in range(160,len(dff)):\n",
    "    path = path1+path2 + str(i) + \".txt\"\n",
    "    if not os.path.isfile(path):\n",
    "        fp = open(path1+path2+str(i)+\".txt\", \"w\")\n",
    "        fp.write(\"s\")\n",
    "        fp.close()\n",
    "    with open(path, 'rb') as ff:\n",
    "        f = ff.read()\n",
    "    if not os.path.isfile(path) or len(f) == 0:\n",
    "        stories = \"\"\n",
    "        link = dff.loc[i]['link']\n",
    "        r = requests.get(link)\n",
    "        if link[:35] == \"https://www.washingtonexaminer.com/\":\n",
    "            print(i, link)\n",
    "        if r.status_code == requests.codes.ok:\n",
    "            soup = BeautifulSoup(r.text, 'html.parser')\n",
    "            stories = soup.find_all('p')\n",
    "        # Unifying the paragraphs\n",
    "        list_paragraphs = []\n",
    "        for s in stories:\n",
    "            list_paragraphs.append(s.getText())\n",
    "        #print(list_paragraphs)\n",
    "        final_article = \" \".join(list_paragraphs)  \n",
    "        # Removing special characters\n",
    "        final_article = re.sub(\"\\\\xa0\",\"\", final_article)\n",
    "        final_article = re.sub(r\"[^a-zA-Z0-9]+\", ' ',final_article.lower())\n",
    "        #print(final_article)\n",
    "        fp = open(path1+path2+str(i)+\".txt\", \"w\")\n",
    "        fp.write(final_article)\n",
    "        fp.close()\n",
    "'''for filename in os.listdir(path):\n",
    "    title = filename.split('.')[0]\n",
    "    number = title.split('_')[1]\n",
    "    tt = title.split('_')[0]\n",
    "    if(tt == 'elec'):\n",
    "        num.append(int(number))'''\n",
    "    \n",
    "    #filename = path + filename\n",
    "    #tmp_count = len(news)\n",
    "    #with open(filename, \"r\") as file:\n",
    "    #    text = file.read()\n",
    "     #   news.add(text[:-100]) # remove repeated texts (writer info)\n",
    "      #  if tmp_count < len(news):\n",
    "       #     titles.append(title+text[:10])\n",
    "#lables = [\"central\" for i in range(len(news))]\n",
    "#df['Content'] = list(news)\n",
    "#df['Category'] = lables\n",
    "#df['Title'] = titles\n",
    "#df.head()\n",
    "num = sorted(num)\n",
    "count = 0\n",
    "\n",
    "for i in num:\n",
    "    if i != count:\n",
    "        print(i, count)\n",
    "        count +=2\n",
    "    else:\n",
    "        count +=1\n",
    "        \n",
    "        "
   ]
  },
  {
   "cell_type": "code",
   "execution_count": 5,
   "metadata": {},
   "outputs": [
    {
     "data": {
      "text/plain": [
       "35"
      ]
     },
     "execution_count": 5,
     "metadata": {},
     "output_type": "execute_result"
    }
   ],
   "source": [
    "len(\"https://www.washingtonexaminer.com/\")"
   ]
  },
  {
   "cell_type": "code",
   "execution_count": 12,
   "metadata": {},
   "outputs": [
    {
     "name": "stdout",
     "output_type": "stream",
     "text": [
      "451\n"
     ]
    }
   ],
   "source": [
    "path1 = \"./dataset/central/txt_file/\" # central data\n",
    "path2 = \"elec_\"\n",
    "news = set()\n",
    "num = list()\n",
    "titles = []\n",
    "df = pd.DataFrame()\n",
    "dff = df3\n",
    "count = 0\n",
    "for i in range(len(dff)):\n",
    "    path = path1+path2 + str(i) + \".txt\"\n",
    "    if not os.path.isfile(path):\n",
    "        fp = open(path1+path2+str(i)+\".txt\", \"w\")\n",
    "        fp.write(\"s\")\n",
    "        fp.close()\n",
    "    with open(path, 'rb') as ff:\n",
    "        f = ff.read()\n",
    "    if not os.path.isfile(path) or len(f) == 0:\n",
    "        count +=1\n",
    "        \n",
    "print(count)"
   ]
  },
  {
   "cell_type": "code",
   "execution_count": null,
   "metadata": {},
   "outputs": [],
   "source": []
  }
 ],
 "metadata": {
  "kernelspec": {
   "display_name": "Python 3",
   "language": "python",
   "name": "python3"
  },
  "language_info": {
   "codemirror_mode": {
    "name": "ipython",
    "version": 3
   },
   "file_extension": ".py",
   "mimetype": "text/x-python",
   "name": "python",
   "nbconvert_exporter": "python",
   "pygments_lexer": "ipython3",
   "version": "3.7.3"
  }
 },
 "nbformat": 4,
 "nbformat_minor": 2
}

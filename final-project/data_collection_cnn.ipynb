{
 "cells": [
  {
   "cell_type": "code",
   "execution_count": 1,
   "metadata": {},
   "outputs": [],
   "source": [
    "import pandas as pd\n",
    "import numpy as np\n",
    "import matplotlib.pyplot as plt"
   ]
  },
  {
   "cell_type": "code",
   "execution_count": 4,
   "metadata": {},
   "outputs": [
    {
     "data": {
      "text/plain": [
       "26"
      ]
     },
     "execution_count": 4,
     "metadata": {},
     "output_type": "execute_result"
    }
   ],
   "source": [
    "df1 = pd.read_csv('./dataset/free_left/cnn1.csv')\n",
    "df2 = pd.read_csv('./dataset/free_left/cnn2.csv')\n",
    "df3 = pd.read_csv('./dataset/free_left/cnn3.csv')\n",
    "len(\"https://www.cnn.com/videos\")"
   ]
  },
  {
   "cell_type": "code",
   "execution_count": 5,
   "metadata": {},
   "outputs": [
    {
     "name": "stdout",
     "output_type": "stream",
     "text": [
      "530 530\n"
     ]
    }
   ],
   "source": [
    "links = []\n",
    "titles = []\n",
    "def get_title_and_link(df):\n",
    "    dff = pd.DataFrame()\n",
    "    for line in range(len(df)):\n",
    "        link = df.loc[line]['link-href']\n",
    "        if link[:26] != \"https://www.cnn.com/videos\":   \n",
    "            links.append(df.loc[line]['link-href'])\n",
    "            titles.append(df.loc[line]['link'])\n",
    "\n",
    "get_title_and_link(df1)\n",
    "get_title_and_link(df2)\n",
    "get_title_and_link(df3)\n",
    "\n",
    "print(len(links),len(titles))"
   ]
  },
  {
   "cell_type": "code",
   "execution_count": 6,
   "metadata": {},
   "outputs": [],
   "source": [
    "import requests\n",
    "from bs4 import BeautifulSoup\n",
    "import numpy as np\n",
    "import pandas as pd\n",
    "import re\n",
    "import time"
   ]
  },
  {
   "cell_type": "code",
   "execution_count": 8,
   "metadata": {},
   "outputs": [],
   "source": [
    "# Empty lists for content, links and titles\n",
    "news_contents = []\n",
    "final_article = \"\"\n",
    "count = 0\n",
    "for link in links:\n",
    "    # Request\n",
    "    #print(link)\n",
    "    r = requests.get(link)\n",
    "    if r.status_code == requests.codes.ok:\n",
    "        soup = BeautifulSoup(r.text, 'html.parser')\n",
    "        stories = soup.find_all('div',{'class': 'zn-body__paragraph'})\n",
    "    # Unifying the paragraphs\n",
    "    list_paragraphs = []\n",
    "    for s in stories:\n",
    "        list_paragraphs.append(s.getText())\n",
    "    #print(list_paragraphs)\n",
    "    final_article = \" \".join(list_paragraphs)  \n",
    "    # Removing special characters\n",
    "    final_article = re.sub(\"\\\\xa0\",\"\", final_article)\n",
    "    final_article = re.sub(r\"[^a-zA-Z0-9]+\", ' ',final_article.lower())\n",
    "    \n",
    "    fp = open(\"./dataset/free_left/txt_file/cnn_\"+str(count)+\".txt\", \"w\")\n",
    "    fp.write(final_article[200:-200])\n",
    "    fp.close()\n",
    "    count += 1\n"
   ]
  },
  {
   "cell_type": "code",
   "execution_count": null,
   "metadata": {},
   "outputs": [],
   "source": []
  }
 ],
 "metadata": {
  "kernelspec": {
   "display_name": "Python 3",
   "language": "python",
   "name": "python3"
  },
  "language_info": {
   "codemirror_mode": {
    "name": "ipython",
    "version": 3
   },
   "file_extension": ".py",
   "mimetype": "text/x-python",
   "name": "python",
   "nbconvert_exporter": "python",
   "pygments_lexer": "ipython3",
   "version": "3.7.3"
  }
 },
 "nbformat": 4,
 "nbformat_minor": 2
}
